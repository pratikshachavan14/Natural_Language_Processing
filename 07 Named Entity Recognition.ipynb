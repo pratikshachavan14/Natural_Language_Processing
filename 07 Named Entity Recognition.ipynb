{
 "cells": [
  {
   "cell_type": "code",
   "execution_count": 1,
   "id": "85dc5564-9e47-4e6a-a95f-69a49c345ea5",
   "metadata": {
    "scrolled": true
   },
   "outputs": [],
   "source": [
    "#!python -m spacy download en_core_web_sm"
   ]
  },
  {
   "cell_type": "code",
   "execution_count": 2,
   "id": "2b5da2ba-3019-4bd1-bf9d-f92fba17797f",
   "metadata": {},
   "outputs": [],
   "source": [
    "import spacy\n",
    "from spacy import displacy"
   ]
  },
  {
   "cell_type": "code",
   "execution_count": 3,
   "id": "4003f21e-389d-4b8a-a211-99e599c30253",
   "metadata": {},
   "outputs": [
    {
     "data": {
      "text/plain": [
       "(Mark Zukerber, Rishi, Monday 6th June 2024, 10 am, $3 Trillion, Mumbai)"
      ]
     },
     "execution_count": 3,
     "metadata": {},
     "output_type": "execute_result"
    }
   ],
   "source": [
    "nlp = spacy.load('en_core_web_sm')\n",
    "sent = nlp('Mark Zukerber will meet Rishi on Monday 6th June 2024, 10 am for $3 Trillion deal at Mumbai')\n",
    "sent.ents"
   ]
  },
  {
   "cell_type": "code",
   "execution_count": 4,
   "id": "8a06782e-16e9-4e13-9906-ca4c761a379a",
   "metadata": {},
   "outputs": [
    {
     "name": "stdout",
     "output_type": "stream",
     "text": [
      "Mark Zukerber --> PERSON\n",
      "Rishi --> PERSON\n",
      "Monday 6th June 2024 --> DATE\n",
      "10 am --> TIME\n",
      "$3 Trillion --> MONEY\n",
      "Mumbai --> GPE\n"
     ]
    }
   ],
   "source": [
    "for ent in sent.ents:\n",
    "    print(ent.text,'-->', ent.label_)"
   ]
  },
  {
   "cell_type": "code",
   "execution_count": 5,
   "id": "7aba0a6b-5b76-49f9-a599-079d7129b6aa",
   "metadata": {},
   "outputs": [
    {
     "data": {
      "text/plain": [
       "'ISRO was previously known as the Indian National Committee for Space Research (INCOSPAR), set up under Jawaharlal Nehru on the suggestions of Dr. Vikram Sarabhai in 1962 recognising the need for space research.'"
      ]
     },
     "execution_count": 5,
     "metadata": {},
     "output_type": "execute_result"
    }
   ],
   "source": [
    "raw_text = 'ISRO was previously known as the Indian National Committee for Space Research (INCOSPAR), set up under Jawaharlal Nehru on the suggestions of Dr. Vikram Sarabhai in 1962 recognising the need for space research.'\n",
    "raw_text"
   ]
  },
  {
   "cell_type": "code",
   "execution_count": 6,
   "id": "94802686-a227-4298-9cbc-233b7f7fa6be",
   "metadata": {},
   "outputs": [
    {
     "name": "stdout",
     "output_type": "stream",
     "text": [
      "the Indian National Committee for Space Research (INCOSPAR --> ORG\n",
      "Jawaharlal --> GPE\n",
      "Vikram Sarabhai --> PERSON\n",
      "1962 --> DATE\n"
     ]
    }
   ],
   "source": [
    "sent1 = nlp(raw_text)\n",
    "\n",
    "for ent in sent1.ents:\n",
    "    print(ent.text,'-->', ent.label_)"
   ]
  },
  {
   "cell_type": "code",
   "execution_count": 7,
   "id": "8f75efc4-b5b0-438f-a1f0-2be835ee0b96",
   "metadata": {},
   "outputs": [
    {
     "data": {
      "text/plain": [
       "\"Alaska is the largest U.S. state by area, comprising more total area than the next three largest states of Texas, \\nCalifornia and Montana combined, and is the seventh-largest subnational division in the world. \\nIt is the third-least populous and most sparsely populated U.S. state, but is, with a population of 736,081 as of 2020, \\nthe continent's most populous territory located mostly north of the 60th parallel, \\nwith more than quadruple the combined populations of Northern Canada and Greenland.\""
      ]
     },
     "execution_count": 7,
     "metadata": {},
     "output_type": "execute_result"
    }
   ],
   "source": [
    "raw_text2 = \"\"\"Alaska is the largest U.S. state by area, comprising more total area than the next three largest states of Texas, \n",
    "California and Montana combined, and is the seventh-largest subnational division in the world. \n",
    "It is the third-least populous and most sparsely populated U.S. state, but is, with a population of 736,081 as of 2020, \n",
    "the continent's most populous territory located mostly north of the 60th parallel, \n",
    "with more than quadruple the combined populations of Northern Canada and Greenland.\"\"\"\n",
    "\n",
    "raw_text2"
   ]
  },
  {
   "cell_type": "code",
   "execution_count": 8,
   "id": "45856bf4-0d2e-433a-bde7-d80010066fb1",
   "metadata": {},
   "outputs": [
    {
     "name": "stdout",
     "output_type": "stream",
     "text": [
      "Alaska --> GPE\n",
      "U.S. --> GPE\n",
      "three --> CARDINAL\n",
      "Texas --> GPE\n",
      "California --> GPE\n",
      "Montana --> GPE\n",
      "seventh --> ORDINAL\n",
      "third --> ORDINAL\n",
      "U.S. --> GPE\n",
      "736,081 --> CARDINAL\n",
      "2020 --> DATE\n",
      "60th --> ORDINAL\n",
      "Northern Canada --> ORG\n",
      "Greenland --> GPE\n"
     ]
    }
   ],
   "source": [
    "sent2 = nlp(raw_text2)\n",
    "\n",
    "for ent in sent2.ents:\n",
    "    print(ent.text,'-->', ent.label_)"
   ]
  },
  {
   "cell_type": "code",
   "execution_count": 9,
   "id": "982b1489-45c1-40ce-8ab3-34a6ff441157",
   "metadata": {},
   "outputs": [
    {
     "data": {
      "text/plain": [
       "'Countries, cities, states'"
      ]
     },
     "execution_count": 9,
     "metadata": {},
     "output_type": "execute_result"
    }
   ],
   "source": [
    "spacy.explain('GPE')"
   ]
  },
  {
   "cell_type": "code",
   "execution_count": 10,
   "id": "bf417297-0383-4871-983e-747f22ca8c6a",
   "metadata": {},
   "outputs": [
    {
     "data": {
      "text/plain": [
       "'Numerals that do not fall under another type'"
      ]
     },
     "execution_count": 10,
     "metadata": {},
     "output_type": "execute_result"
    }
   ],
   "source": [
    "spacy.explain('CARDINAL')"
   ]
  },
  {
   "cell_type": "code",
   "execution_count": 11,
   "id": "96a59625-1a29-4ad8-89c2-ac776bf002fa",
   "metadata": {},
   "outputs": [
    {
     "data": {
      "text/plain": [
       "'\"first\", \"second\", etc.'"
      ]
     },
     "execution_count": 11,
     "metadata": {},
     "output_type": "execute_result"
    }
   ],
   "source": [
    "spacy.explain('ORDINAL')"
   ]
  },
  {
   "cell_type": "code",
   "execution_count": 12,
   "id": "5dce794b-1542-4c8e-8cf9-cb66552caf05",
   "metadata": {},
   "outputs": [
    {
     "data": {
      "text/plain": [
       "'Nationalities or religious or political groups'"
      ]
     },
     "execution_count": 12,
     "metadata": {},
     "output_type": "execute_result"
    }
   ],
   "source": [
    "spacy.explain('NORP')"
   ]
  },
  {
   "cell_type": "markdown",
   "id": "c85df8b0-ce3a-48d6-903e-f3af31950592",
   "metadata": {},
   "source": [
    "## Display the NER in interactive way"
   ]
  },
  {
   "cell_type": "code",
   "execution_count": 13,
   "id": "9b6e8272-9ad6-40ab-8b0f-cd57c578e8cf",
   "metadata": {},
   "outputs": [
    {
     "data": {
      "text/html": [
       "<span class=\"tex2jax_ignore\"><div class=\"entities\" style=\"line-height: 2.5; direction: ltr\">\n",
       "<mark class=\"entity\" style=\"background: #aa9cfc; padding: 0.45em 0.6em; margin: 0 0.25em; line-height: 1; border-radius: 0.35em;\">\n",
       "    Mark Zukerber\n",
       "    <span style=\"font-size: 0.8em; font-weight: bold; line-height: 1; border-radius: 0.35em; vertical-align: middle; margin-left: 0.5rem\">PERSON</span>\n",
       "</mark>\n",
       " will meet \n",
       "<mark class=\"entity\" style=\"background: #aa9cfc; padding: 0.45em 0.6em; margin: 0 0.25em; line-height: 1; border-radius: 0.35em;\">\n",
       "    Rishi\n",
       "    <span style=\"font-size: 0.8em; font-weight: bold; line-height: 1; border-radius: 0.35em; vertical-align: middle; margin-left: 0.5rem\">PERSON</span>\n",
       "</mark>\n",
       " on \n",
       "<mark class=\"entity\" style=\"background: #bfe1d9; padding: 0.45em 0.6em; margin: 0 0.25em; line-height: 1; border-radius: 0.35em;\">\n",
       "    Monday 6th June 2024\n",
       "    <span style=\"font-size: 0.8em; font-weight: bold; line-height: 1; border-radius: 0.35em; vertical-align: middle; margin-left: 0.5rem\">DATE</span>\n",
       "</mark>\n",
       ", \n",
       "<mark class=\"entity\" style=\"background: #bfe1d9; padding: 0.45em 0.6em; margin: 0 0.25em; line-height: 1; border-radius: 0.35em;\">\n",
       "    10 am\n",
       "    <span style=\"font-size: 0.8em; font-weight: bold; line-height: 1; border-radius: 0.35em; vertical-align: middle; margin-left: 0.5rem\">TIME</span>\n",
       "</mark>\n",
       " for \n",
       "<mark class=\"entity\" style=\"background: #e4e7d2; padding: 0.45em 0.6em; margin: 0 0.25em; line-height: 1; border-radius: 0.35em;\">\n",
       "    $3 Trillion\n",
       "    <span style=\"font-size: 0.8em; font-weight: bold; line-height: 1; border-radius: 0.35em; vertical-align: middle; margin-left: 0.5rem\">MONEY</span>\n",
       "</mark>\n",
       " deal at \n",
       "<mark class=\"entity\" style=\"background: #feca74; padding: 0.45em 0.6em; margin: 0 0.25em; line-height: 1; border-radius: 0.35em;\">\n",
       "    Mumbai\n",
       "    <span style=\"font-size: 0.8em; font-weight: bold; line-height: 1; border-radius: 0.35em; vertical-align: middle; margin-left: 0.5rem\">GPE</span>\n",
       "</mark>\n",
       "</div></span>"
      ],
      "text/plain": [
       "<IPython.core.display.HTML object>"
      ]
     },
     "metadata": {},
     "output_type": "display_data"
    }
   ],
   "source": [
    "displacy.render(sent, style='ent', jupyter=True)"
   ]
  },
  {
   "cell_type": "code",
   "execution_count": 14,
   "id": "2cd9b037-6e14-4866-bcc0-01433662de9c",
   "metadata": {},
   "outputs": [
    {
     "data": {
      "text/html": [
       "<span class=\"tex2jax_ignore\"><div class=\"entities\" style=\"line-height: 2.5; direction: ltr\">ISRO was previously known as \n",
       "<mark class=\"entity\" style=\"background: #7aecec; padding: 0.45em 0.6em; margin: 0 0.25em; line-height: 1; border-radius: 0.35em;\">\n",
       "    the Indian National Committee for Space Research (INCOSPAR\n",
       "    <span style=\"font-size: 0.8em; font-weight: bold; line-height: 1; border-radius: 0.35em; vertical-align: middle; margin-left: 0.5rem\">ORG</span>\n",
       "</mark>\n",
       "), set up under \n",
       "<mark class=\"entity\" style=\"background: #feca74; padding: 0.45em 0.6em; margin: 0 0.25em; line-height: 1; border-radius: 0.35em;\">\n",
       "    Jawaharlal\n",
       "    <span style=\"font-size: 0.8em; font-weight: bold; line-height: 1; border-radius: 0.35em; vertical-align: middle; margin-left: 0.5rem\">GPE</span>\n",
       "</mark>\n",
       " Nehru on the suggestions of Dr. \n",
       "<mark class=\"entity\" style=\"background: #aa9cfc; padding: 0.45em 0.6em; margin: 0 0.25em; line-height: 1; border-radius: 0.35em;\">\n",
       "    Vikram Sarabhai\n",
       "    <span style=\"font-size: 0.8em; font-weight: bold; line-height: 1; border-radius: 0.35em; vertical-align: middle; margin-left: 0.5rem\">PERSON</span>\n",
       "</mark>\n",
       " in \n",
       "<mark class=\"entity\" style=\"background: #bfe1d9; padding: 0.45em 0.6em; margin: 0 0.25em; line-height: 1; border-radius: 0.35em;\">\n",
       "    1962\n",
       "    <span style=\"font-size: 0.8em; font-weight: bold; line-height: 1; border-radius: 0.35em; vertical-align: middle; margin-left: 0.5rem\">DATE</span>\n",
       "</mark>\n",
       " recognising the need for space research.</div></span>"
      ],
      "text/plain": [
       "<IPython.core.display.HTML object>"
      ]
     },
     "metadata": {},
     "output_type": "display_data"
    }
   ],
   "source": [
    "displacy.render(sent1, style='ent', jupyter=True)"
   ]
  },
  {
   "cell_type": "code",
   "execution_count": 15,
   "id": "4266b399-6fdc-43fb-914f-0bb87a0fd4e9",
   "metadata": {},
   "outputs": [
    {
     "data": {
      "text/html": [
       "<span class=\"tex2jax_ignore\"><div class=\"entities\" style=\"line-height: 2.5; direction: ltr\">\n",
       "<mark class=\"entity\" style=\"background: #feca74; padding: 0.45em 0.6em; margin: 0 0.25em; line-height: 1; border-radius: 0.35em;\">\n",
       "    Alaska\n",
       "    <span style=\"font-size: 0.8em; font-weight: bold; line-height: 1; border-radius: 0.35em; vertical-align: middle; margin-left: 0.5rem\">GPE</span>\n",
       "</mark>\n",
       " is the largest \n",
       "<mark class=\"entity\" style=\"background: #feca74; padding: 0.45em 0.6em; margin: 0 0.25em; line-height: 1; border-radius: 0.35em;\">\n",
       "    U.S.\n",
       "    <span style=\"font-size: 0.8em; font-weight: bold; line-height: 1; border-radius: 0.35em; vertical-align: middle; margin-left: 0.5rem\">GPE</span>\n",
       "</mark>\n",
       " state by area, comprising more total area than the next \n",
       "<mark class=\"entity\" style=\"background: #e4e7d2; padding: 0.45em 0.6em; margin: 0 0.25em; line-height: 1; border-radius: 0.35em;\">\n",
       "    three\n",
       "    <span style=\"font-size: 0.8em; font-weight: bold; line-height: 1; border-radius: 0.35em; vertical-align: middle; margin-left: 0.5rem\">CARDINAL</span>\n",
       "</mark>\n",
       " largest states of \n",
       "<mark class=\"entity\" style=\"background: #feca74; padding: 0.45em 0.6em; margin: 0 0.25em; line-height: 1; border-radius: 0.35em;\">\n",
       "    Texas\n",
       "    <span style=\"font-size: 0.8em; font-weight: bold; line-height: 1; border-radius: 0.35em; vertical-align: middle; margin-left: 0.5rem\">GPE</span>\n",
       "</mark>\n",
       ", <br>\n",
       "<mark class=\"entity\" style=\"background: #feca74; padding: 0.45em 0.6em; margin: 0 0.25em; line-height: 1; border-radius: 0.35em;\">\n",
       "    California\n",
       "    <span style=\"font-size: 0.8em; font-weight: bold; line-height: 1; border-radius: 0.35em; vertical-align: middle; margin-left: 0.5rem\">GPE</span>\n",
       "</mark>\n",
       " and \n",
       "<mark class=\"entity\" style=\"background: #feca74; padding: 0.45em 0.6em; margin: 0 0.25em; line-height: 1; border-radius: 0.35em;\">\n",
       "    Montana\n",
       "    <span style=\"font-size: 0.8em; font-weight: bold; line-height: 1; border-radius: 0.35em; vertical-align: middle; margin-left: 0.5rem\">GPE</span>\n",
       "</mark>\n",
       " combined, and is the \n",
       "<mark class=\"entity\" style=\"background: #e4e7d2; padding: 0.45em 0.6em; margin: 0 0.25em; line-height: 1; border-radius: 0.35em;\">\n",
       "    seventh\n",
       "    <span style=\"font-size: 0.8em; font-weight: bold; line-height: 1; border-radius: 0.35em; vertical-align: middle; margin-left: 0.5rem\">ORDINAL</span>\n",
       "</mark>\n",
       "-largest subnational division in the world. <br>It is the \n",
       "<mark class=\"entity\" style=\"background: #e4e7d2; padding: 0.45em 0.6em; margin: 0 0.25em; line-height: 1; border-radius: 0.35em;\">\n",
       "    third\n",
       "    <span style=\"font-size: 0.8em; font-weight: bold; line-height: 1; border-radius: 0.35em; vertical-align: middle; margin-left: 0.5rem\">ORDINAL</span>\n",
       "</mark>\n",
       "-least populous and most sparsely populated \n",
       "<mark class=\"entity\" style=\"background: #feca74; padding: 0.45em 0.6em; margin: 0 0.25em; line-height: 1; border-radius: 0.35em;\">\n",
       "    U.S.\n",
       "    <span style=\"font-size: 0.8em; font-weight: bold; line-height: 1; border-radius: 0.35em; vertical-align: middle; margin-left: 0.5rem\">GPE</span>\n",
       "</mark>\n",
       " state, but is, with a population of \n",
       "<mark class=\"entity\" style=\"background: #e4e7d2; padding: 0.45em 0.6em; margin: 0 0.25em; line-height: 1; border-radius: 0.35em;\">\n",
       "    736,081\n",
       "    <span style=\"font-size: 0.8em; font-weight: bold; line-height: 1; border-radius: 0.35em; vertical-align: middle; margin-left: 0.5rem\">CARDINAL</span>\n",
       "</mark>\n",
       " as of \n",
       "<mark class=\"entity\" style=\"background: #bfe1d9; padding: 0.45em 0.6em; margin: 0 0.25em; line-height: 1; border-radius: 0.35em;\">\n",
       "    2020\n",
       "    <span style=\"font-size: 0.8em; font-weight: bold; line-height: 1; border-radius: 0.35em; vertical-align: middle; margin-left: 0.5rem\">DATE</span>\n",
       "</mark>\n",
       ", <br>the continent's most populous territory located mostly north of the \n",
       "<mark class=\"entity\" style=\"background: #e4e7d2; padding: 0.45em 0.6em; margin: 0 0.25em; line-height: 1; border-radius: 0.35em;\">\n",
       "    60th\n",
       "    <span style=\"font-size: 0.8em; font-weight: bold; line-height: 1; border-radius: 0.35em; vertical-align: middle; margin-left: 0.5rem\">ORDINAL</span>\n",
       "</mark>\n",
       " parallel, <br>with more than quadruple the combined populations of \n",
       "<mark class=\"entity\" style=\"background: #7aecec; padding: 0.45em 0.6em; margin: 0 0.25em; line-height: 1; border-radius: 0.35em;\">\n",
       "    Northern Canada\n",
       "    <span style=\"font-size: 0.8em; font-weight: bold; line-height: 1; border-radius: 0.35em; vertical-align: middle; margin-left: 0.5rem\">ORG</span>\n",
       "</mark>\n",
       " and \n",
       "<mark class=\"entity\" style=\"background: #feca74; padding: 0.45em 0.6em; margin: 0 0.25em; line-height: 1; border-radius: 0.35em;\">\n",
       "    Greenland\n",
       "    <span style=\"font-size: 0.8em; font-weight: bold; line-height: 1; border-radius: 0.35em; vertical-align: middle; margin-left: 0.5rem\">GPE</span>\n",
       "</mark>\n",
       ".</div></span>"
      ],
      "text/plain": [
       "<IPython.core.display.HTML object>"
      ]
     },
     "metadata": {},
     "output_type": "display_data"
    }
   ],
   "source": [
    "displacy.render(sent2, style='ent', jupyter=True)"
   ]
  },
  {
   "cell_type": "code",
   "execution_count": 16,
   "id": "d220634a-b009-4c1e-921b-40447bf9c722",
   "metadata": {},
   "outputs": [
    {
     "data": {
      "text/plain": [
       "\"\\nThe Chairman heads the board of directors and on June 26, 2014, Narayanaswami Srinivasan, the former president of BCCI, \\nwas announced as the first chairman of the council.\\nThe role of ICC president became a largely honorary position after the establishment of the chairman role and other changes made to the ICC constitution in 2014. \\nIt has been claimed that the 2014 changes have handed control to the 'Big Three' nations of England, India and Australia. \\nThe last ICC president was Zaheer Abbas , who was appointed in June 2015 following the resignation of Mustafa Kamal in April 2015. \\nWhen the post of ICC president was abolished in April 2016, Shashank Manohar, \\nwho replaced Srinivasan in October 2015, became the first independent elected chairman of the ICC.\""
      ]
     },
     "execution_count": 16,
     "metadata": {},
     "output_type": "execute_result"
    }
   ],
   "source": [
    "icc_text =\"\"\"\n",
    "The Chairman heads the board of directors and on June 26, 2014, Narayanaswami Srinivasan, the former president of BCCI, \n",
    "was announced as the first chairman of the council.\n",
    "The role of ICC president became a largely honorary position after the establishment of the chairman role and other changes made to the ICC constitution in 2014. \n",
    "It has been claimed that the 2014 changes have handed control to the 'Big Three' nations of England, India and Australia. \n",
    "The last ICC president was Zaheer Abbas , who was appointed in June 2015 following the resignation of Mustafa Kamal in April 2015. \n",
    "When the post of ICC president was abolished in April 2016, Shashank Manohar, \n",
    "who replaced Srinivasan in October 2015, became the first independent elected chairman of the ICC.\"\"\"\n",
    "icc_text"
   ]
  },
  {
   "cell_type": "code",
   "execution_count": 17,
   "id": "0e331985-0cb6-417d-b0a5-3ea061d19815",
   "metadata": {},
   "outputs": [
    {
     "name": "stdout",
     "output_type": "stream",
     "text": [
      "June 26, 2014 --> DATE\n",
      "Narayanaswami Srinivasan --> PERSON\n",
      "BCCI --> ORG\n",
      "first --> ORDINAL\n",
      "ICC --> ORG\n",
      "ICC --> ORG\n",
      "2014 --> DATE\n",
      "2014 --> DATE\n",
      "England --> GPE\n",
      "India --> GPE\n",
      "Australia --> GPE\n",
      "ICC --> ORG\n",
      "Zaheer Abbas --> PERSON\n",
      "June 2015 --> DATE\n",
      "Mustafa Kamal --> PERSON\n",
      "April 2015 --> DATE\n",
      "ICC --> ORG\n",
      "April 2016 --> DATE\n",
      "Shashank Manohar --> PERSON\n",
      "Srinivasan --> ORG\n",
      "October 2015 --> DATE\n",
      "first --> ORDINAL\n",
      "ICC --> ORG\n"
     ]
    }
   ],
   "source": [
    "sent4 = nlp(icc_text)\n",
    "\n",
    "for ent in sent4.ents:\n",
    "    print(ent.text,'-->', ent.label_)"
   ]
  },
  {
   "cell_type": "code",
   "execution_count": 18,
   "id": "9675c962-b107-4c68-b0c0-e280004b9c14",
   "metadata": {},
   "outputs": [
    {
     "name": "stdout",
     "output_type": "stream",
     "text": [
      "Narayanaswami Srinivasan --> PERSON\n",
      "Zaheer Abbas --> PERSON\n",
      "Mustafa Kamal --> PERSON\n",
      "Shashank Manohar --> PERSON\n"
     ]
    }
   ],
   "source": [
    "for ent in sent4.ents:\n",
    "    if ent.label_ == 'PERSON' :\n",
    "        print(ent.text,'-->', ent.label_)"
   ]
  }
 ],
 "metadata": {
  "kernelspec": {
   "display_name": "Python 3 (ipykernel)",
   "language": "python",
   "name": "python3"
  },
  "language_info": {
   "codemirror_mode": {
    "name": "ipython",
    "version": 3
   },
   "file_extension": ".py",
   "mimetype": "text/x-python",
   "name": "python",
   "nbconvert_exporter": "python",
   "pygments_lexer": "ipython3",
   "version": "3.11.7"
  }
 },
 "nbformat": 4,
 "nbformat_minor": 5
}
