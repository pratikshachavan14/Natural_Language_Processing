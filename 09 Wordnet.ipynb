{
 "cells": [
  {
   "cell_type": "code",
   "execution_count": 11,
   "id": "6439bcc2-3e4a-4c92-915d-144e684c8768",
   "metadata": {},
   "outputs": [],
   "source": [
    "from nltk.corpus import wordnet"
   ]
  },
  {
   "cell_type": "code",
   "execution_count": 17,
   "id": "691a2542-066a-4380-87e2-71a4a24ef5df",
   "metadata": {
    "scrolled": true
   },
   "outputs": [
    {
     "data": {
      "text/plain": [
       "[Synset('play.n.01'),\n",
       " Synset('play.n.02'),\n",
       " Synset('play.n.03'),\n",
       " Synset('maneuver.n.03'),\n",
       " Synset('play.n.05'),\n",
       " Synset('play.n.06'),\n",
       " Synset('bid.n.02'),\n",
       " Synset('play.n.08'),\n",
       " Synset('playing_period.n.01'),\n",
       " Synset('free_rein.n.01'),\n",
       " Synset('shimmer.n.01'),\n",
       " Synset('fun.n.02'),\n",
       " Synset('looseness.n.05'),\n",
       " Synset('play.n.14'),\n",
       " Synset('turn.n.03'),\n",
       " Synset('gambling.n.01'),\n",
       " Synset('play.n.17'),\n",
       " Synset('play.v.01'),\n",
       " Synset('play.v.02'),\n",
       " Synset('play.v.03'),\n",
       " Synset('act.v.03'),\n",
       " Synset('play.v.05'),\n",
       " Synset('play.v.06'),\n",
       " Synset('play.v.07'),\n",
       " Synset('act.v.05'),\n",
       " Synset('play.v.09'),\n",
       " Synset('play.v.10'),\n",
       " Synset('play.v.11'),\n",
       " Synset('play.v.12'),\n",
       " Synset('play.v.13'),\n",
       " Synset('play.v.14'),\n",
       " Synset('play.v.15'),\n",
       " Synset('play.v.16'),\n",
       " Synset('play.v.17'),\n",
       " Synset('play.v.18'),\n",
       " Synset('toy.v.02'),\n",
       " Synset('play.v.20'),\n",
       " Synset('dally.v.04'),\n",
       " Synset('play.v.22'),\n",
       " Synset('dally.v.01'),\n",
       " Synset('play.v.24'),\n",
       " Synset('act.v.10'),\n",
       " Synset('play.v.26'),\n",
       " Synset('bring.v.03'),\n",
       " Synset('play.v.28'),\n",
       " Synset('play.v.29'),\n",
       " Synset('bet.v.02'),\n",
       " Synset('play.v.31'),\n",
       " Synset('play.v.32'),\n",
       " Synset('play.v.33'),\n",
       " Synset('meet.v.10'),\n",
       " Synset('play.v.35')]"
      ]
     },
     "execution_count": 17,
     "metadata": {},
     "output_type": "execute_result"
    }
   ],
   "source": [
    "x = wordnet.synsets('play')\n",
    "x"
   ]
  },
  {
   "cell_type": "code",
   "execution_count": 16,
   "id": "5c22e3f3-2578-4fe9-9272-b2c37475f729",
   "metadata": {},
   "outputs": [
    {
     "data": {
      "text/plain": [
       "{'act',\n",
       " 'bet',\n",
       " 'bid',\n",
       " 'bring',\n",
       " 'dally',\n",
       " 'free_rein',\n",
       " 'fun',\n",
       " 'gambling',\n",
       " 'looseness',\n",
       " 'maneuver',\n",
       " 'meet',\n",
       " 'play',\n",
       " 'playing_period',\n",
       " 'shimmer',\n",
       " 'toy',\n",
       " 'turn'}"
      ]
     },
     "execution_count": 16,
     "metadata": {},
     "output_type": "execute_result"
    }
   ],
   "source": [
    "synonmys = set()\n",
    "\n",
    "for word in wordnet.synsets('play'):\n",
    "    synonmys.add(word.lemmas()[0].name())\n",
    "synonmys"
   ]
  },
  {
   "cell_type": "code",
   "execution_count": 18,
   "id": "8299ef40-75a1-4910-8de1-42d40eb22842",
   "metadata": {},
   "outputs": [
    {
     "name": "stdout",
     "output_type": "stream",
     "text": [
      "[Lemma('make.v.03.make'), Lemma('make.v.03.create')]\n",
      "[Lemma('create.v.02.create')]\n",
      "[Lemma('create.v.03.create')]\n",
      "[Lemma('create.v.04.create')]\n",
      "[Lemma('create.v.05.create'), Lemma('create.v.05.make')]\n",
      "[Lemma('produce.v.02.produce'), Lemma('produce.v.02.make'), Lemma('produce.v.02.create')]\n"
     ]
    }
   ],
   "source": [
    "synonmys = set()\n",
    "\n",
    "for word in wordnet.synsets('create'):\n",
    "    print(word.lemmas())"
   ]
  },
  {
   "cell_type": "code",
   "execution_count": 23,
   "id": "c3b74155-0056-482e-9f58-7ed1c56031dc",
   "metadata": {},
   "outputs": [
    {
     "data": {
      "text/plain": [
       "{'adept',\n",
       " 'beneficial',\n",
       " 'commodity',\n",
       " 'dear',\n",
       " 'dependable',\n",
       " 'effective',\n",
       " 'estimable',\n",
       " 'full',\n",
       " 'good',\n",
       " 'thoroughly',\n",
       " 'well'}"
      ]
     },
     "execution_count": 23,
     "metadata": {},
     "output_type": "execute_result"
    }
   ],
   "source": [
    "synonmys = set()\n",
    "\n",
    "for word in wordnet.synsets('good'):\n",
    "    synonmys.add(word.lemmas()[0].name())\n",
    "    #print(word.lemmas()[0].name())\n",
    "synonmys"
   ]
  },
  {
   "cell_type": "markdown",
   "id": "744e7d55-dfff-4dda-a627-142032462931",
   "metadata": {},
   "source": [
    "### Definiton and examples"
   ]
  },
  {
   "cell_type": "code",
   "execution_count": 22,
   "id": "55210399-7191-4ac2-8a76-62674ed544b1",
   "metadata": {},
   "outputs": [
    {
     "name": "stdout",
     "output_type": "stream",
     "text": [
      "Word and type:post.n.01\n",
      "Synonym:post\n",
      "The meaning of the word:the position where someone (as a guard or sentry) stands or is assigned to stand\n",
      "Example:['a soldier manned the entrance post', 'a sentry station']\n"
     ]
    }
   ],
   "source": [
    "synset = wordnet.synsets('post')\n",
    "print('Word and type:' + synset[0].name())\n",
    "print('Synonym:' + synset[0].lemmas()[0].name())\n",
    "print('The meaning of the word:' + synset[0].definition())\n",
    "print('Example:' + str(synset[0].examples()))"
   ]
  },
  {
   "cell_type": "code",
   "execution_count": 24,
   "id": "029ab9b8-d117-4828-8880-879051e85034",
   "metadata": {},
   "outputs": [
    {
     "name": "stdout",
     "output_type": "stream",
     "text": [
      "Word and type:position.n.06\n",
      "Synonym:position\n",
      "The meaning of the word:a job in an organization\n",
      "Example:['he occupied a post in the treasury']\n"
     ]
    }
   ],
   "source": [
    "synset = wordnet.synsets('post')\n",
    "print('Word and type:' + synset[2].name())\n",
    "print('Synonym:' + synset[2].lemmas()[0].name())\n",
    "print('The meaning of the word:' + synset[2].definition())\n",
    "print('Example:' + str(synset[2].examples()))"
   ]
  },
  {
   "cell_type": "code",
   "execution_count": 25,
   "id": "cdc9b9e7-49b5-45e7-84a2-a2f49dad3615",
   "metadata": {},
   "outputs": [
    {
     "name": "stdout",
     "output_type": "stream",
     "text": [
      "Word and type:post.n.06\n",
      "Synonym:Post\n",
      "The meaning of the word:United States female author who wrote a book and a syndicated newspaper column on etiquette (1872-1960)\n",
      "Example:[]\n"
     ]
    }
   ],
   "source": [
    "synset = wordnet.synsets('post')\n",
    "print('Word and type: ' + synset[5].name())\n",
    "print('Synonym: ' + synset[5].lemmas()[0].name())\n",
    "print('The meaning of the word: ' + synset[5].definition())\n",
    "print('Example: ' + str(synset[5].examples()))"
   ]
  },
  {
   "cell_type": "code",
   "execution_count": 26,
   "id": "e9060ca7-d1da-4153-bcd2-156e23d70633",
   "metadata": {},
   "outputs": [
    {
     "name": "stdout",
     "output_type": "stream",
     "text": [
      "Word and type: mail.n.04\n",
      "Synonym: mail\n",
      "The meaning of the word: any particular collection of letters or packages that is delivered\n",
      "Example: ['your mail is on the table', 'is there any post for me?', 'she was opening her post']\n"
     ]
    }
   ],
   "source": [
    "synset = wordnet.synsets('post')\n",
    "print('Word and type: ' + synset[7].name())\n",
    "print('Synonym: ' + synset[7].lemmas()[0].name())\n",
    "print('The meaning of the word: ' + synset[7].definition())\n",
    "print('Example: ' + str(synset[7].examples()))"
   ]
  },
  {
   "cell_type": "code",
   "execution_count": 27,
   "id": "c0416aa7-40d5-4883-8271-b90318224550",
   "metadata": {},
   "outputs": [
    {
     "data": {
      "text/plain": [
       "[Synset('post.n.01'),\n",
       " Synset('military_post.n.01'),\n",
       " Synset('position.n.06'),\n",
       " Synset('post.n.04'),\n",
       " Synset('post.n.05'),\n",
       " Synset('post.n.06'),\n",
       " Synset('post.n.07'),\n",
       " Synset('mail.n.04'),\n",
       " Synset('post.n.09'),\n",
       " Synset('mail.n.02'),\n",
       " Synset('post.n.11'),\n",
       " Synset('post.v.01'),\n",
       " Synset('post.v.02'),\n",
       " Synset('post.v.03'),\n",
       " Synset('station.v.01'),\n",
       " Synset('post.v.05'),\n",
       " Synset('post.v.06'),\n",
       " Synset('post.v.07'),\n",
       " Synset('post.v.08'),\n",
       " Synset('stake.v.03'),\n",
       " Synset('post.v.10'),\n",
       " Synset('mail.v.02'),\n",
       " Synset('post.v.12')]"
      ]
     },
     "execution_count": 27,
     "metadata": {},
     "output_type": "execute_result"
    }
   ],
   "source": [
    "synset"
   ]
  },
  {
   "cell_type": "code",
   "execution_count": 28,
   "id": "eceff424-d79f-41e4-ae1a-ed25aa2b8c40",
   "metadata": {},
   "outputs": [
    {
     "name": "stdout",
     "output_type": "stream",
     "text": [
      "sound.n.01\n",
      "sound.n.02\n",
      "sound.n.03\n",
      "sound.n.04\n",
      "audio.n.01\n",
      "phone.n.02\n",
      "strait.n.01\n",
      "sound.n.08\n",
      "sound.v.01\n",
      "sound.v.02\n",
      "sound.v.03\n",
      "sound.v.04\n",
      "voice.v.02\n",
      "sound.v.06\n",
      "fathom.v.02\n",
      "sound.a.01\n",
      "healthy.s.04\n",
      "sound.a.03\n",
      "good.s.17\n",
      "reasoned.s.01\n",
      "legal.s.03\n",
      "sound.s.07\n",
      "heavy.s.26\n",
      "sound.s.09\n"
     ]
    }
   ],
   "source": [
    "for word in wordnet.synsets('sound'):\n",
    "    print(word.name())"
   ]
  },
  {
   "cell_type": "code",
   "execution_count": 29,
   "id": "36cc05fe-16cc-4a7a-8e7c-cefb4f793ad4",
   "metadata": {},
   "outputs": [
    {
     "name": "stdout",
     "output_type": "stream",
     "text": [
      "sound.v.01\n",
      "sound.v.02\n",
      "sound.v.03\n",
      "sound.v.04\n",
      "voice.v.02\n",
      "sound.v.06\n",
      "fathom.v.02\n"
     ]
    }
   ],
   "source": [
    "for word in wordnet.synsets('sound', pos='v'):\n",
    "    print(word.name())"
   ]
  },
  {
   "cell_type": "code",
   "execution_count": 30,
   "id": "023a37da-9d4c-448f-9511-09195e306e5b",
   "metadata": {},
   "outputs": [
    {
     "name": "stdout",
     "output_type": "stream",
     "text": [
      "sound.n.01\n",
      "sound.n.02\n",
      "sound.n.03\n",
      "sound.n.04\n",
      "audio.n.01\n",
      "phone.n.02\n",
      "strait.n.01\n",
      "sound.n.08\n"
     ]
    }
   ],
   "source": [
    "for word in wordnet.synsets('sound', pos='n'):\n",
    "    print(word.name())"
   ]
  },
  {
   "cell_type": "code",
   "execution_count": null,
   "id": "97180dc4-c7bc-4b0f-8f15-738f7db266b6",
   "metadata": {},
   "outputs": [],
   "source": [
    "# Read a word from user and print all meanings of it.\n",
    "# Read a word from user and print all noun meanings of it."
   ]
  },
  {
   "cell_type": "code",
   "execution_count": 42,
   "id": "5b23214e-3429-4f2e-bb6e-8d931562d623",
   "metadata": {},
   "outputs": [
    {
     "name": "stdin",
     "output_type": "stream",
     "text": [
      "Enter word: play\n"
     ]
    },
    {
     "name": "stdout",
     "output_type": "stream",
     "text": [
      "play.n.01 --> a dramatic work intended for performance by actors on a stage\n",
      "play.n.02 --> a theatrical performance of a drama\n",
      "play.n.03 --> a preset plan of action in team sports\n",
      "maneuver.n.03 --> a deliberate coordinated movement requiring dexterity and skill\n",
      "play.n.05 --> a state in which action is feasible\n",
      "play.n.06 --> utilization or exercise\n",
      "bid.n.02 --> an attempt to get something\n",
      "play.n.08 --> activity by children that is guided more by imagination than by fixed rules\n",
      "playing_period.n.01 --> (in games or plays or other performances) the time during which play proceeds\n",
      "free_rein.n.01 --> the removal of constraints\n",
      "shimmer.n.01 --> a weak and tremulous light\n",
      "fun.n.02 --> verbal wit or mockery (often at another's expense but not to be taken seriously)\n",
      "looseness.n.05 --> movement or space for movement\n",
      "play.n.14 --> gay or light-hearted recreational activity for diversion or amusement\n",
      "turn.n.03 --> (game) the activity of doing something in an agreed succession\n",
      "gambling.n.01 --> the act of playing for stakes in the hope of winning (including the payment of a price for a chance to win a prize)\n",
      "play.n.17 --> the act using a sword (or other weapon) vigorously and skillfully\n"
     ]
    }
   ],
   "source": [
    "wt = input(\"Enter word:\")\n",
    "\n",
    "for word in wordnet.synsets(wt, pos='n'):\n",
    "    print(word.name(),'-->', word.definition())"
   ]
  },
  {
   "cell_type": "code",
   "execution_count": 41,
   "id": "ddadf28f-8556-4867-982e-b6a099c5b08b",
   "metadata": {},
   "outputs": [
    {
     "data": {
      "text/plain": [
       "({'audio', 'phone', 'sound', 'strait'},\n",
       " {'fathom', 'sound', 'voice'},\n",
       " {'good', 'healthy', 'heavy', 'legal', 'reasoned', 'sound'})"
      ]
     },
     "execution_count": 41,
     "metadata": {},
     "output_type": "execute_result"
    }
   ],
   "source": [
    "verbs = set()\n",
    "nouns = set()\n",
    "adj = set()\n",
    "for word in wordnet.synsets('sound', pos='n'):\n",
    "    nouns.add(word.lemmas()[0].name())\n",
    "    \n",
    "for word in wordnet.synsets('sound', pos='v'):\n",
    "    verbs.add(word.lemmas()[0].name())\n",
    "    \n",
    "for word in wordnet.synsets('sound', pos='a'):\n",
    "    adj.add(word.lemmas()[0].name())\n",
    "\n",
    "nouns, verbs, adj"
   ]
  },
  {
   "cell_type": "markdown",
   "id": "4e06cddc-4530-4803-b2b6-b84f9f6224a7",
   "metadata": {},
   "source": [
    "### Find antonyms of word"
   ]
  },
  {
   "cell_type": "code",
   "execution_count": 54,
   "id": "a7f93dca-b686-4151-8c71-777d9e51763d",
   "metadata": {},
   "outputs": [
    {
     "name": "stdout",
     "output_type": "stream",
     "text": [
      "Antonyms :  {'heat', 'warm'}\n"
     ]
    }
   ],
   "source": [
    "ant = set()\n",
    "\n",
    "for synset in wordnet.synsets(\"cool\") :\n",
    "    for lemma in synset.lemmas() :\n",
    "        if lemma.antonyms():           # When antonyms are availabe, add them into the list\n",
    "            ant.add(lemma.antonyms()[0].name())\n",
    "print(\"Antonyms : \", ant)"
   ]
  },
  {
   "cell_type": "markdown",
   "id": "e482b7b7-de1b-40e0-b25a-383d5f4b061a",
   "metadata": {},
   "source": [
    "#### Extract the hypernyms"
   ]
  },
  {
   "cell_type": "code",
   "execution_count": 56,
   "id": "a68a52b7-8faa-445e-91a3-ea53b076cb11",
   "metadata": {},
   "outputs": [
    {
     "name": "stdout",
     "output_type": "stream",
     "text": [
      "car is a hyponym of motor_vehicle.n.01\n",
      "car is a hyponym of wheeled_vehicle.n.01\n",
      "car is a hyponym of compartment.n.02\n",
      "car is a hyponym of compartment.n.02\n",
      "car is a hyponym of compartment.n.02\n"
     ]
    }
   ],
   "source": [
    "word = 'car'\n",
    "synsets = wordnet.synsets(word)\n",
    "\n",
    "for synset in synsets :\n",
    "    # Get hypernyms (parent concepts)\n",
    "    hypernyms = synset.hypernyms()\n",
    "\n",
    "    # Check if there are any hypernyms\n",
    "    if hypernyms:\n",
    "        #Print hypernyms (can access name properties for text)\n",
    "        for hynm in hypernyms :\n",
    "            print(f\"{word} is a hyponym of {hynm.name()}\")\n"
   ]
  },
  {
   "cell_type": "code",
   "execution_count": 57,
   "id": "5f2633f6-4e0e-4c37-bbcd-81029a6cf8f3",
   "metadata": {},
   "outputs": [
    {
     "name": "stdout",
     "output_type": "stream",
     "text": [
      "water is a hyponym of binary_compound.n.01\n",
      "water is a hyponym of liquid.n.03\n",
      "water is a hyponym of thing.n.12\n",
      "water is a hyponym of element.n.05\n",
      "water is a hyponym of facility.n.01\n",
      "water is a hyponym of body_waste.n.01\n",
      "water is a hyponym of food.n.01\n",
      "water is a hyponym of liquid.n.01\n",
      "water is a hyponym of nutrient.n.02\n",
      "water is a hyponym of wet.v.01\n",
      "water is a hyponym of supply.v.01\n",
      "water is a hyponym of secrete.v.01\n",
      "water is a hyponym of fill.v.02\n"
     ]
    }
   ],
   "source": [
    "word = 'water'\n",
    "synsets = wordnet.synsets(word)\n",
    "\n",
    "for synset in synsets :\n",
    "    # Get hypernyms (parent concepts)\n",
    "    hypernyms = synset.hypernyms()\n",
    "\n",
    "    # Check if there are any hypernyms\n",
    "    if hypernyms:\n",
    "        #Print hypernyms (can access name properties for text)\n",
    "        for hynm in hypernyms :\n",
    "            print(f\"{word} is a hyponym of {hynm.name()}\")\n"
   ]
  },
  {
   "cell_type": "code",
   "execution_count": 65,
   "id": "317b8763-dc10-4f2e-8db5-34a7d6755e00",
   "metadata": {},
   "outputs": [
    {
     "name": "stdout",
     "output_type": "stream",
     "text": [
      "class is a hyponym of collection.n.01\n",
      "class is a hyponym of gathering.n.01\n",
      "class is a hyponym of people.n.01\n",
      "class is a hyponym of education.n.01\n",
      "class is a hyponym of league.n.01\n",
      "class is a hyponym of gathering.n.01\n",
      "class is a hyponym of taxonomic_group.n.01\n",
      "class is a hyponym of elegance.n.01\n",
      "class is a hyponym of categorize.v.01\n"
     ]
    }
   ],
   "source": [
    "word = 'class'\n",
    "synsets = wordnet.synsets(word)\n",
    "\n",
    "for synset in synsets :\n",
    "    # Get hypernyms (parent concepts)\n",
    "    hypernyms = synset.hypernyms()\n",
    "\n",
    "    # Check if there are any hypernyms\n",
    "    if hypernyms:\n",
    "        #Print hypernyms (can access name properties for text)\n",
    "        for hynm in hypernyms :\n",
    "            print(f\"{word} is a hyponym of {hynm.name()}\")\n"
   ]
  },
  {
   "cell_type": "markdown",
   "id": "01d9ab77-dd0e-44b1-a1bd-4ba6ca0a0c04",
   "metadata": {},
   "source": [
    "#### Extract the meronyms"
   ]
  },
  {
   "cell_type": "code",
   "execution_count": 69,
   "id": "290bf4c6-2df3-4963-893a-c2031b32ccea",
   "metadata": {},
   "outputs": [
    {
     "name": "stdout",
     "output_type": "stream",
     "text": [
      "class has a meronym : felloe.n.01\n",
      "class has a meronym : rim.n.03\n",
      "class has a meronym : bicycle_seat.n.01\n",
      "class has a meronym : bicycle_wheel.n.01\n",
      "class has a meronym : chain.n.03\n",
      "class has a meronym : coaster_brake.n.01\n",
      "class has a meronym : handlebar.n.01\n",
      "class has a meronym : kickstand.n.01\n",
      "class has a meronym : mudguard.n.01\n",
      "class has a meronym : pedal.n.02\n",
      "class has a meronym : sprocket.n.02\n"
     ]
    }
   ],
   "source": [
    "synsets = wordnet.synsets(\"wheel\")\n",
    "\n",
    "for synset in synsets:\n",
    "    #Get member meronyms (component parts)\n",
    "    meronyms = synset.part_meronyms()\n",
    "\n",
    "    #Check if there are any meronyms\n",
    "    if meronyms:\n",
    "        #Print meronyms (can access name property for text)\n",
    "        for meronym in meronyms: \n",
    "            print(f\"{word} has a meronym : {meronym.name()}\")"
   ]
  },
  {
   "cell_type": "code",
   "execution_count": 76,
   "id": "e43598e9-977a-4216-9380-d018a720b357",
   "metadata": {},
   "outputs": [
    {
     "name": "stdout",
     "output_type": "stream",
     "text": [
      "class has a meronym : aperture.n.01\n",
      "class has a meronym : camera_lens.n.01\n",
      "class has a meronym : delayed_action.n.01\n",
      "class has a meronym : diaphragm.n.01\n",
      "class has a meronym : finder.n.03\n",
      "class has a meronym : hood.n.04\n",
      "class has a meronym : magazine.n.04\n",
      "class has a meronym : shutter.n.01\n",
      "class has a meronym : sprocket.n.01\n",
      "class has a meronym : camera_lens.n.01\n",
      "class has a meronym : hood.n.04\n",
      "class has a meronym : mosaic.n.05\n",
      "class has a meronym : television-camera_tube.n.01\n"
     ]
    }
   ],
   "source": [
    "synsets = wordnet.synsets(\"camera\")\n",
    "\n",
    "for synset in synsets:\n",
    "    #Get member meronyms (component parts)\n",
    "    meronyms = synset.part_meronyms()\n",
    "\n",
    "    #Check if there are any meronyms\n",
    "    if meronyms:\n",
    "        #Print meronyms (can access name property for text)\n",
    "        for meronym in meronyms: \n",
    "            print(f\"{word} has a meronym : {meronym.name()}\")"
   ]
  }
 ],
 "metadata": {
  "kernelspec": {
   "display_name": "Python 3 (ipykernel)",
   "language": "python",
   "name": "python3"
  },
  "language_info": {
   "codemirror_mode": {
    "name": "ipython",
    "version": 3
   },
   "file_extension": ".py",
   "mimetype": "text/x-python",
   "name": "python",
   "nbconvert_exporter": "python",
   "pygments_lexer": "ipython3",
   "version": "3.11.7"
  }
 },
 "nbformat": 4,
 "nbformat_minor": 5
}
