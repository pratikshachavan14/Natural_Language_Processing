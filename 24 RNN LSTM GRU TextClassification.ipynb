{
 "cells": [
  {
   "cell_type": "code",
   "execution_count": 1,
   "metadata": {
    "colab": {
     "base_uri": "https://localhost:8080/"
    },
    "collapsed": true,
    "id": "hRp_yEbmZHbU",
    "jupyter": {
     "outputs_hidden": true
    },
    "outputId": "8615dae6-16c1-441e-e790-5eb238500d41"
   },
   "outputs": [
    {
     "name": "stdout",
     "output_type": "stream",
     "text": [
      "Requirement already satisfied: tensorflow_datasets in /usr/local/lib/python3.10/dist-packages (4.9.5)\n",
      "Requirement already satisfied: absl-py in /usr/local/lib/python3.10/dist-packages (from tensorflow_datasets) (1.4.0)\n",
      "Requirement already satisfied: click in /usr/local/lib/python3.10/dist-packages (from tensorflow_datasets) (8.1.7)\n",
      "Requirement already satisfied: dm-tree in /usr/local/lib/python3.10/dist-packages (from tensorflow_datasets) (0.1.8)\n",
      "Requirement already satisfied: etils[enp,epath,epy,etree]>=1.6.0 in /usr/local/lib/python3.10/dist-packages (from tensorflow_datasets) (1.7.0)\n",
      "Requirement already satisfied: immutabledict in /usr/local/lib/python3.10/dist-packages (from tensorflow_datasets) (4.2.0)\n",
      "Requirement already satisfied: numpy in /usr/local/lib/python3.10/dist-packages (from tensorflow_datasets) (1.25.2)\n",
      "Requirement already satisfied: promise in /usr/local/lib/python3.10/dist-packages (from tensorflow_datasets) (2.3)\n",
      "Requirement already satisfied: protobuf>=3.20 in /usr/local/lib/python3.10/dist-packages (from tensorflow_datasets) (3.20.3)\n",
      "Requirement already satisfied: psutil in /usr/local/lib/python3.10/dist-packages (from tensorflow_datasets) (5.9.5)\n",
      "Requirement already satisfied: pyarrow in /usr/local/lib/python3.10/dist-packages (from tensorflow_datasets) (14.0.2)\n",
      "Requirement already satisfied: requests>=2.19.0 in /usr/local/lib/python3.10/dist-packages (from tensorflow_datasets) (2.31.0)\n",
      "Requirement already satisfied: simple-parsing in /usr/local/lib/python3.10/dist-packages (from tensorflow_datasets) (0.1.5)\n",
      "Requirement already satisfied: tensorflow-metadata in /usr/local/lib/python3.10/dist-packages (from tensorflow_datasets) (1.15.0)\n",
      "Requirement already satisfied: termcolor in /usr/local/lib/python3.10/dist-packages (from tensorflow_datasets) (2.4.0)\n",
      "Requirement already satisfied: toml in /usr/local/lib/python3.10/dist-packages (from tensorflow_datasets) (0.10.2)\n",
      "Requirement already satisfied: tqdm in /usr/local/lib/python3.10/dist-packages (from tensorflow_datasets) (4.66.4)\n",
      "Requirement already satisfied: wrapt in /usr/local/lib/python3.10/dist-packages (from tensorflow_datasets) (1.14.1)\n",
      "Requirement already satisfied: array-record>=0.5.0 in /usr/local/lib/python3.10/dist-packages (from tensorflow_datasets) (0.5.1)\n",
      "Requirement already satisfied: typing_extensions in /usr/local/lib/python3.10/dist-packages (from etils[enp,epath,epy,etree]>=1.6.0->tensorflow_datasets) (4.12.1)\n",
      "Requirement already satisfied: fsspec in /usr/local/lib/python3.10/dist-packages (from etils[enp,epath,epy,etree]>=1.6.0->tensorflow_datasets) (2023.6.0)\n",
      "Requirement already satisfied: importlib_resources in /usr/local/lib/python3.10/dist-packages (from etils[enp,epath,epy,etree]>=1.6.0->tensorflow_datasets) (6.4.0)\n",
      "Requirement already satisfied: zipp in /usr/local/lib/python3.10/dist-packages (from etils[enp,epath,epy,etree]>=1.6.0->tensorflow_datasets) (3.19.1)\n",
      "Requirement already satisfied: charset-normalizer<4,>=2 in /usr/local/lib/python3.10/dist-packages (from requests>=2.19.0->tensorflow_datasets) (3.3.2)\n",
      "Requirement already satisfied: idna<4,>=2.5 in /usr/local/lib/python3.10/dist-packages (from requests>=2.19.0->tensorflow_datasets) (3.7)\n",
      "Requirement already satisfied: urllib3<3,>=1.21.1 in /usr/local/lib/python3.10/dist-packages (from requests>=2.19.0->tensorflow_datasets) (2.0.7)\n",
      "Requirement already satisfied: certifi>=2017.4.17 in /usr/local/lib/python3.10/dist-packages (from requests>=2.19.0->tensorflow_datasets) (2024.6.2)\n",
      "Requirement already satisfied: six in /usr/local/lib/python3.10/dist-packages (from promise->tensorflow_datasets) (1.16.0)\n",
      "Requirement already satisfied: docstring-parser~=0.15 in /usr/local/lib/python3.10/dist-packages (from simple-parsing->tensorflow_datasets) (0.16)\n"
     ]
    }
   ],
   "source": [
    "pip install tensorflow_datasets"
   ]
  },
  {
   "cell_type": "markdown",
   "metadata": {
    "id": "XobHcVOtY68r"
   },
   "source": [
    "#### Import the libraries"
   ]
  },
  {
   "cell_type": "code",
   "execution_count": 2,
   "metadata": {
    "id": "pnhQ8q98YnYQ"
   },
   "outputs": [],
   "source": [
    "import numpy as np\n",
    "import pandas as pd\n",
    "import matplotlib.pyplot as plt\n",
    "import seaborn as sns\n",
    "import tensorflow as tf\n",
    "import tensorflow_datasets as tfds\n",
    "from keras.preprocessing.text import Tokenizer\n",
    "from keras.preprocessing.sequence import pad_sequences\n",
    "from keras.layers import Bidirectional, LSTM, GRU, Dense, SimpleRNN, Embedding\n",
    "from keras.models import Sequential"
   ]
  },
  {
   "cell_type": "markdown",
   "metadata": {
    "id": "-G-m9zkyZQ1g"
   },
   "source": [
    "#### Read the dataset : imdb reviews"
   ]
  },
  {
   "cell_type": "code",
   "execution_count": 3,
   "metadata": {
    "colab": {
     "base_uri": "https://localhost:8080/"
    },
    "collapsed": true,
    "id": "mijgy-alZOKZ",
    "jupyter": {
     "outputs_hidden": true
    },
    "outputId": "fdbfb8f7-d882-4111-d8f9-699e059d01a4"
   },
   "outputs": [
    {
     "name": "stdout",
     "output_type": "stream",
     "text": [
      "Help on function load in module tensorflow_datasets.core.load:\n",
      "\n",
      "load(name: 'str', *, split: 'Optional[Tree[splits_lib.SplitArg]]' = None, data_dir: 'Union[None, str, os.PathLike]' = None, batch_size: 'Optional[int]' = None, shuffle_files: 'bool' = False, download: 'bool' = True, as_supervised: 'bool' = False, decoders: 'Optional[TreeDict[decode.partial_decode.DecoderArg]]' = None, read_config: 'Optional[read_config_lib.ReadConfig]' = None, with_info: 'bool' = False, builder_kwargs: 'Optional[Dict[str, Any]]' = None, download_and_prepare_kwargs: 'Optional[Dict[str, Any]]' = None, as_dataset_kwargs: 'Optional[Dict[str, Any]]' = None, try_gcs: 'bool' = False)\n",
      "    Loads the named dataset into a `tf.data.Dataset`.\n",
      "    \n",
      "    `tfds.load` is a convenience method that:\n",
      "    \n",
      "    1. Fetch the `tfds.core.DatasetBuilder` by name:\n",
      "    \n",
      "       ```python\n",
      "       builder = tfds.builder(name, data_dir=data_dir, **builder_kwargs)\n",
      "       ```\n",
      "    \n",
      "    2. Generate the data (when `download=True`):\n",
      "    \n",
      "       ```python\n",
      "       builder.download_and_prepare(**download_and_prepare_kwargs)\n",
      "       ```\n",
      "    \n",
      "    3. Load the `tf.data.Dataset` object:\n",
      "    \n",
      "       ```python\n",
      "       ds = builder.as_dataset(\n",
      "           split=split,\n",
      "           as_supervised=as_supervised,\n",
      "           shuffle_files=shuffle_files,\n",
      "           read_config=read_config,\n",
      "           decoders=decoders,\n",
      "           **as_dataset_kwargs,\n",
      "       )\n",
      "       ```\n",
      "    \n",
      "    See: https://www.tensorflow.org/datasets/overview#load_a_dataset for more\n",
      "    examples.\n",
      "    \n",
      "    If you'd like NumPy arrays instead of `tf.data.Dataset`s or `tf.Tensor`s,\n",
      "    you can pass the return value to `tfds.as_numpy`.\n",
      "    \n",
      "    **Warning**: calling this function might potentially trigger the download\n",
      "    of hundreds of GiB to disk. Refer to the `download` argument.\n",
      "    \n",
      "    Args:\n",
      "      name: `str`, the registered name of the `DatasetBuilder` (the snake case\n",
      "        version of the class name). The config and version can also be specified\n",
      "        in the name as follows: `'dataset_name[/config_name][:version]'`. For\n",
      "        example, `'movielens/25m-ratings'` (for the latest version of\n",
      "        `'25m-ratings'`), `'movielens:0.1.0'` (for the default config and version\n",
      "        0.1.0), or`'movielens/25m-ratings:0.1.0'`. Note that only the latest\n",
      "        version can be generated, but old versions can be read if they are present\n",
      "        on disk. For convenience, the `name` parameter can contain comma-separated\n",
      "        keyword arguments for the builder. For example, `'foo_bar/a=True,b=3'`\n",
      "        would use the `FooBar` dataset passing the keyword arguments `a=True` and\n",
      "        `b=3` (for builders with configs, it would be `'foo_bar/zoo/a=True,b=3'`\n",
      "        to use the `'zoo'` config and pass to the builder keyword arguments\n",
      "        `a=True` and `b=3`).\n",
      "      split: Which split of the data to load (e.g. `'train'`, `'test'`, `['train',\n",
      "        'test']`, `'train[80%:]'`,...). See our [split API\n",
      "        guide](https://www.tensorflow.org/datasets/splits). If `None`, will return\n",
      "        all splits in a `Dict[Split, tf.data.Dataset]`\n",
      "      data_dir: directory to read/write data. Defaults to the value of the\n",
      "        environment variable TFDS_DATA_DIR, if set, otherwise falls back to\n",
      "        '~/tensorflow_datasets'.\n",
      "      batch_size: `int`, if set, add a batch dimension to examples. Note that\n",
      "        variable length features will be 0-padded. If `batch_size=-1`, will return\n",
      "        the full dataset as `tf.Tensor`s.\n",
      "      shuffle_files: `bool`, whether to shuffle the input files. Defaults to\n",
      "        `False`.\n",
      "      download: `bool` (optional), whether to call\n",
      "        `tfds.core.DatasetBuilder.download_and_prepare` before calling\n",
      "        `tfds.core.DatasetBuilder.as_dataset`. If `False`, data is expected to be\n",
      "        in `data_dir`. If `True` and the data is already in `data_dir`,\n",
      "        `download_and_prepare` is a no-op.\n",
      "      as_supervised: `bool`, if `True`, the returned `tf.data.Dataset` will have a\n",
      "        2-tuple structure `(input, label)` according to\n",
      "        `builder.info.supervised_keys`. If `False`, the default, the returned\n",
      "        `tf.data.Dataset` will have a dictionary with all the features.\n",
      "      decoders: Nested dict of `Decoder` objects which allow to customize the\n",
      "        decoding. The structure should match the feature structure, but only\n",
      "        customized feature keys need to be present. See [the\n",
      "        guide](https://github.com/tensorflow/datasets/blob/master/docs/decode.md)\n",
      "        for more info.\n",
      "      read_config: `tfds.ReadConfig`, Additional options to configure the input\n",
      "        pipeline (e.g. seed, num parallel reads,...).\n",
      "      with_info: `bool`, if `True`, `tfds.load` will return the tuple\n",
      "        (`tf.data.Dataset`, `tfds.core.DatasetInfo`), the latter containing the\n",
      "        info associated with the builder.\n",
      "      builder_kwargs: `dict` (optional), keyword arguments to be passed to the\n",
      "        `tfds.core.DatasetBuilder` constructor. `data_dir` will be passed through\n",
      "        by default.\n",
      "      download_and_prepare_kwargs: `dict` (optional) keyword arguments passed to\n",
      "        `tfds.core.DatasetBuilder.download_and_prepare` if `download=True`. Allow\n",
      "        to control where to download and extract the cached data. If not set,\n",
      "        cache_dir and manual_dir will automatically be deduced from data_dir.\n",
      "      as_dataset_kwargs: `dict` (optional), keyword arguments passed to\n",
      "        `tfds.core.DatasetBuilder.as_dataset`.\n",
      "      try_gcs: `bool`, if True, `tfds.load` will see if the dataset exists on the\n",
      "        public GCS bucket before building it locally. This is equivalent to\n",
      "        passing `data_dir='gs://tfds-data/datasets'`. Warning: `try_gcs` is\n",
      "        different than `builder_kwargs.download_config.try_download_gcs`.\n",
      "        `try_gcs` (default: False) overrides `data_dir` to be the public GCS\n",
      "        bucket. `try_download_gcs` (default: True) allows downloading from GCS\n",
      "        while keeping a different `data_dir` than the public GCS bucket.  So, to\n",
      "        fully bypass GCS, please use `try_gcs=False` and\n",
      "        `download_and_prepare_kwargs={'download_config':\n",
      "        tfds.core.download.DownloadConfig(try_download_gcs=False)})`.\n",
      "    \n",
      "    Returns:\n",
      "      ds: `tf.data.Dataset`, the dataset requested, or if `split` is None, a\n",
      "        `dict<key: tfds.Split, value: tf.data.Dataset>`. If `batch_size=-1`,\n",
      "        these will be full datasets as `tf.Tensor`s.\n",
      "      ds_info: `tfds.core.DatasetInfo`, if `with_info` is True, then `tfds.load`\n",
      "        will return a tuple `(ds, ds_info)` containing dataset information\n",
      "        (version, features, splits, num_examples,...). Note that the `ds_info`\n",
      "        object documents the entire dataset, regardless of the `split` requested.\n",
      "        Split-specific information is available in `ds_info.splits`.\n",
      "\n"
     ]
    }
   ],
   "source": [
    "help(tfds.load)"
   ]
  },
  {
   "cell_type": "code",
   "execution_count": 5,
   "metadata": {
    "id": "J4rz3C39ZZTy"
   },
   "outputs": [],
   "source": [
    "imdb, info = tfds.load('imdb_reviews', with_info=True, as_supervised=True)"
   ]
  },
  {
   "cell_type": "code",
   "execution_count": 9,
   "metadata": {
    "colab": {
     "base_uri": "https://localhost:8080/",
     "height": 120
    },
    "id": "9TjGxdHAZnNz",
    "outputId": "3bab208e-9cad-4950-9b70-9b1fb1376a95"
   },
   "outputs": [
    {
     "data": {
      "text/html": [
       "<div style=\"max-width:800px; border: 1px solid var(--colab-border-color);\"><style>\n",
       "      pre.function-repr-contents {\n",
       "        overflow-x: auto;\n",
       "        padding: 8px 12px;\n",
       "        max-height: 500px;\n",
       "      }\n",
       "\n",
       "      pre.function-repr-contents.function-repr-contents-collapsed {\n",
       "        cursor: pointer;\n",
       "        max-height: 100px;\n",
       "      }\n",
       "    </style>\n",
       "    <pre style=\"white-space: initial; background:\n",
       "         var(--colab-secondary-surface-color); padding: 8px 12px;\n",
       "         border-bottom: 1px solid var(--colab-border-color);\"><b>tensorflow.python.data.ops.prefetch_op._PrefetchDataset</b><br/>def __init__(input_dataset, buffer_size, slack_period=None, name=None)</pre><pre class=\"function-repr-contents function-repr-contents-collapsed\" style=\"\"><a class=\"filepath\" style=\"display:none\" href=\"#\">/usr/local/lib/python3.10/dist-packages/tensorflow/python/data/ops/prefetch_op.py</a>A `Dataset` that asynchronously prefetches its input.</pre>\n",
       "      <script>\n",
       "      if (google.colab.kernel.accessAllowed && google.colab.files && google.colab.files.view) {\n",
       "        for (const element of document.querySelectorAll('.filepath')) {\n",
       "          element.style.display = 'block'\n",
       "          element.onclick = (event) => {\n",
       "            event.preventDefault();\n",
       "            event.stopPropagation();\n",
       "            google.colab.files.view(element.textContent, 31);\n",
       "          };\n",
       "        }\n",
       "      }\n",
       "      for (const element of document.querySelectorAll('.function-repr-contents')) {\n",
       "        element.onclick = (event) => {\n",
       "          event.preventDefault();\n",
       "          event.stopPropagation();\n",
       "          element.classList.toggle('function-repr-contents-collapsed');\n",
       "        };\n",
       "      }\n",
       "      </script>\n",
       "      </div>"
      ],
      "text/plain": [
       "tensorflow.python.data.ops.prefetch_op._PrefetchDataset"
      ]
     },
     "execution_count": 9,
     "metadata": {},
     "output_type": "execute_result"
    }
   ],
   "source": [
    "train_data, test_data = imdb['train'], imdb['test']\n",
    "type(train_data)"
   ]
  },
  {
   "cell_type": "code",
   "execution_count": 10,
   "metadata": {
    "id": "77zu2dAyaJwY"
   },
   "outputs": [],
   "source": [
    "training_sentences = []\n",
    "training_labels = []\n",
    "\n",
    "testing_sentences = []\n",
    "testing_labels = []\n",
    "\n",
    "for s, l in train_data:\n",
    "    training_sentences.append(str(s.numpy()))\n",
    "    training_labels.append(l.numpy())\n",
    "\n",
    "for s, l in test_data:\n",
    "    testing_sentences.append(str(s.numpy()))\n",
    "    testing_labels.append(l.numpy())"
   ]
  },
  {
   "cell_type": "code",
   "execution_count": 11,
   "metadata": {
    "colab": {
     "base_uri": "https://localhost:8080/",
     "height": 87
    },
    "id": "FUJZMlJLbUY5",
    "outputId": "437f07eb-f58b-4b87-9ae7-8921b77222fb"
   },
   "outputs": [
    {
     "data": {
      "application/vnd.google.colaboratory.intrinsic+json": {
       "type": "string"
      },
      "text/plain": [
       "\"b'This is the kind of film for a snowy Sunday afternoon when the rest of the world can go ahead with its own business as you descend into a big arm-chair and mellow for a couple of hours. Wonderful performances from Cher and Nicolas Cage (as always) gently row the plot along. There are no rapids to cross, no dangerous waters, just a warm and witty paddle through New York life at its best. A family film in every sense and one that deserves the praise it received.'\""
      ]
     },
     "execution_count": 11,
     "metadata": {},
     "output_type": "execute_result"
    }
   ],
   "source": [
    "training_sentences[3]"
   ]
  },
  {
   "cell_type": "code",
   "execution_count": 12,
   "metadata": {
    "colab": {
     "base_uri": "https://localhost:8080/"
    },
    "id": "C6qsRojKcPs4",
    "outputId": "ebcecd88-4994-4f88-aa5e-5f941df6b33b"
   },
   "outputs": [
    {
     "data": {
      "text/plain": [
       "1"
      ]
     },
     "execution_count": 12,
     "metadata": {},
     "output_type": "execute_result"
    }
   ],
   "source": [
    "training_labels[3]"
   ]
  },
  {
   "cell_type": "code",
   "execution_count": 14,
   "metadata": {
    "colab": {
     "base_uri": "https://localhost:8080/"
    },
    "id": "KHrZ2iQdcpkU",
    "outputId": "bd0ceaf6-5fe3-4176-8b6b-5d67674af721"
   },
   "outputs": [
    {
     "data": {
      "text/plain": [
       "(25000, 25000)"
      ]
     },
     "execution_count": 14,
     "metadata": {},
     "output_type": "execute_result"
    }
   ],
   "source": [
    "len(training_sentences), len(testing_sentences)"
   ]
  },
  {
   "cell_type": "code",
   "execution_count": 13,
   "metadata": {
    "colab": {
     "base_uri": "https://localhost:8080/"
    },
    "id": "N9m7gFgDcU01",
    "outputId": "9db177ce-6d81-4571-9f29-7bbc8851edfd"
   },
   "outputs": [
    {
     "data": {
      "text/plain": [
       "(25000, 25000)"
      ]
     },
     "execution_count": 13,
     "metadata": {},
     "output_type": "execute_result"
    }
   ],
   "source": [
    "training_labels_final = np.array(training_labels)\n",
    "testing_labels_final = np.array(testing_labels)\n",
    "len(training_labels_final), len(testing_labels_final)"
   ]
  },
  {
   "cell_type": "code",
   "execution_count": 15,
   "metadata": {
    "id": "yvUZ3vTpcpHs"
   },
   "outputs": [],
   "source": [
    "vocab_size = 10000\n",
    "embedding_dim = 16\n",
    "max_length = 120\n",
    "trunc_type = 'post'"
   ]
  },
  {
   "cell_type": "code",
   "execution_count": 16,
   "metadata": {
    "colab": {
     "base_uri": "https://localhost:8080/"
    },
    "id": "yeTxLA6ItEhm",
    "outputId": "5b0cb5dd-091f-4f6a-d274-669d53dade05"
   },
   "outputs": [
    {
     "data": {
      "text/plain": [
       "86538"
      ]
     },
     "execution_count": 16,
     "metadata": {},
     "output_type": "execute_result"
    }
   ],
   "source": [
    "tokenizer = Tokenizer(num_words=vocab_size)\n",
    "tokenizer.fit_on_texts(training_sentences)\n",
    "word_index = tokenizer.word_index\n",
    "word_index;\n",
    "len(word_index)"
   ]
  },
  {
   "cell_type": "code",
   "execution_count": 17,
   "metadata": {
    "colab": {
     "base_uri": "https://localhost:8080/"
    },
    "id": "Q0iADcm_tVzQ",
    "outputId": "f3516ba6-4e14-4198-c4b3-41f01cb22672"
   },
   "outputs": [
    {
     "data": {
      "text/plain": [
       "{'the': 1,\n",
       " 'and': 2,\n",
       " 'a': 3,\n",
       " 'of': 4,\n",
       " 'to': 5,\n",
       " 'is': 6,\n",
       " 'br': 7,\n",
       " 'in': 8,\n",
       " 'it': 9,\n",
       " 'i': 10,\n",
       " 'this': 11,\n",
       " 'that': 12,\n",
       " 'was': 13,\n",
       " 'as': 14,\n",
       " 'for': 15,\n",
       " 'with': 16,\n",
       " 'movie': 17,\n",
       " 'but': 18,\n",
       " 'film': 19,\n",
       " \"'s\": 20,\n",
       " 'on': 21,\n",
       " 'you': 22,\n",
       " 'not': 23,\n",
       " 'are': 24,\n",
       " 'his': 25,\n",
       " 'he': 26,\n",
       " 'have': 27,\n",
       " 'be': 28,\n",
       " 'one': 29,\n",
       " 'all': 30,\n",
       " 'at': 31,\n",
       " 'by': 32,\n",
       " 'they': 33,\n",
       " 'an': 34,\n",
       " 'who': 35,\n",
       " 'so': 36,\n",
       " 'from': 37,\n",
       " 'like': 38,\n",
       " 'her': 39,\n",
       " \"'t\": 40,\n",
       " 'or': 41,\n",
       " 'just': 42,\n",
       " 'there': 43,\n",
       " 'about': 44,\n",
       " 'out': 45,\n",
       " \"'\": 46,\n",
       " 'has': 47,\n",
       " 'if': 48,\n",
       " 'some': 49,\n",
       " 'what': 50,\n",
       " 'good': 51,\n",
       " 'more': 52,\n",
       " 'very': 53,\n",
       " 'when': 54,\n",
       " 'she': 55,\n",
       " 'up': 56,\n",
       " 'can': 57,\n",
       " 'b': 58,\n",
       " 'time': 59,\n",
       " 'no': 60,\n",
       " 'even': 61,\n",
       " 'my': 62,\n",
       " 'would': 63,\n",
       " 'which': 64,\n",
       " 'story': 65,\n",
       " 'only': 66,\n",
       " 'really': 67,\n",
       " 'see': 68,\n",
       " 'their': 69,\n",
       " 'had': 70,\n",
       " 'were': 71,\n",
       " 'me': 72,\n",
       " 'well': 73,\n",
       " 'we': 74,\n",
       " 'than': 75,\n",
       " 'much': 76,\n",
       " 'been': 77,\n",
       " 'get': 78,\n",
       " 'bad': 79,\n",
       " 'will': 80,\n",
       " 'people': 81,\n",
       " 'do': 82,\n",
       " 'also': 83,\n",
       " 'other': 84,\n",
       " 'into': 85,\n",
       " 'because': 86,\n",
       " 'great': 87,\n",
       " 'first': 88,\n",
       " 'him': 89,\n",
       " 'how': 90,\n",
       " 'most': 91,\n",
       " 'made': 92,\n",
       " 'its': 93,\n",
       " 'then': 94,\n",
       " 'way': 95,\n",
       " 'make': 96,\n",
       " 'them': 97,\n",
       " 'could': 98,\n",
       " 'too': 99,\n",
       " 'movies': 100,\n",
       " 'any': 101,\n",
       " \"it's\": 102,\n",
       " 'after': 103,\n",
       " 'think': 104,\n",
       " 'characters': 105,\n",
       " 'watch': 106,\n",
       " 'two': 107,\n",
       " 'films': 108,\n",
       " 'character': 109,\n",
       " 'seen': 110,\n",
       " 'many': 111,\n",
       " 'life': 112,\n",
       " 'being': 113,\n",
       " 'plot': 114,\n",
       " 'acting': 115,\n",
       " 'never': 116,\n",
       " 'little': 117,\n",
       " 'love': 118,\n",
       " 'best': 119,\n",
       " 'where': 120,\n",
       " 'over': 121,\n",
       " 'did': 122,\n",
       " 'show': 123,\n",
       " 'know': 124,\n",
       " 'off': 125,\n",
       " 'ever': 126,\n",
       " 'does': 127,\n",
       " 'man': 128,\n",
       " 'better': 129,\n",
       " 'your': 130,\n",
       " 'here': 131,\n",
       " 'end': 132,\n",
       " 'still': 133,\n",
       " 'these': 134,\n",
       " 'say': 135,\n",
       " 'scene': 136,\n",
       " 'why': 137,\n",
       " 'while': 138,\n",
       " 'scenes': 139,\n",
       " 'go': 140,\n",
       " 'such': 141,\n",
       " 'something': 142,\n",
       " 'should': 143,\n",
       " 'through': 144,\n",
       " 'back': 145,\n",
       " 'don': 146,\n",
       " 'real': 147,\n",
       " 'those': 148,\n",
       " 'now': 149,\n",
       " 'watching': 150,\n",
       " 'though': 151,\n",
       " 'thing': 152,\n",
       " 'old': 153,\n",
       " 'years': 154,\n",
       " 'actors': 155,\n",
       " 'work': 156,\n",
       " 'director': 157,\n",
       " 'new': 158,\n",
       " 'another': 159,\n",
       " 'before': 160,\n",
       " 'funny': 161,\n",
       " 'nothing': 162,\n",
       " 'actually': 163,\n",
       " 'makes': 164,\n",
       " 'look': 165,\n",
       " 'find': 166,\n",
       " 'going': 167,\n",
       " 'few': 168,\n",
       " 'same': 169,\n",
       " 'part': 170,\n",
       " 'again': 171,\n",
       " 'lot': 172,\n",
       " \"don't\": 173,\n",
       " 'every': 174,\n",
       " '10': 175,\n",
       " 'cast': 176,\n",
       " 'us': 177,\n",
       " 'world': 178,\n",
       " 'quite': 179,\n",
       " 'down': 180,\n",
       " 'want': 181,\n",
       " 'things': 182,\n",
       " 'pretty': 183,\n",
       " 'young': 184,\n",
       " 'seems': 185,\n",
       " 'around': 186,\n",
       " 'got': 187,\n",
       " 'horror': 188,\n",
       " 'however': 189,\n",
       " 'fact': 190,\n",
       " 'take': 191,\n",
       " 'big': 192,\n",
       " 'enough': 193,\n",
       " 'long': 194,\n",
       " 'thought': 195,\n",
       " 'both': 196,\n",
       " 'series': 197,\n",
       " 'between': 198,\n",
       " 'may': 199,\n",
       " 'give': 200,\n",
       " 'original': 201,\n",
       " 'own': 202,\n",
       " 'action': 203,\n",
       " 'right': 204,\n",
       " 'without': 205,\n",
       " 'times': 206,\n",
       " 'always': 207,\n",
       " 'comedy': 208,\n",
       " 'point': 209,\n",
       " 'must': 210,\n",
       " 'gets': 211,\n",
       " 'role': 212,\n",
       " 'come': 213,\n",
       " 'family': 214,\n",
       " 'saw': 215,\n",
       " 'almost': 216,\n",
       " 'interesting': 217,\n",
       " 'least': 218,\n",
       " 'done': 219,\n",
       " 'whole': 220,\n",
       " 'bit': 221,\n",
       " 'music': 222,\n",
       " 'script': 223,\n",
       " 'guy': 224,\n",
       " 'far': 225,\n",
       " 'xc2': 226,\n",
       " 'anything': 227,\n",
       " 'making': 228,\n",
       " 'minutes': 229,\n",
       " 'feel': 230,\n",
       " 'last': 231,\n",
       " 'might': 232,\n",
       " 'performance': 233,\n",
       " 'since': 234,\n",
       " '2': 235,\n",
       " 'probably': 236,\n",
       " 'girl': 237,\n",
       " 'kind': 238,\n",
       " 'am': 239,\n",
       " 'away': 240,\n",
       " 'tv': 241,\n",
       " 'yet': 242,\n",
       " 'woman': 243,\n",
       " 'rather': 244,\n",
       " 'day': 245,\n",
       " \"'ve\": 246,\n",
       " 'worst': 247,\n",
       " 'fun': 248,\n",
       " 'sure': 249,\n",
       " 'hard': 250,\n",
       " \"'m\": 251,\n",
       " 'doesn': 252,\n",
       " 'anyone': 253,\n",
       " 'played': 254,\n",
       " \"b'i\": 255,\n",
       " 'each': 256,\n",
       " 'found': 257,\n",
       " 'xc3': 258,\n",
       " 'especially': 259,\n",
       " 'course': 260,\n",
       " 'our': 261,\n",
       " 'having': 262,\n",
       " 'believe': 263,\n",
       " 'comes': 264,\n",
       " 'screen': 265,\n",
       " 'looking': 266,\n",
       " 'although': 267,\n",
       " 'trying': 268,\n",
       " 'goes': 269,\n",
       " 'set': 270,\n",
       " 'looks': 271,\n",
       " 'place': 272,\n",
       " 'book': 273,\n",
       " 'different': 274,\n",
       " 'put': 275,\n",
       " 'money': 276,\n",
       " 'actor': 277,\n",
       " 'ending': 278,\n",
       " 'maybe': 279,\n",
       " 'year': 280,\n",
       " 'sense': 281,\n",
       " 'reason': 282,\n",
       " 'true': 283,\n",
       " 'everything': 284,\n",
       " 'dvd': 285,\n",
       " 'shows': 286,\n",
       " 'once': 287,\n",
       " 'didn': 288,\n",
       " 'someone': 289,\n",
       " 'three': 290,\n",
       " 'worth': 291,\n",
       " 'job': 292,\n",
       " \"'re\": 293,\n",
       " 'main': 294,\n",
       " 'together': 295,\n",
       " 'play': 296,\n",
       " 'watched': 297,\n",
       " 'american': 298,\n",
       " 'plays': 299,\n",
       " '1': 300,\n",
       " 'effects': 301,\n",
       " 'later': 302,\n",
       " 'said': 303,\n",
       " 'takes': 304,\n",
       " 'instead': 305,\n",
       " 'audience': 306,\n",
       " 'seem': 307,\n",
       " 'john': 308,\n",
       " 'beautiful': 309,\n",
       " 'everyone': 310,\n",
       " 'himself': 311,\n",
       " 'version': 312,\n",
       " 'house': 313,\n",
       " 'high': 314,\n",
       " 'night': 315,\n",
       " 'during': 316,\n",
       " 'left': 317,\n",
       " \"i'm\": 318,\n",
       " 'special': 319,\n",
       " 'wife': 320,\n",
       " 'seeing': 321,\n",
       " 'half': 322,\n",
       " 'let': 323,\n",
       " 'star': 324,\n",
       " 'father': 325,\n",
       " 'excellent': 326,\n",
       " 'shot': 327,\n",
       " 'war': 328,\n",
       " \"didn't\": 329,\n",
       " 'idea': 330,\n",
       " 'black': 331,\n",
       " 'nice': 332,\n",
       " 'less': 333,\n",
       " 'mind': 334,\n",
       " 'else': 335,\n",
       " 'read': 336,\n",
       " \"doesn't\": 337,\n",
       " 'second': 338,\n",
       " 'simply': 339,\n",
       " 'fan': 340,\n",
       " 'help': 341,\n",
       " 'death': 342,\n",
       " 'poor': 343,\n",
       " 'completely': 344,\n",
       " '3': 345,\n",
       " 'men': 346,\n",
       " 'used': 347,\n",
       " 'home': 348,\n",
       " 'either': 349,\n",
       " 'short': 350,\n",
       " 'hollywood': 351,\n",
       " 'line': 352,\n",
       " 'dead': 353,\n",
       " 'given': 354,\n",
       " 'top': 355,\n",
       " 'budget': 356,\n",
       " 'kids': 357,\n",
       " 'try': 358,\n",
       " \"b'this\": 359,\n",
       " 'performances': 360,\n",
       " 'wrong': 361,\n",
       " 'classic': 362,\n",
       " 'enjoy': 363,\n",
       " 'boring': 364,\n",
       " 'need': 365,\n",
       " 'rest': 366,\n",
       " 'use': 367,\n",
       " 'low': 368,\n",
       " 'women': 369,\n",
       " 'production': 370,\n",
       " 'isn': 371,\n",
       " 'friends': 372,\n",
       " 'until': 373,\n",
       " 'camera': 374,\n",
       " 'along': 375,\n",
       " 'full': 376,\n",
       " 'truly': 377,\n",
       " 'video': 378,\n",
       " 'awful': 379,\n",
       " 'next': 380,\n",
       " 'tell': 381,\n",
       " 'couple': 382,\n",
       " 'start': 383,\n",
       " 'stupid': 384,\n",
       " 'remember': 385,\n",
       " 'mean': 386,\n",
       " 'sex': 387,\n",
       " 'stars': 388,\n",
       " 'perhaps': 389,\n",
       " 'came': 390,\n",
       " 'recommend': 391,\n",
       " 'moments': 392,\n",
       " 'episode': 393,\n",
       " 'wonderful': 394,\n",
       " 'school': 395,\n",
       " 'understand': 396,\n",
       " 'small': 397,\n",
       " 'face': 398,\n",
       " 'terrible': 399,\n",
       " 'playing': 400,\n",
       " \"i've\": 401,\n",
       " 'getting': 402,\n",
       " 'written': 403,\n",
       " \"'ll\": 404,\n",
       " 'early': 405,\n",
       " 'doing': 406,\n",
       " 'often': 407,\n",
       " 'name': 408,\n",
       " 'keep': 409,\n",
       " 'perfect': 410,\n",
       " 'style': 411,\n",
       " 'human': 412,\n",
       " 'others': 413,\n",
       " 'gives': 414,\n",
       " 'definitely': 415,\n",
       " 'person': 416,\n",
       " 'itself': 417,\n",
       " 'lines': 418,\n",
       " 'live': 419,\n",
       " 'become': 420,\n",
       " \"can't\": 421,\n",
       " 'dialogue': 422,\n",
       " 'head': 423,\n",
       " 'lost': 424,\n",
       " 'piece': 425,\n",
       " 'case': 426,\n",
       " 'felt': 427,\n",
       " 'finally': 428,\n",
       " 'boy': 429,\n",
       " 'supposed': 430,\n",
       " 'liked': 431,\n",
       " 'title': 432,\n",
       " 'yes': 433,\n",
       " 'white': 434,\n",
       " 'cinema': 435,\n",
       " 'picture': 436,\n",
       " 'against': 437,\n",
       " 'absolutely': 438,\n",
       " 'mother': 439,\n",
       " 'sort': 440,\n",
       " 'worse': 441,\n",
       " 'entire': 442,\n",
       " 'certainly': 443,\n",
       " 'went': 444,\n",
       " 'waste': 445,\n",
       " 'problem': 446,\n",
       " 'hope': 447,\n",
       " 'entertaining': 448,\n",
       " 'evil': 449,\n",
       " 'mr': 450,\n",
       " 'overall': 451,\n",
       " 'called': 452,\n",
       " 'children': 453,\n",
       " 'loved': 454,\n",
       " 'based': 455,\n",
       " 'killer': 456,\n",
       " 'several': 457,\n",
       " 'friend': 458,\n",
       " 'fans': 459,\n",
       " \"that's\": 460,\n",
       " 'drama': 461,\n",
       " \"isn't\": 462,\n",
       " 'beginning': 463,\n",
       " 'lives': 464,\n",
       " 'direction': 465,\n",
       " '5': 466,\n",
       " 'care': 467,\n",
       " 'becomes': 468,\n",
       " 'already': 469,\n",
       " \"'d\": 470,\n",
       " 'laugh': 471,\n",
       " 'example': 472,\n",
       " 'oh': 473,\n",
       " 'dark': 474,\n",
       " 'under': 475,\n",
       " 'seemed': 476,\n",
       " 'throughout': 477,\n",
       " 'turn': 478,\n",
       " '4': 479,\n",
       " 'wanted': 480,\n",
       " 'unfortunately': 481,\n",
       " 'x96': 482,\n",
       " 'son': 483,\n",
       " 'despite': 484,\n",
       " 'history': 485,\n",
       " 'fine': 486,\n",
       " 'final': 487,\n",
       " 'sound': 488,\n",
       " 'heart': 489,\n",
       " 'amazing': 490,\n",
       " 'guess': 491,\n",
       " 'lead': 492,\n",
       " 'humor': 493,\n",
       " 'totally': 494,\n",
       " 'michael': 495,\n",
       " 'writing': 496,\n",
       " 'quality': 497,\n",
       " \"there's\": 498,\n",
       " 'guys': 499,\n",
       " 'close': 500,\n",
       " 'wants': 501,\n",
       " 'child': 502,\n",
       " 'behind': 503,\n",
       " 'works': 504,\n",
       " 'tries': 505,\n",
       " 'side': 506,\n",
       " 'art': 507,\n",
       " 'game': 508,\n",
       " 'past': 509,\n",
       " 'town': 510,\n",
       " 'days': 511,\n",
       " 'able': 512,\n",
       " 'flick': 513,\n",
       " 'hand': 514,\n",
       " 'turns': 515,\n",
       " 'genre': 516,\n",
       " 'act': 517,\n",
       " 'enjoyed': 518,\n",
       " 'viewer': 519,\n",
       " 'favorite': 520,\n",
       " 'kill': 521,\n",
       " 'car': 522,\n",
       " 'soon': 523,\n",
       " 'starts': 524,\n",
       " 'gave': 525,\n",
       " 'run': 526,\n",
       " 'sometimes': 527,\n",
       " 'etc': 528,\n",
       " 'actress': 529,\n",
       " 'eyes': 530,\n",
       " 'late': 531,\n",
       " 'directed': 532,\n",
       " 'horrible': 533,\n",
       " 'parts': 534,\n",
       " 'brilliant': 535,\n",
       " 'wasn': 536,\n",
       " 'girls': 537,\n",
       " 'themselves': 538,\n",
       " 'hour': 539,\n",
       " 'self': 540,\n",
       " 'stories': 541,\n",
       " 'thinking': 542,\n",
       " 'expect': 543,\n",
       " 'city': 544,\n",
       " 'stuff': 545,\n",
       " 'kid': 546,\n",
       " 'god': 547,\n",
       " 'won': 548,\n",
       " 'blood': 549,\n",
       " 'obviously': 550,\n",
       " 'decent': 551,\n",
       " 'voice': 552,\n",
       " 'highly': 553,\n",
       " 'myself': 554,\n",
       " 'feeling': 555,\n",
       " 'fight': 556,\n",
       " 'today': 557,\n",
       " 'matter': 558,\n",
       " 'except': 559,\n",
       " 'writer': 560,\n",
       " \"wasn't\": 561,\n",
       " 'slow': 562,\n",
       " 'type': 563,\n",
       " \"he's\": 564,\n",
       " 'anyway': 565,\n",
       " 'roles': 566,\n",
       " 'age': 567,\n",
       " 'killed': 568,\n",
       " 'heard': 569,\n",
       " 'says': 570,\n",
       " 'moment': 571,\n",
       " 'daughter': 572,\n",
       " 'took': 573,\n",
       " 'leave': 574,\n",
       " 'strong': 575,\n",
       " 'cannot': 576,\n",
       " 'violence': 577,\n",
       " 's': 578,\n",
       " 'hit': 579,\n",
       " 'police': 580,\n",
       " 'stop': 581,\n",
       " 'happens': 582,\n",
       " 'particularly': 583,\n",
       " 'known': 584,\n",
       " 'happened': 585,\n",
       " 'involved': 586,\n",
       " 'brother': 587,\n",
       " 'obvious': 588,\n",
       " 'extremely': 589,\n",
       " 'chance': 590,\n",
       " 'told': 591,\n",
       " 'living': 592,\n",
       " 'experience': 593,\n",
       " 'lack': 594,\n",
       " 'coming': 595,\n",
       " 'alone': 596,\n",
       " 'james': 597,\n",
       " 'including': 598,\n",
       " 'murder': 599,\n",
       " 'attempt': 600,\n",
       " 'happen': 601,\n",
       " 'please': 602,\n",
       " 'wonder': 603,\n",
       " 'gore': 604,\n",
       " 'crap': 605,\n",
       " 'ago': 606,\n",
       " 'group': 607,\n",
       " 'complete': 608,\n",
       " 'none': 609,\n",
       " 'interest': 610,\n",
       " 'score': 611,\n",
       " 'cut': 612,\n",
       " 'simple': 613,\n",
       " 'hell': 614,\n",
       " 'save': 615,\n",
       " 'hero': 616,\n",
       " 'looked': 617,\n",
       " 'number': 618,\n",
       " 'song': 619,\n",
       " 'career': 620,\n",
       " 'husband': 621,\n",
       " 'possible': 622,\n",
       " 'annoying': 623,\n",
       " 'shown': 624,\n",
       " 'sad': 625,\n",
       " 'exactly': 626,\n",
       " 'seriously': 627,\n",
       " 'running': 628,\n",
       " 'musical': 629,\n",
       " 'serious': 630,\n",
       " 'yourself': 631,\n",
       " 'david': 632,\n",
       " 'whose': 633,\n",
       " 'taken': 634,\n",
       " 'cinematography': 635,\n",
       " 'released': 636,\n",
       " 'ends': 637,\n",
       " 'scary': 638,\n",
       " 'hours': 639,\n",
       " 'reality': 640,\n",
       " 'english': 641,\n",
       " 'usually': 642,\n",
       " 'light': 643,\n",
       " 'opening': 644,\n",
       " 'jokes': 645,\n",
       " 'across': 646,\n",
       " 'body': 647,\n",
       " 'hilarious': 648,\n",
       " 'somewhat': 649,\n",
       " 'relationship': 650,\n",
       " 'started': 651,\n",
       " 'usual': 652,\n",
       " 'view': 653,\n",
       " 'cool': 654,\n",
       " 'level': 655,\n",
       " 'ridiculous': 656,\n",
       " 'change': 657,\n",
       " 'opinion': 658,\n",
       " 'happy': 659,\n",
       " 'wish': 660,\n",
       " 'king': 661,\n",
       " 'middle': 662,\n",
       " 'novel': 663,\n",
       " 'taking': 664,\n",
       " 'ones': 665,\n",
       " 'talking': 666,\n",
       " 'ok': 667,\n",
       " 'finds': 668,\n",
       " 'order': 669,\n",
       " 'shots': 670,\n",
       " 'documentary': 671,\n",
       " 'saying': 672,\n",
       " 'female': 673,\n",
       " 'huge': 674,\n",
       " 'room': 675,\n",
       " 'mostly': 676,\n",
       " 'power': 677,\n",
       " 'episodes': 678,\n",
       " 'robert': 679,\n",
       " 'important': 680,\n",
       " 'talent': 681,\n",
       " 'rating': 682,\n",
       " 'word': 683,\n",
       " 'turned': 684,\n",
       " 'strange': 685,\n",
       " 'major': 686,\n",
       " 'five': 687,\n",
       " 'modern': 688,\n",
       " 'call': 689,\n",
       " 'single': 690,\n",
       " 'disappointed': 691,\n",
       " 'country': 692,\n",
       " 'apparently': 693,\n",
       " 'events': 694,\n",
       " 'due': 695,\n",
       " 'songs': 696,\n",
       " 'attention': 697,\n",
       " 'earth': 698,\n",
       " '7': 699,\n",
       " 'four': 700,\n",
       " 'television': 701,\n",
       " 'jack': 702,\n",
       " 'knows': 703,\n",
       " 'comic': 704,\n",
       " 'supporting': 705,\n",
       " 'basically': 706,\n",
       " 'non': 707,\n",
       " 'clearly': 708,\n",
       " 'knew': 709,\n",
       " 'british': 710,\n",
       " 'future': 711,\n",
       " 'fast': 712,\n",
       " '8': 713,\n",
       " 'class': 714,\n",
       " 'cheap': 715,\n",
       " 'thriller': 716,\n",
       " 'silly': 717,\n",
       " 'problems': 718,\n",
       " 'tells': 719,\n",
       " 'easily': 720,\n",
       " 'miss': 721,\n",
       " 'local': 722,\n",
       " 'paul': 723,\n",
       " 'words': 724,\n",
       " 'sequence': 725,\n",
       " 'entertainment': 726,\n",
       " 'bring': 727,\n",
       " 'beyond': 728,\n",
       " 'rock': 729,\n",
       " 'upon': 730,\n",
       " 'oscar': 731,\n",
       " 'straight': 732,\n",
       " 'whether': 733,\n",
       " 'sets': 734,\n",
       " 'moving': 735,\n",
       " 'predictable': 736,\n",
       " 'similar': 737,\n",
       " 'romantic': 738,\n",
       " 'review': 739,\n",
       " 'falls': 740,\n",
       " 'george': 741,\n",
       " 'mystery': 742,\n",
       " 'needs': 743,\n",
       " 'appears': 744,\n",
       " 'enjoyable': 745,\n",
       " 'eye': 746,\n",
       " 'giving': 747,\n",
       " 'clich': 748,\n",
       " 'talk': 749,\n",
       " 'lady': 750,\n",
       " 'within': 751,\n",
       " 'richard': 752,\n",
       " \"b'\": 753,\n",
       " 'ten': 754,\n",
       " 'animation': 755,\n",
       " 'message': 756,\n",
       " 'theater': 757,\n",
       " 'near': 758,\n",
       " 'couldn': 759,\n",
       " 'above': 760,\n",
       " 'theme': 761,\n",
       " 'team': 762,\n",
       " 'nearly': 763,\n",
       " 'sequel': 764,\n",
       " 'points': 765,\n",
       " 'dull': 766,\n",
       " 'stand': 767,\n",
       " \"you're\": 768,\n",
       " 'bunch': 769,\n",
       " 'mention': 770,\n",
       " 'herself': 771,\n",
       " 'add': 772,\n",
       " 'feels': 773,\n",
       " 'release': 774,\n",
       " \"b'the\": 775,\n",
       " 'storyline': 776,\n",
       " 'ways': 777,\n",
       " 'sister': 778,\n",
       " 'surprised': 779,\n",
       " 'red': 780,\n",
       " 'named': 781,\n",
       " 'using': 782,\n",
       " 'york': 783,\n",
       " 'lots': 784,\n",
       " 'fantastic': 785,\n",
       " 'easy': 786,\n",
       " 'begins': 787,\n",
       " 'actual': 788,\n",
       " 't': 789,\n",
       " 'working': 790,\n",
       " 'effort': 791,\n",
       " 'lee': 792,\n",
       " 'tale': 793,\n",
       " 'die': 794,\n",
       " 'minute': 795,\n",
       " 'hate': 796,\n",
       " 'clear': 797,\n",
       " 'french': 798,\n",
       " 'stay': 799,\n",
       " 'feature': 800,\n",
       " 'elements': 801,\n",
       " 'viewers': 802,\n",
       " 'among': 803,\n",
       " '9': 804,\n",
       " 'follow': 805,\n",
       " 're': 806,\n",
       " 'comments': 807,\n",
       " 'showing': 808,\n",
       " 'avoid': 809,\n",
       " 'editing': 810,\n",
       " 'tried': 811,\n",
       " 'typical': 812,\n",
       " 'famous': 813,\n",
       " 'fall': 814,\n",
       " 'dialog': 815,\n",
       " 'tom': 816,\n",
       " 'season': 817,\n",
       " 'period': 818,\n",
       " 'check': 819,\n",
       " 'form': 820,\n",
       " 'soundtrack': 821,\n",
       " 'certain': 822,\n",
       " 'filmed': 823,\n",
       " 'sorry': 824,\n",
       " 'means': 825,\n",
       " 'buy': 826,\n",
       " 'material': 827,\n",
       " 'peter': 828,\n",
       " 'weak': 829,\n",
       " 'realistic': 830,\n",
       " 'figure': 831,\n",
       " 'crime': 832,\n",
       " 'doubt': 833,\n",
       " 'somehow': 834,\n",
       " 'gone': 835,\n",
       " 'general': 836,\n",
       " 'kept': 837,\n",
       " 'parents': 838,\n",
       " 'leads': 839,\n",
       " 'viewing': 840,\n",
       " 'space': 841,\n",
       " 'greatest': 842,\n",
       " 'suspense': 843,\n",
       " 'dance': 844,\n",
       " 'lame': 845,\n",
       " 'third': 846,\n",
       " 'brought': 847,\n",
       " 'atmosphere': 848,\n",
       " 'hear': 849,\n",
       " 'particular': 850,\n",
       " 'imagine': 851,\n",
       " 'sequences': 852,\n",
       " 'move': 853,\n",
       " 'whatever': 854,\n",
       " 'indeed': 855,\n",
       " 'rent': 856,\n",
       " 'eventually': 857,\n",
       " 'learn': 858,\n",
       " 'de': 859,\n",
       " 'deal': 860,\n",
       " 'reviews': 861,\n",
       " 'zombie': 862,\n",
       " 'wait': 863,\n",
       " 'japanese': 864,\n",
       " 'average': 865,\n",
       " 'sexual': 866,\n",
       " 'note': 867,\n",
       " 'premise': 868,\n",
       " 'forget': 869,\n",
       " 'poorly': 870,\n",
       " 'surprise': 871,\n",
       " 'believable': 872,\n",
       " 'sit': 873,\n",
       " 'disney': 874,\n",
       " 'stage': 875,\n",
       " 'nature': 876,\n",
       " 'possibly': 877,\n",
       " 'decided': 878,\n",
       " 'subject': 879,\n",
       " 'expected': 880,\n",
       " 'became': 881,\n",
       " 'truth': 882,\n",
       " 'free': 883,\n",
       " 'screenplay': 884,\n",
       " 'america': 885,\n",
       " 'difficult': 886,\n",
       " 'killing': 887,\n",
       " 'xa9': 888,\n",
       " 'romance': 889,\n",
       " 'imdb': 890,\n",
       " '20': 891,\n",
       " 'nor': 892,\n",
       " 'dr': 893,\n",
       " 'question': 894,\n",
       " 'street': 895,\n",
       " 'leaves': 896,\n",
       " 'needed': 897,\n",
       " 'baby': 898,\n",
       " 'reading': 899,\n",
       " \"couldn't\": 900,\n",
       " 'hot': 901,\n",
       " 'begin': 902,\n",
       " 'meets': 903,\n",
       " 'dog': 904,\n",
       " 'directors': 905,\n",
       " 'credits': 906,\n",
       " 'unless': 907,\n",
       " 'joe': 908,\n",
       " 'write': 909,\n",
       " 'otherwise': 910,\n",
       " 'superb': 911,\n",
       " 'society': 912,\n",
       " 'shame': 913,\n",
       " 'okay': 914,\n",
       " 'situation': 915,\n",
       " 'dramatic': 916,\n",
       " 'memorable': 917,\n",
       " 'weird': 918,\n",
       " 'open': 919,\n",
       " 'badly': 920,\n",
       " 'earlier': 921,\n",
       " 'male': 922,\n",
       " 'meet': 923,\n",
       " 'acted': 924,\n",
       " 'forced': 925,\n",
       " 'emotional': 926,\n",
       " 'sci': 927,\n",
       " 'fi': 928,\n",
       " 'dream': 929,\n",
       " 'laughs': 930,\n",
       " 'writers': 931,\n",
       " 'older': 932,\n",
       " 'realize': 933,\n",
       " 'interested': 934,\n",
       " 'forward': 935,\n",
       " 'footage': 936,\n",
       " 'comment': 937,\n",
       " 'crazy': 938,\n",
       " 'beauty': 939,\n",
       " 'fantasy': 940,\n",
       " 'deep': 941,\n",
       " 'whom': 942,\n",
       " 'sounds': 943,\n",
       " 'plus': 944,\n",
       " 'monster': 945,\n",
       " 'directing': 946,\n",
       " 'keeps': 947,\n",
       " 'ask': 948,\n",
       " 'development': 949,\n",
       " 'features': 950,\n",
       " 'air': 951,\n",
       " 'mess': 952,\n",
       " 'quickly': 953,\n",
       " 'mark': 954,\n",
       " 'd': 955,\n",
       " 'creepy': 956,\n",
       " 'box': 957,\n",
       " 'perfectly': 958,\n",
       " 'towards': 959,\n",
       " 'worked': 960,\n",
       " 'setting': 961,\n",
       " 'result': 962,\n",
       " 'cheesy': 963,\n",
       " 'unique': 964,\n",
       " 'e': 965,\n",
       " 'brings': 966,\n",
       " 'plenty': 967,\n",
       " 'hands': 968,\n",
       " 'effect': 969,\n",
       " 'total': 970,\n",
       " 'previous': 971,\n",
       " 'jane': 972,\n",
       " 'girlfriend': 973,\n",
       " 'fire': 974,\n",
       " 'personal': 975,\n",
       " 'rate': 976,\n",
       " 'bill': 977,\n",
       " 'incredibly': 978,\n",
       " 'business': 979,\n",
       " 'leading': 980,\n",
       " 'joke': 981,\n",
       " 'admit': 982,\n",
       " 'casting': 983,\n",
       " 'appear': 984,\n",
       " 'background': 985,\n",
       " 'powerful': 986,\n",
       " 'apart': 987,\n",
       " 'present': 988,\n",
       " 'telling': 989,\n",
       " 'christmas': 990,\n",
       " 'meant': 991,\n",
       " 'potential': 992,\n",
       " 'battle': 993,\n",
       " 'create': 994,\n",
       " 'break': 995,\n",
       " 'hardly': 996,\n",
       " 'return': 997,\n",
       " 'era': 998,\n",
       " \"you'll\": 999,\n",
       " 'masterpiece': 1000,\n",
       " ...}"
      ]
     },
     "execution_count": 17,
     "metadata": {},
     "output_type": "execute_result"
    }
   ],
   "source": [
    "word_index"
   ]
  },
  {
   "cell_type": "code",
   "execution_count": 18,
   "metadata": {
    "id": "C56lRRHbt3s1"
   },
   "outputs": [],
   "source": [
    "sequences = tokenizer.texts_to_sequences(training_sentences)\n",
    "padded = pad_sequences(sequences, maxlen=max_length, truncating=trunc_type)\n",
    "testing_sequences = tokenizer.texts_to_sequences(testing_sentences)\n",
    "testing_padded = pad_sequences(testing_sequences, maxlen=max_length)"
   ]
  },
  {
   "cell_type": "code",
   "execution_count": 19,
   "metadata": {
    "colab": {
     "base_uri": "https://localhost:8080/"
    },
    "id": "0ZpUniXzuGxg",
    "outputId": "930a97c4-0759-4d2d-9732-6b9b93674bfd"
   },
   "outputs": [
    {
     "data": {
      "text/plain": [
       "25000"
      ]
     },
     "execution_count": 19,
     "metadata": {},
     "output_type": "execute_result"
    }
   ],
   "source": [
    "len(sequences)"
   ]
  },
  {
   "cell_type": "code",
   "execution_count": 20,
   "metadata": {
    "colab": {
     "base_uri": "https://localhost:8080/"
    },
    "id": "6CDyyPoduJDe",
    "outputId": "b128b3c7-0e23-4243-fa75-624da7fdcda4"
   },
   "outputs": [
    {
     "data": {
      "text/plain": [
       "110"
      ]
     },
     "execution_count": 20,
     "metadata": {},
     "output_type": "execute_result"
    }
   ],
   "source": [
    "len(sequences[0])"
   ]
  },
  {
   "cell_type": "code",
   "execution_count": 21,
   "metadata": {
    "colab": {
     "base_uri": "https://localhost:8080/"
    },
    "collapsed": true,
    "id": "-rzaNIwMubAn",
    "jupyter": {
     "outputs_hidden": true
    },
    "outputId": "26e702f1-6533-4f1e-e2cb-ccf0cadac9fb"
   },
   "outputs": [
    {
     "data": {
      "text/plain": [
       "[3048,\n",
       " 413,\n",
       " 27,\n",
       " 1057,\n",
       " 30,\n",
       " 1,\n",
       " 369,\n",
       " 12,\n",
       " 140,\n",
       " 2540,\n",
       " 8,\n",
       " 11,\n",
       " 19,\n",
       " 24,\n",
       " 676,\n",
       " 438,\n",
       " 1516,\n",
       " 1,\n",
       " 114,\n",
       " 53,\n",
       " 286,\n",
       " 1,\n",
       " 4,\n",
       " 1,\n",
       " 673,\n",
       " 54,\n",
       " 346,\n",
       " 24,\n",
       " 186,\n",
       " 33,\n",
       " 181,\n",
       " 5,\n",
       " 28,\n",
       " 7037,\n",
       " 18,\n",
       " 54,\n",
       " 60,\n",
       " 346,\n",
       " 24,\n",
       " 186,\n",
       " 33,\n",
       " 420,\n",
       " 1,\n",
       " 4,\n",
       " 3,\n",
       " 2435,\n",
       " 280,\n",
       " 153,\n",
       " 429,\n",
       " 2,\n",
       " 1,\n",
       " 429,\n",
       " 468,\n",
       " 3,\n",
       " 128,\n",
       " 67,\n",
       " 712,\n",
       " 74,\n",
       " 143,\n",
       " 30,\n",
       " 28,\n",
       " 36,\n",
       " 2070,\n",
       " 31,\n",
       " 11,\n",
       " 567,\n",
       " 26,\n",
       " 94,\n",
       " 211,\n",
       " 56,\n",
       " 1,\n",
       " 3183,\n",
       " 5,\n",
       " 6664,\n",
       " 25,\n",
       " 283,\n",
       " 118,\n",
       " 46]"
      ]
     },
     "execution_count": 21,
     "metadata": {},
     "output_type": "execute_result"
    }
   ],
   "source": [
    "sequences[4]"
   ]
  },
  {
   "cell_type": "code",
   "execution_count": 22,
   "metadata": {
    "colab": {
     "base_uri": "https://localhost:8080/"
    },
    "id": "gggrdFgwufcI",
    "outputId": "69c9db2e-801f-4bd3-a5ac-822d6bd9fc75"
   },
   "outputs": [
    {
     "data": {
      "text/plain": [
       "120"
      ]
     },
     "execution_count": 22,
     "metadata": {},
     "output_type": "execute_result"
    }
   ],
   "source": [
    "len(padded[0])"
   ]
  },
  {
   "cell_type": "code",
   "execution_count": 23,
   "metadata": {
    "colab": {
     "base_uri": "https://localhost:8080/"
    },
    "id": "D1Gzz1yIuiuG",
    "outputId": "7b6615bf-c3eb-4139-a683-c798b6f3d273"
   },
   "outputs": [
    {
     "data": {
      "text/plain": [
       "array([[   0,    0,    0, ...,  873,  144,    9],\n",
       "       [   0,    0,    0, ...,   31,   30,   46],\n",
       "       [6174,    1, 4915, ...,    8, 6175,   46],\n",
       "       ...,\n",
       "       [7628,   36,   10, ...,  167,    5,   28],\n",
       "       [2676,   10,  215, ...,    1,   88,   10],\n",
       "       [3874,    4,   30, ...,    5,  994, 5125]], dtype=int32)"
      ]
     },
     "execution_count": 23,
     "metadata": {},
     "output_type": "execute_result"
    }
   ],
   "source": [
    "padded"
   ]
  },
  {
   "cell_type": "code",
   "execution_count": 24,
   "metadata": {
    "colab": {
     "base_uri": "https://localhost:8080/"
    },
    "id": "6M60fnYoumtE",
    "outputId": "5352783a-dda4-4239-fe41-cdd37d1c28ad"
   },
   "outputs": [
    {
     "data": {
      "text/plain": [
       "(25000, 120)"
      ]
     },
     "execution_count": 24,
     "metadata": {},
     "output_type": "execute_result"
    }
   ],
   "source": [
    "padded.shape"
   ]
  },
  {
   "cell_type": "code",
   "execution_count": 27,
   "metadata": {
    "colab": {
     "base_uri": "https://localhost:8080/"
    },
    "id": "P0wxLnMPusvD",
    "outputId": "b8f67fbd-e1cd-450d-98f0-7c83b08d2e30"
   },
   "outputs": [
    {
     "data": {
      "text/plain": [
       "(25000, 120)"
      ]
     },
     "execution_count": 27,
     "metadata": {},
     "output_type": "execute_result"
    }
   ],
   "source": [
    "testing_padded.shape"
   ]
  },
  {
   "cell_type": "code",
   "execution_count": 28,
   "metadata": {
    "colab": {
     "base_uri": "https://localhost:8080/"
    },
    "id": "W7S9ysgQu3y8",
    "outputId": "b82efa9c-a8b1-4eba-d92b-f2bb8345208d"
   },
   "outputs": [
    {
     "data": {
      "text/plain": [
       "dtype('int32')"
      ]
     },
     "execution_count": 28,
     "metadata": {},
     "output_type": "execute_result"
    }
   ],
   "source": [
    "padded.dtype"
   ]
  },
  {
   "cell_type": "markdown",
   "metadata": {
    "id": "k8rVsRh9wMuz"
   },
   "source": [
    "### Build the SimpleRNN Model"
   ]
  },
  {
   "cell_type": "code",
   "execution_count": 33,
   "metadata": {
    "colab": {
     "base_uri": "https://localhost:8080/"
    },
    "id": "STCUgNSNu_RK",
    "outputId": "927b29d3-995b-4837-d9c1-d2c63fb0ac9e"
   },
   "outputs": [
    {
     "name": "stdout",
     "output_type": "stream",
     "text": [
      "Model: \"sequential\"\n",
      "_________________________________________________________________\n",
      " Layer (type)                Output Shape              Param #   \n",
      "=================================================================\n",
      " embedding_2 (Embedding)     (None, 120, 16)           160000    \n",
      "                                                                 \n",
      " simple_rnn_2 (SimpleRNN)    (None, 32)                1568      \n",
      "                                                                 \n",
      " dense (Dense)               (None, 10)                330       \n",
      "                                                                 \n",
      " dense_1 (Dense)             (None, 1)                 11        \n",
      "                                                                 \n",
      "=================================================================\n",
      "Total params: 161909 (632.46 KB)\n",
      "Trainable params: 161909 (632.46 KB)\n",
      "Non-trainable params: 0 (0.00 Byte)\n",
      "_________________________________________________________________\n"
     ]
    }
   ],
   "source": [
    "model_rnn = Sequential( [\n",
    "        Embedding(vocab_size, embedding_dim, input_length=max_length),\n",
    "        SimpleRNN(32),\n",
    "        Dense(10, activation='relu'),\n",
    "        Dense(1, activation='sigmoid')\n",
    "])\n",
    "model_rnn.summary()"
   ]
  },
  {
   "cell_type": "markdown",
   "metadata": {
    "id": "pCjzWBqPxQT8"
   },
   "source": [
    "### Compile the RNN model"
   ]
  },
  {
   "cell_type": "code",
   "execution_count": 34,
   "metadata": {
    "id": "ENuY-fbSw2bX"
   },
   "outputs": [],
   "source": [
    "model_rnn.compile(loss='binary_crossentropy', optimizer='adam', metrics=['accuracy'])"
   ]
  },
  {
   "cell_type": "code",
   "execution_count": 35,
   "metadata": {
    "colab": {
     "base_uri": "https://localhost:8080/"
    },
    "id": "bZIlzsM5xXhW",
    "outputId": "7f55f306-bf6b-454c-da20-568bbe8a5f4d"
   },
   "outputs": [
    {
     "name": "stdout",
     "output_type": "stream",
     "text": [
      "Epoch 1/10\n",
      "782/782 [==============================] - 27s 33ms/step - loss: 0.6865 - accuracy: 0.5336 - val_loss: 0.7178 - val_accuracy: 0.6077\n",
      "Epoch 2/10\n",
      "782/782 [==============================] - 27s 35ms/step - loss: 0.6433 - accuracy: 0.6281 - val_loss: 0.6461 - val_accuracy: 0.6121\n",
      "Epoch 3/10\n",
      "782/782 [==============================] - 26s 33ms/step - loss: 0.4752 - accuracy: 0.7766 - val_loss: 0.5961 - val_accuracy: 0.6944\n",
      "Epoch 4/10\n",
      "782/782 [==============================] - 27s 34ms/step - loss: 0.4853 - accuracy: 0.7663 - val_loss: 0.5216 - val_accuracy: 0.7729\n",
      "Epoch 5/10\n",
      "782/782 [==============================] - 25s 32ms/step - loss: 0.2147 - accuracy: 0.9162 - val_loss: 0.7255 - val_accuracy: 0.7146\n",
      "Epoch 6/10\n",
      "782/782 [==============================] - 27s 35ms/step - loss: 0.1041 - accuracy: 0.9642 - val_loss: 0.8092 - val_accuracy: 0.7638\n",
      "Epoch 7/10\n",
      "782/782 [==============================] - 30s 38ms/step - loss: 0.0575 - accuracy: 0.9805 - val_loss: 1.2331 - val_accuracy: 0.6820\n",
      "Epoch 8/10\n",
      "782/782 [==============================] - 26s 33ms/step - loss: 0.0447 - accuracy: 0.9844 - val_loss: 1.0954 - val_accuracy: 0.7415\n",
      "Epoch 9/10\n",
      "782/782 [==============================] - 26s 33ms/step - loss: 0.0307 - accuracy: 0.9903 - val_loss: 1.3246 - val_accuracy: 0.7017\n",
      "Epoch 10/10\n",
      "782/782 [==============================] - 25s 32ms/step - loss: 0.0466 - accuracy: 0.9830 - val_loss: 1.2662 - val_accuracy: 0.7364\n"
     ]
    }
   ],
   "source": [
    "history = model_rnn.fit(padded, training_labels_final, epochs=10, validation_data=(testing_padded, testing_labels_final))"
   ]
  },
  {
   "cell_type": "code",
   "execution_count": 36,
   "metadata": {
    "colab": {
     "base_uri": "https://localhost:8080/"
    },
    "id": "MJaNpJVaxbCk",
    "outputId": "6034bec7-028e-48d4-c6d8-54ce680764d2"
   },
   "outputs": [
    {
     "data": {
      "text/plain": [
       "{'loss': [0.6865121722221375,\n",
       "  0.6432697772979736,\n",
       "  0.4752029776573181,\n",
       "  0.48533305525779724,\n",
       "  0.2146793007850647,\n",
       "  0.10412006825208664,\n",
       "  0.05751194804906845,\n",
       "  0.04469107836484909,\n",
       "  0.030733244493603706,\n",
       "  0.04663926735520363],\n",
       " 'accuracy': [0.5336400270462036,\n",
       "  0.6281200051307678,\n",
       "  0.776639997959137,\n",
       "  0.7662799954414368,\n",
       "  0.916159987449646,\n",
       "  0.9642000198364258,\n",
       "  0.9805200099945068,\n",
       "  0.9843999743461609,\n",
       "  0.9903200268745422,\n",
       "  0.9829999804496765],\n",
       " 'val_loss': [0.7178024053573608,\n",
       "  0.6460606455802917,\n",
       "  0.5961079597473145,\n",
       "  0.521634042263031,\n",
       "  0.7255479097366333,\n",
       "  0.8092143535614014,\n",
       "  1.2330859899520874,\n",
       "  1.0953574180603027,\n",
       "  1.3245813846588135,\n",
       "  1.2661750316619873],\n",
       " 'val_accuracy': [0.6077200174331665,\n",
       "  0.6120799779891968,\n",
       "  0.6943600177764893,\n",
       "  0.7728800177574158,\n",
       "  0.7146400213241577,\n",
       "  0.7638400197029114,\n",
       "  0.6819599866867065,\n",
       "  0.7414799928665161,\n",
       "  0.7016800045967102,\n",
       "  0.7364000082015991]}"
      ]
     },
     "execution_count": 36,
     "metadata": {},
     "output_type": "execute_result"
    }
   ],
   "source": [
    "history.history"
   ]
  },
  {
   "cell_type": "code",
   "execution_count": 41,
   "metadata": {
    "colab": {
     "base_uri": "https://localhost:8080/",
     "height": 472
    },
    "id": "Ua1NTNt-yqJL",
    "outputId": "830c8ea2-7fa7-4c2e-bb1f-d890fa4b79e6"
   },
   "outputs": [
    {
     "data": {
      "image/png": "[encoded data removed]",
      "text/plain": [
       "<Figure size 640x480 with 1 Axes>"
      ]
     },
     "metadata": {},
     "output_type": "display_data"
    }
   ],
   "source": [
    "plt.title('Simple RNN')\n",
    "plt.xlabel('Epochs')\n",
    "plt.ylabel('Accuracy')\n",
    "plt.plot(range(1,11), history.history['loss'], color = 'r', label = 'Loss', marker = '.')\n",
    "plt.plot(range(1,11), history.history['accuracy'], color = 'g', label = 'Accuracy', marker = '.')\n",
    "plt.plot(range(1,11), history.history['val_loss'], color = 'b', label = 'Val-Loss', marker = '.')\n",
    "plt.plot(range(1,11), history.history['val_accuracy'], color = 'm', label = 'Val-Accuracy', marker = '.')\n",
    "plt.legend()\n",
    "plt.show()"
   ]
  },
  {
   "cell_type": "markdown",
   "metadata": {
    "id": "YbQbXqRC0_6h"
   },
   "source": [
    "### Build the model for LSTM"
   ]
  },
  {
   "cell_type": "code",
   "execution_count": 43,
   "metadata": {
    "colab": {
     "base_uri": "https://localhost:8080/"
    },
    "id": "69AU_03U1N20",
    "outputId": "80e8bdd0-3e20-48fd-affd-afc339185a46"
   },
   "outputs": [
    {
     "name": "stdout",
     "output_type": "stream",
     "text": [
      "Model: \"sequential_1\"\n",
      "_________________________________________________________________\n",
      " Layer (type)                Output Shape              Param #   \n",
      "=================================================================\n",
      " embedding_3 (Embedding)     (None, 120, 16)           160000    \n",
      "                                                                 \n",
      " bidirectional (Bidirection  (None, 64)                12544     \n",
      " al)                                                             \n",
      "                                                                 \n",
      " dense_2 (Dense)             (None, 10)                650       \n",
      "                                                                 \n",
      " dense_3 (Dense)             (None, 1)                 11        \n",
      "                                                                 \n",
      "=================================================================\n",
      "Total params: 173205 (676.58 KB)\n",
      "Trainable params: 173205 (676.58 KB)\n",
      "Non-trainable params: 0 (0.00 Byte)\n",
      "_________________________________________________________________\n"
     ]
    }
   ],
   "source": [
    "model_lstm = Sequential( [\n",
    "        Embedding(vocab_size, embedding_dim, input_length=max_length),\n",
    "        Bidirectional(LSTM(32)),\n",
    "        Dense(10, activation='relu'),\n",
    "        Dense(1, activation='sigmoid')\n",
    "])\n",
    "model_lstm.summary()"
   ]
  },
  {
   "cell_type": "markdown",
   "metadata": {
    "id": "1KSl78ka1opu"
   },
   "source": [
    "### Compile LSTM model"
   ]
  },
  {
   "cell_type": "code",
   "execution_count": 44,
   "metadata": {
    "id": "jZS_8mxM1VkP"
   },
   "outputs": [],
   "source": [
    "model_lstm.compile(loss='binary_crossentropy', optimizer='adam', metrics=['accuracy'])"
   ]
  },
  {
   "cell_type": "markdown",
   "metadata": {
    "id": "dEmR2nq312EX"
   },
   "source": [
    "### Train LSTM model"
   ]
  },
  {
   "cell_type": "code",
   "execution_count": 45,
   "metadata": {
    "colab": {
     "base_uri": "https://localhost:8080/"
    },
    "id": "5sAiGxL611PO",
    "outputId": "c39e6fca-2ff1-4d94-a8c0-28bc1bc3c684"
   },
   "outputs": [
    {
     "name": "stdout",
     "output_type": "stream",
     "text": [
      "Epoch 1/10\n",
      "782/782 [==============================] - 89s 109ms/step - loss: 0.4775 - accuracy: 0.7554 - val_loss: 0.3586 - val_accuracy: 0.8439\n",
      "Epoch 2/10\n",
      "782/782 [==============================] - 77s 98ms/step - loss: 0.2999 - accuracy: 0.8822 - val_loss: 0.3551 - val_accuracy: 0.8475\n",
      "Epoch 3/10\n",
      "782/782 [==============================] - 81s 104ms/step - loss: 0.2441 - accuracy: 0.9076 - val_loss: 0.3717 - val_accuracy: 0.8439\n",
      "Epoch 4/10\n",
      "782/782 [==============================] - 82s 105ms/step - loss: 0.1971 - accuracy: 0.9273 - val_loss: 0.4270 - val_accuracy: 0.8383\n",
      "Epoch 5/10\n",
      "782/782 [==============================] - 82s 105ms/step - loss: 0.1625 - accuracy: 0.9412 - val_loss: 0.5087 - val_accuracy: 0.8309\n",
      "Epoch 6/10\n",
      "782/782 [==============================] - 74s 95ms/step - loss: 0.1301 - accuracy: 0.9542 - val_loss: 0.5363 - val_accuracy: 0.8286\n",
      "Epoch 7/10\n",
      "782/782 [==============================] - 85s 109ms/step - loss: 0.1086 - accuracy: 0.9636 - val_loss: 0.6232 - val_accuracy: 0.8278\n",
      "Epoch 8/10\n",
      "782/782 [==============================] - 113s 145ms/step - loss: 0.0915 - accuracy: 0.9685 - val_loss: 0.7468 - val_accuracy: 0.8184\n",
      "Epoch 9/10\n",
      "782/782 [==============================] - 80s 102ms/step - loss: 0.0718 - accuracy: 0.9779 - val_loss: 0.8886 - val_accuracy: 0.8052\n",
      "Epoch 10/10\n",
      "782/782 [==============================] - 82s 105ms/step - loss: 0.0591 - accuracy: 0.9816 - val_loss: 0.8235 - val_accuracy: 0.8190\n"
     ]
    }
   ],
   "source": [
    "history_lstm = model_lstm.fit(padded, training_labels_final, epochs=10, validation_data=(testing_padded, testing_labels_final))"
   ]
  },
  {
   "cell_type": "code",
   "execution_count": 47,
   "metadata": {
    "colab": {
     "base_uri": "https://localhost:8080/",
     "height": 472
    },
    "id": "LbUVCVyS16kb",
    "outputId": "d1040778-ca48-47ae-d111-6bfc7057fe57"
   },
   "outputs": [
    {
     "data": {
      "image/png": "[encoded data removed]",
      "text/plain": [
       "<Figure size 640x480 with 1 Axes>"
      ]
     },
     "metadata": {},
     "output_type": "display_data"
    }
   ],
   "source": [
    "plt.title('LSTM')\n",
    "plt.xlabel('Epochs')\n",
    "plt.ylabel('Accuracy')\n",
    "plt.plot(range(1,11), history.history['loss'], color = 'r', label = 'Loss', marker = '.')\n",
    "plt.plot(range(1,11), history.history['accuracy'], color = 'g', label = 'Accuracy', marker = '.')\n",
    "plt.plot(range(1,11), history.history['val_loss'], color = 'b', label = 'Val-Loss', marker = '.')\n",
    "plt.plot(range(1,11), history.history['val_accuracy'], color = 'm', label = 'Val-Accuracy', marker = '.')\n",
    "plt.legend()\n",
    "plt.show()"
   ]
  },
  {
   "cell_type": "code",
   "execution_count": 48,
   "metadata": {
    "colab": {
     "base_uri": "https://localhost:8080/"
    },
    "id": "EzuZBvTP5S9C",
    "outputId": "366df1fe-c095-4c21-fe5d-44ec17bc5cbc"
   },
   "outputs": [
    {
     "name": "stdout",
     "output_type": "stream",
     "text": [
      "Model: \"sequential_1\"\n",
      "_________________________________________________________________\n",
      " Layer (type)                Output Shape              Param #   \n",
      "=================================================================\n",
      " embedding_3 (Embedding)     (None, 120, 16)           160000    \n",
      "                                                                 \n",
      " bidirectional (Bidirection  (None, 64)                12544     \n",
      " al)                                                             \n",
      "                                                                 \n",
      " dense_2 (Dense)             (None, 10)                650       \n",
      "                                                                 \n",
      " dense_3 (Dense)             (None, 1)                 11        \n",
      "                                                                 \n",
      "=================================================================\n",
      "Total params: 173205 (676.58 KB)\n",
      "Trainable params: 173205 (676.58 KB)\n",
      "Non-trainable params: 0 (0.00 Byte)\n",
      "_________________________________________________________________\n"
     ]
    }
   ],
   "source": [
    "model_gru = Sequential( [\n",
    "        Embedding(vocab_size, embedding_dim, input_length=max_length),\n",
    "        Bidirectional(GRU(32)),\n",
    "        Dense(10, activation='relu'),\n",
    "        Dense(1, activation='sigmoid')\n",
    "])\n",
    "model_lstm.summary()"
   ]
  },
  {
   "cell_type": "markdown",
   "metadata": {
    "id": "pkPLp1Eq4OTi"
   },
   "source": [
    "### Complie GRU model"
   ]
  },
  {
   "cell_type": "code",
   "execution_count": 49,
   "metadata": {
    "id": "k4cBnDwa4Tyd"
   },
   "outputs": [],
   "source": [
    "model_gru.compile(loss='binary_crossentropy', optimizer='adam', metrics=['accuracy'])"
   ]
  },
  {
   "cell_type": "markdown",
   "metadata": {
    "id": "uqH7dFY64Zg3"
   },
   "source": [
    "### Train GRU model"
   ]
  },
  {
   "cell_type": "code",
   "execution_count": 50,
   "metadata": {
    "colab": {
     "base_uri": "https://localhost:8080/"
    },
    "id": "-cUfwz254Y-n",
    "outputId": "1748589b-ffb0-48a9-efb7-29ba4c8f3c9a"
   },
   "outputs": [
    {
     "name": "stdout",
     "output_type": "stream",
     "text": [
      "Epoch 1/10\n",
      "782/782 [==============================] - 87s 106ms/step - loss: 0.4871 - accuracy: 0.7449 - val_loss: 0.3399 - val_accuracy: 0.8520\n",
      "Epoch 2/10\n",
      "782/782 [==============================] - 78s 99ms/step - loss: 0.2867 - accuracy: 0.8841 - val_loss: 0.3750 - val_accuracy: 0.8458\n",
      "Epoch 3/10\n",
      "782/782 [==============================] - 81s 103ms/step - loss: 0.2212 - accuracy: 0.9162 - val_loss: 0.3763 - val_accuracy: 0.8435\n",
      "Epoch 4/10\n",
      "782/782 [==============================] - 76s 97ms/step - loss: 0.1645 - accuracy: 0.9402 - val_loss: 0.4758 - val_accuracy: 0.8365\n",
      "Epoch 5/10\n",
      "782/782 [==============================] - 79s 101ms/step - loss: 0.1171 - accuracy: 0.9594 - val_loss: 0.5448 - val_accuracy: 0.8277\n",
      "Epoch 6/10\n",
      "782/782 [==============================] - 79s 102ms/step - loss: 0.0780 - accuracy: 0.9738 - val_loss: 0.5744 - val_accuracy: 0.8247\n",
      "Epoch 7/10\n",
      "782/782 [==============================] - 113s 144ms/step - loss: 0.0511 - accuracy: 0.9836 - val_loss: 0.7619 - val_accuracy: 0.8222\n",
      "Epoch 8/10\n",
      "782/782 [==============================] - 107s 137ms/step - loss: 0.0344 - accuracy: 0.9891 - val_loss: 0.7899 - val_accuracy: 0.8234\n",
      "Epoch 9/10\n",
      "782/782 [==============================] - 122s 156ms/step - loss: 0.0299 - accuracy: 0.9896 - val_loss: 0.9072 - val_accuracy: 0.8151\n",
      "Epoch 10/10\n",
      "782/782 [==============================] - 102s 131ms/step - loss: 0.0207 - accuracy: 0.9929 - val_loss: 0.9678 - val_accuracy: 0.8165\n"
     ]
    }
   ],
   "source": [
    "history_gru = model_gru.fit(padded, training_labels_final, epochs=10, validation_data=(testing_padded, testing_labels_final))"
   ]
  },
  {
   "cell_type": "code",
   "execution_count": 51,
   "metadata": {
    "colab": {
     "base_uri": "https://localhost:8080/",
     "height": 472
    },
    "id": "Pbhcukxg5iqW",
    "outputId": "a90af0d3-d061-46c2-9688-ffc7f7181d09"
   },
   "outputs": [
    {
     "data": {
      "image/png": "[encoded data removed]",
      "text/plain": [
       "<Figure size 640x480 with 1 Axes>"
      ]
     },
     "metadata": {},
     "output_type": "display_data"
    }
   ],
   "source": [
    "plt.title('GRU')\n",
    "plt.xlabel('Epochs')\n",
    "plt.ylabel('Accuracy')\n",
    "plt.plot(range(1,11), history.history['loss'], color = 'r', label = 'Loss', marker = '.')\n",
    "plt.plot(range(1,11), history.history['accuracy'], color = 'g', label = 'Accuracy', marker = '.')\n",
    "plt.plot(range(1,11), history.history['val_loss'], color = 'b', label = 'Val-Loss', marker = '.')\n",
    "plt.plot(range(1,11), history.history['val_accuracy'], color = 'm', label = 'Val-Accuracy', marker = '.')\n",
    "plt.legend()\n",
    "plt.show()"
   ]
  },
  {
   "cell_type": "code",
   "execution_count": 56,
   "metadata": {
    "colab": {
     "base_uri": "https://localhost:8080/",
     "height": 524
    },
    "id": "BwhGjiCF7W3X",
    "outputId": "4b303651-53a4-46f2-bd11-02e785700897"
   },
   "outputs": [
    {
     "data": {
      "text/plain": [
       "<matplotlib.legend.Legend at 0x7f24d1d97b20>"
      ]
     },
     "execution_count": 56,
     "metadata": {},
     "output_type": "execute_result"
    },
    {
     "data": {
      "image/png": "[encoded data removed]",
      "text/plain": [
       "<Figure size 1600x600 with 2 Axes>"
      ]
     },
     "metadata": {},
     "output_type": "display_data"
    }
   ],
   "source": [
    "plt.figure(figsize=(16,6))\n",
    "plt.subplot(1,2,1)\n",
    "plt.title('Accuraies')\n",
    "plt.xlabel('Epochs')\n",
    "plt.grid()\n",
    "plt.plot(range(1,11), history.history['accuracy'], color = 'r', label = 'RNN', marker = '.')\n",
    "plt.plot(range(1,11), history_lstm.history['accuracy'], color = 'g', label = 'LSTM', marker = '.')\n",
    "plt.plot(range(1,11), history_gru.history['accuracy'], color = 'b', label = 'GRU', marker = '.')\n",
    "\n",
    "\n",
    "plt.subplot(1,2,2)\n",
    "plt.title('Loss')\n",
    "plt.xlabel('Epochs')\n",
    "plt.grid()\n",
    "plt.plot(range(1,11), history.history['loss'], color = 'r', label = 'Loss', marker = '.')\n",
    "plt.plot(range(1,11), history_lstm.history['loss'], color = 'b', label = 'LSTM', marker = '.')\n",
    "plt.plot(range(1,11), history_gru.history['loss'], color = 'm', label = 'GRU', marker = '.')\n",
    "plt.legend(loc='upper right')"
   ]
  },
  {
   "cell_type": "code",
   "execution_count": 58,
   "metadata": {
    "colab": {
     "base_uri": "https://localhost:8080/",
     "height": 521
    },
    "id": "CzewrC4u9YmM",
    "outputId": "a33e38ca-ee30-4d3f-f561-26e37f92d736"
   },
   "outputs": [
    {
     "data": {
      "text/plain": [
       "<matplotlib.legend.Legend at 0x7f24d18b9480>"
      ]
     },
     "execution_count": 58,
     "metadata": {},
     "output_type": "execute_result"
    },
    {
     "data": {
      "image/png": "[encoded data removed]",
      "text/plain": [
       "<Figure size 1600x600 with 2 Axes>"
      ]
     },
     "metadata": {},
     "output_type": "display_data"
    }
   ],
   "source": [
    "plt.figure(figsize=(16,6))\n",
    "plt.subplot(1,2,1)\n",
    "plt.title('Validation Accuraies')\n",
    "plt.xlabel('Epochs')\n",
    "plt.grid()\n",
    "plt.plot(range(1,11), history.history['val_accuracy'], color = 'r', label = 'Loss', marker = '.')\n",
    "plt.plot(range(1,11), history_lstm.history['val_accuracy'], color = 'b', label = 'LSTM', marker = '.')\n",
    "plt.plot(range(1,11), history_gru.history['val_accuracy'], color = 'm', label = 'GRU', marker = '.')\n",
    "plt.legend(loc='upper right')\n",
    "\n",
    "plt.subplot(1,2,2)\n",
    "plt.title('Validation Loss')\n",
    "plt.xlabel('Epochs')\n",
    "plt.grid()\n",
    "plt.plot(range(1,11), history.history['val_loss'], color = 'r', label = 'Loss', marker = '.')\n",
    "plt.plot(range(1,11), history_lstm.history['val_loss'], color = 'b', label = 'LSTM', marker = '.')\n",
    "plt.plot(range(1,11), history_gru.history['val_loss'], color = 'm', label = 'GRU', marker = '.')\n",
    "plt.legend(loc='upper right')"
   ]
  },
  {
   "cell_type": "code",
   "execution_count": 59,
   "metadata": {
    "id": "0rTMDiz99tJI"
   },
   "outputs": [],
   "source": [
    "new1 = 'This was worst movie. Please do not watch it. Waste of money and time'\n",
    "new2 = 'A must watch movie. I loved to watch it. It was just amazing!'"
   ]
  },
  {
   "cell_type": "code",
   "execution_count": 61,
   "metadata": {
    "id": "Rlim0PQr-Lbq"
   },
   "outputs": [],
   "source": [
    "def predict(model, text):\n",
    "    sequences = tokenizer.texts_to_sequences([text])\n",
    "    padded = pad_sequences(sequences, maxlen=max_length)\n",
    "    pred = model.predict(padded)\n",
    "    if pred > 0.5:\n",
    "        print('Positive')\n",
    "    else:\n",
    "        print('Negative')\n",
    "    return pred"
   ]
  },
  {
   "cell_type": "code",
   "execution_count": 62,
   "metadata": {
    "colab": {
     "base_uri": "https://localhost:8080/"
    },
    "id": "QkhaJ7_x-Yxk",
    "outputId": "36cf62aa-7ddc-424e-fe73-9a8ba2d2a19f"
   },
   "outputs": [
    {
     "name": "stdout",
     "output_type": "stream",
     "text": [
      "1/1 [==============================] - 3s 3s/step\n",
      "Negative\n"
     ]
    },
    {
     "data": {
      "text/plain": [
       "array([[0.00234062]], dtype=float32)"
      ]
     },
     "execution_count": 62,
     "metadata": {},
     "output_type": "execute_result"
    }
   ],
   "source": [
    "predict(model_lstm, new1)"
   ]
  },
  {
   "cell_type": "code",
   "execution_count": 63,
   "metadata": {
    "colab": {
     "base_uri": "https://localhost:8080/"
    },
    "id": "jDbDUNKb-zsa",
    "outputId": "0f209414-a409-47d4-e519-7b9b0b90483f"
   },
   "outputs": [
    {
     "name": "stdout",
     "output_type": "stream",
     "text": [
      "1/1 [==============================] - 0s 48ms/step\n",
      "Positive\n"
     ]
    },
    {
     "data": {
      "text/plain": [
       "array([[0.9610753]], dtype=float32)"
      ]
     },
     "execution_count": 63,
     "metadata": {},
     "output_type": "execute_result"
    }
   ],
   "source": [
    "predict(model_lstm, new2)"
   ]
  },
  {
   "cell_type": "code",
   "execution_count": 64,
   "metadata": {
    "colab": {
     "base_uri": "https://localhost:8080/"
    },
    "id": "t4qjOBHk-4KH",
    "outputId": "ce1824b4-f234-4ae2-e8ad-4bf58f6240ea"
   },
   "outputs": [
    {
     "name": "stdout",
     "output_type": "stream",
     "text": [
      "1/1 [==============================] - 1s 847ms/step\n",
      "Negative\n"
     ]
    },
    {
     "data": {
      "text/plain": [
       "array([[1.1149112e-06]], dtype=float32)"
      ]
     },
     "execution_count": 64,
     "metadata": {},
     "output_type": "execute_result"
    }
   ],
   "source": [
    "predict(model_gru, new1)"
   ]
  },
  {
   "cell_type": "code",
   "execution_count": 65,
   "metadata": {
    "colab": {
     "base_uri": "https://localhost:8080/"
    },
    "id": "N3t12tkh_TIO",
    "outputId": "3ae9c91c-cded-4e14-d637-49f19f0c9fd0"
   },
   "outputs": [
    {
     "name": "stdout",
     "output_type": "stream",
     "text": [
      "1/1 [==============================] - 0s 46ms/step\n",
      "Positive\n"
     ]
    },
    {
     "data": {
      "text/plain": [
       "array([[0.99946964]], dtype=float32)"
      ]
     },
     "execution_count": 65,
     "metadata": {},
     "output_type": "execute_result"
    }
   ],
   "source": [
    "predict(model_gru, new2)"
   ]
  },
  {
   "cell_type": "code",
   "execution_count": 67,
   "metadata": {
    "colab": {
     "base_uri": "https://localhost:8080/"
    },
    "id": "DZjeSjqo_WJM",
    "outputId": "0d55daca-d83f-46ed-990a-97c91cc9b9af"
   },
   "outputs": [
    {
     "name": "stdout",
     "output_type": "stream",
     "text": [
      "1/1 [==============================] - 1s 799ms/step\n",
      "Negative\n"
     ]
    },
    {
     "data": {
      "text/plain": [
       "array([[0.00114641]], dtype=float32)"
      ]
     },
     "execution_count": 67,
     "metadata": {},
     "output_type": "execute_result"
    }
   ],
   "source": [
    "predict(model_rnn, new1)"
   ]
  },
  {
   "cell_type": "code",
   "execution_count": 69,
   "metadata": {
    "colab": {
     "base_uri": "https://localhost:8080/"
    },
    "id": "oHPnlLwu_Yl6",
    "outputId": "588fe71f-6e10-409e-ea37-467134b9b36d"
   },
   "outputs": [
    {
     "name": "stdout",
     "output_type": "stream",
     "text": [
      "1/1 [==============================] - 0s 19ms/step\n",
      "Positive\n"
     ]
    },
    {
     "data": {
      "text/plain": [
       "array([[0.99988127]], dtype=float32)"
      ]
     },
     "execution_count": 69,
     "metadata": {},
     "output_type": "execute_result"
    }
   ],
   "source": [
    "predict(model_rnn, new2)"
   ]
  },
  {
   "cell_type": "code",
   "execution_count": 70,
   "metadata": {
    "id": "zEsCfUf1_jXm"
   },
   "outputs": [],
   "source": [
    "def predict2(model, text):\n",
    "    seq = tokenizer.texts_to_sequences([text])\n",
    "    pad = pad_sequences(seq, maxlen=max_length, truncating=trunc_type)\n",
    "\n",
    "    result = model.predict(pad, verbose = False)\n",
    "    percent_pos = result[0, 0]\n",
    "    if round(percent_pos) == 0:\n",
    "        return((1-percent_pos),\"Negative\")\n",
    "    else:\n",
    "        return(percent_pos, \"Positive\")\n",
    "\n",
    "    return pred\n"
   ]
  },
  {
   "cell_type": "code",
   "execution_count": 73,
   "metadata": {
    "colab": {
     "base_uri": "https://localhost:8080/"
    },
    "id": "qsdQymovCGc4",
    "outputId": "c7190061-5e5d-4af2-f772-39f6ab93c8dc"
   },
   "outputs": [
    {
     "name": "stdout",
     "output_type": "stream",
     "text": [
      "1/1 [==============================] - 0s 26ms/step\n",
      "Negative\n",
      "1/1 [==============================] - 0s 23ms/step\n",
      "Positive\n"
     ]
    },
    {
     "data": {
      "text/plain": [
       "(array([[0.00234062]], dtype=float32), array([[0.9610753]], dtype=float32))"
      ]
     },
     "execution_count": 73,
     "metadata": {},
     "output_type": "execute_result"
    }
   ],
   "source": [
    "predict(model_lstm, new1), predict(model_lstm, new2)"
   ]
  },
  {
   "cell_type": "code",
   "execution_count": 72,
   "metadata": {
    "colab": {
     "base_uri": "https://localhost:8080/"
    },
    "id": "8s96uXGDCIVn",
    "outputId": "19470284-bb6b-4ca1-f232-f159a7321bbe"
   },
   "outputs": [
    {
     "name": "stdout",
     "output_type": "stream",
     "text": [
      "1/1 [==============================] - 0s 47ms/step\n",
      "Negative\n",
      "1/1 [==============================] - 0s 49ms/step\n",
      "Positive\n"
     ]
    },
    {
     "data": {
      "text/plain": [
       "(array([[1.1149112e-06]], dtype=float32), array([[0.99946964]], dtype=float32))"
      ]
     },
     "execution_count": 72,
     "metadata": {},
     "output_type": "execute_result"
    }
   ],
   "source": [
    "predict(model_gru, new1), predict(model_gru, new2)"
   ]
  },
  {
   "cell_type": "code",
   "execution_count": 74,
   "metadata": {
    "colab": {
     "base_uri": "https://localhost:8080/"
    },
    "id": "0mNshIjNCRPy",
    "outputId": "c19eff12-0b19-4d0a-849b-0d8de5ab7e42"
   },
   "outputs": [
    {
     "name": "stdout",
     "output_type": "stream",
     "text": [
      "1/1 [==============================] - 0s 20ms/step\n",
      "Negative\n",
      "1/1 [==============================] - 0s 19ms/step\n",
      "Positive\n"
     ]
    },
    {
     "data": {
      "text/plain": [
       "(array([[0.00114641]], dtype=float32), array([[0.99988127]], dtype=float32))"
      ]
     },
     "execution_count": 74,
     "metadata": {},
     "output_type": "execute_result"
    }
   ],
   "source": [
    "predict(model_rnn, new1), predict(model_rnn, new2)"
   ]
  }
 ],
 "metadata": {
  "colab": {
   "provenance": []
  },
  "kernelspec": {
   "display_name": "Python 3 (ipykernel)",
   "language": "python",
   "name": "python3"
  },
  "language_info": {
   "codemirror_mode": {
    "name": "ipython",
    "version": 3
   },
   "file_extension": ".py",
   "mimetype": "text/x-python",
   "name": "python",
   "nbconvert_exporter": "python",
   "pygments_lexer": "ipython3",
   "version": "3.11.7"
  }
 },
 "nbformat": 4,
 "nbformat_minor": 4
}
