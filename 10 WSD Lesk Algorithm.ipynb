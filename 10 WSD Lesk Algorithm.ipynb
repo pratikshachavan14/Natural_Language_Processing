{
 "cells": [
  {
   "cell_type": "code",
   "execution_count": 9,
   "id": "ef2cf313-3ce6-4979-87af-b14c9ff1073c",
   "metadata": {},
   "outputs": [],
   "source": [
    "from nltk.wsd import lesk\n",
    "from nltk.tokenize import word_tokenize"
   ]
  },
  {
   "cell_type": "code",
   "execution_count": 3,
   "id": "ca4600a5-a38d-4b3c-8d2c-480771b752da",
   "metadata": {},
   "outputs": [],
   "source": [
    "a1 = lesk('This device is used to jam the signal.', 'jam')\n",
    "a1.definition()"
   ]
  },
  {
   "cell_type": "code",
   "execution_count": 6,
   "id": "4a9da57b-e66d-4697-847e-f7394eccee50",
   "metadata": {},
   "outputs": [
    {
     "data": {
      "text/plain": [
       "'informal terms for a difficult situation'"
      ]
     },
     "execution_count": 6,
     "metadata": {},
     "output_type": "execute_result"
    }
   ],
   "source": [
    "a2 = lesk('It is a heavy traffic jam here. We are stuck.', 'jam')\n",
    "a2.definition()"
   ]
  },
  {
   "cell_type": "code",
   "execution_count": 16,
   "id": "ef32efd9-dcb3-459a-81ce-cb3f23564899",
   "metadata": {},
   "outputs": [
    {
     "data": {
      "text/plain": [
       "'deliberate radiation or reflection of electromagnetic energy for the purpose of disrupting enemy use of electronic devices or systems'"
      ]
     },
     "execution_count": 16,
     "metadata": {},
     "output_type": "execute_result"
    }
   ],
   "source": [
    "a3 = lesk(word_tokenize('I was very hungry when I woke up. So I decided to have breakfast. I had only bread and strawberry jam, so I had peanut butter and strawberry jam sandwich for breakfast '), 'jam')\n",
    "a3.definition()"
   ]
  },
  {
   "cell_type": "code",
   "execution_count": 11,
   "id": "4cb18087-407f-4d3b-a784-5735792d561e",
   "metadata": {},
   "outputs": [
    {
     "data": {
      "text/plain": [
       "'discover or come upon accidentally, suddenly, or unexpectedly; catch somebody doing something or in a certain state'"
      ]
     },
     "execution_count": 11,
     "metadata": {},
     "output_type": "execute_result"
    }
   ],
   "source": [
    "a4 = lesk(word_tokenize(\"It was a good catch by the player.\"), 'catch')\n",
    "a4.definition()"
   ]
  },
  {
   "cell_type": "code",
   "execution_count": 12,
   "id": "7bafbd43-9ef2-47eb-9fd0-f7315bc58871",
   "metadata": {},
   "outputs": [
    {
     "data": {
      "text/plain": [
       "'catch up with and possibly overtake'"
      ]
     },
     "execution_count": 12,
     "metadata": {},
     "output_type": "execute_result"
    }
   ],
   "source": [
    "a5 = lesk(word_tokenize('You should catch that opportunity.'), 'catch')\n",
    "a5.definition()"
   ]
  },
  {
   "cell_type": "code",
   "execution_count": 13,
   "id": "a69239bb-b33d-49b2-8448-fb64a0a17e3d",
   "metadata": {},
   "outputs": [
    {
     "data": {
      "text/plain": [
       "'a kind of person'"
      ]
     },
     "execution_count": 13,
     "metadata": {},
     "output_type": "execute_result"
    }
   ],
   "source": [
    "d1 = lesk(word_tokenize('The association is like a bad combination'), 'like')\n",
    "d1.definition()"
   ]
  },
  {
   "cell_type": "code",
   "execution_count": 17,
   "id": "c6a61e8f-e854-4248-941d-c63f063ecc7f",
   "metadata": {},
   "outputs": [
    {
     "data": {
      "text/plain": [
       "'transfer (entries) from one account book to another'"
      ]
     },
     "execution_count": 17,
     "metadata": {},
     "output_type": "execute_result"
    }
   ],
   "source": [
    "d2 = lesk(word_tokenize('You can post it on your social media account'), 'post')\n",
    "d2.definition()"
   ]
  },
  {
   "cell_type": "code",
   "execution_count": 25,
   "id": "618a6c2a-2a78-408d-bf15-bcf225af639c",
   "metadata": {},
   "outputs": [
    {
     "data": {
      "text/plain": [
       "'a member of a people of India living in Maharashtra'"
      ]
     },
     "execution_count": 25,
     "metadata": {},
     "output_type": "execute_result"
    }
   ],
   "source": [
    "d3 = lesk(word_tokenize('''\n",
    "Pune at different points in time has been ruled by the Rashtrakuta dynasty, Ahmadnagar Sultanate, the Mughals, and the Adil Shahi dynasty. \n",
    "In the 18th century, the city was part of the Maratha Empire, and the seat of the Peshwas, the prime ministers of the Maratha Empire.\n",
    "Many historical landmarks like Pataleshwar caves, Shaniwarwada, Shinde Chhatri, and Vishrambaug Wada date to this era. \n",
    "Historical sites from different eras dot the city.\n",
    "'''), 'Maratha')\n",
    "\n",
    "d3.definition()"
   ]
  },
  {
   "cell_type": "code",
   "execution_count": 18,
   "id": "cf94df2a-b5e9-4338-ad44-79179eced4ed",
   "metadata": {},
   "outputs": [
    {
     "data": {
      "text/plain": [
       "[Synset('difficulty.n.03')]"
      ]
     },
     "execution_count": 18,
     "metadata": {},
     "output_type": "execute_result"
    }
   ],
   "source": [
    "a1.hypernyms()"
   ]
  },
  {
   "cell_type": "code",
   "execution_count": 26,
   "id": "f5a63a4b-a579-49b3-864a-6f2c28aeec45",
   "metadata": {},
   "outputs": [
    {
     "data": {
      "text/plain": [
       "[Synset('fix.n.01')]"
      ]
     },
     "execution_count": 26,
     "metadata": {},
     "output_type": "execute_result"
    }
   ],
   "source": [
    "a1.tree(rel=None)"
   ]
  }
 ],
 "metadata": {
  "kernelspec": {
   "display_name": "Python 3 (ipykernel)",
   "language": "python",
   "name": "python3"
  },
  "language_info": {
   "codemirror_mode": {
    "name": "ipython",
    "version": 3
   },
   "file_extension": ".py",
   "mimetype": "text/x-python",
   "name": "python",
   "nbconvert_exporter": "python",
   "pygments_lexer": "ipython3",
   "version": "3.11.7"
  }
 },
 "nbformat": 4,
 "nbformat_minor": 5
}
