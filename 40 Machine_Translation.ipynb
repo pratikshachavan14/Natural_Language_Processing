{
 "cells": [
  {
   "cell_type": "code",
   "execution_count": 1,
   "metadata": {
    "colab": {
     "base_uri": "https://localhost:8080/"
    },
    "id": "PyMRP2DfwgnF",
    "outputId": "605f9a02-72bd-4c83-b369-3062c35278d1"
   },
   "outputs": [
    {
     "name": "stdout",
     "output_type": "stream",
     "text": [
      "Requirement already satisfied: goslate in /usr/local/lib/python3.10/dist-packages (1.5.4)\n",
      "Requirement already satisfied: futures in /usr/local/lib/python3.10/dist-packages (from goslate) (3.0.5)\n"
     ]
    }
   ],
   "source": [
    "pip install goslate"
   ]
  },
  {
   "cell_type": "code",
   "execution_count": 3,
   "metadata": {
    "id": "FizQlFxiwp0z"
   },
   "outputs": [],
   "source": [
    "from goslate import Goslate\n",
    "from textblob import TextBlob"
   ]
  },
  {
   "cell_type": "code",
   "execution_count": 2,
   "metadata": {
    "id": "yqdaGm3Swt2Z"
   },
   "outputs": [],
   "source": [
    "text = 'Hello friends. I am your teacher. I will teach this course.'"
   ]
  },
  {
   "cell_type": "code",
   "execution_count": 4,
   "metadata": {
    "id": "BmqyzV21w4m9"
   },
   "outputs": [],
   "source": [
    "trans = Goslate()"
   ]
  },
  {
   "cell_type": "code",
   "execution_count": 5,
   "metadata": {
    "colab": {
     "base_uri": "https://localhost:8080/",
     "height": 35
    },
    "id": "TIX0Pknww8E6",
    "outputId": "827c761b-91ce-485e-d834-c901d8688fb9"
   },
   "outputs": [
    {
     "data": {
      "application/vnd.google.colaboratory.intrinsic+json": {
       "type": "string"
      },
      "text/plain": [
       "'नमस्कार मित्रांनो. मी तुमचा शिक्षक आहे. मी हा कोर्स शिकवीन.'"
      ]
     },
     "execution_count": 5,
     "metadata": {},
     "output_type": "execute_result"
    }
   ],
   "source": [
    "trans.translate(text, target_language='mr')"
   ]
  },
  {
   "cell_type": "code",
   "execution_count": 7,
   "metadata": {
    "colab": {
     "base_uri": "https://localhost:8080/",
     "height": 35
    },
    "id": "FZReWJSxxSQE",
    "outputId": "34ea0ad0-ab1a-4829-e95e-887bc4594a4b"
   },
   "outputs": [
    {
     "data": {
      "application/vnd.google.colaboratory.intrinsic+json": {
       "type": "string"
      },
      "text/plain": [
       "'Hello friends. I am your teacher. I will teach this course.'"
      ]
     },
     "execution_count": 7,
     "metadata": {},
     "output_type": "execute_result"
    }
   ],
   "source": [
    "trans.translate(text, target_language='jp')"
   ]
  },
  {
   "cell_type": "code",
   "execution_count": 10,
   "metadata": {
    "colab": {
     "base_uri": "https://localhost:8080/"
    },
    "id": "8aexE0L_yKoN",
    "outputId": "40dac15e-202b-4671-f7d9-80e96edf3d27"
   },
   "outputs": [
    {
     "data": {
      "text/plain": [
       "['नमस्कार मित्रांनो.', 'मी तुमचा शिक्षक आहे.', 'मी हा कोर्स शिकवीन.']"
      ]
     },
     "execution_count": 10,
     "metadata": {},
     "output_type": "execute_result"
    }
   ],
   "source": [
    "TextBlob(text).translate(from_lang='en', to='mr').raw_sentences"
   ]
  },
  {
   "cell_type": "code",
   "execution_count": 11,
   "metadata": {
    "colab": {
     "base_uri": "https://localhost:8080/"
    },
    "id": "M9EaQHHNyUHr",
    "outputId": "a2411bea-2c3f-455c-b2c6-3fffb14ff55e"
   },
   "outputs": [
    {
     "data": {
      "text/plain": [
       "['कोर्स कधी संपवायचा?']"
      ]
     },
     "execution_count": 11,
     "metadata": {},
     "output_type": "execute_result"
    }
   ],
   "source": [
    "TextBlob(\"When to finish the course?\").translate(from_lang='en', to='mr').raw_sentences"
   ]
  },
  {
   "cell_type": "code",
   "execution_count": 14,
   "metadata": {
    "colab": {
     "base_uri": "https://localhost:8080/"
    },
    "id": "pYErxt-iyd-J",
    "outputId": "17df0b5b-fc19-42c8-ac8a-f7295f0c6a8f"
   },
   "outputs": [
    {
     "data": {
      "text/plain": [
       "['मी ते पाहतो, मला ते आवडते, मला ते हवे आहे, मला ते मिळाले']"
      ]
     },
     "execution_count": 14,
     "metadata": {},
     "output_type": "execute_result"
    }
   ],
   "source": [
    "TextBlob(\"I see it, I like it, I want it, I got it\").translate(from_lang='en', to='mr').raw_sentences"
   ]
  }
 ],
 "metadata": {
  "colab": {
   "provenance": []
  },
  "kernelspec": {
   "display_name": "Python 3 (ipykernel)",
   "language": "python",
   "name": "python3"
  },
  "language_info": {
   "codemirror_mode": {
    "name": "ipython",
    "version": 3
   },
   "file_extension": ".py",
   "mimetype": "text/x-python",
   "name": "python",
   "nbconvert_exporter": "python",
   "pygments_lexer": "ipython3",
   "version": "3.11.7"
  }
 },
 "nbformat": 4,
 "nbformat_minor": 4
}
