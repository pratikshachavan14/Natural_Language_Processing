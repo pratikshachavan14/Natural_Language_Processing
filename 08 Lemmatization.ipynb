{
 "cells": [
  {
   "cell_type": "code",
   "execution_count": 1,
   "id": "891b1c35-e836-42b3-ba2a-5aeb3706bd5b",
   "metadata": {},
   "outputs": [],
   "source": [
    "from nltk.stem import WordNetLemmatizer"
   ]
  },
  {
   "cell_type": "code",
   "execution_count": 2,
   "id": "5242861d-6128-41cd-afda-1dac48604d6b",
   "metadata": {},
   "outputs": [],
   "source": [
    "words1 = 'managing', 'manage','management','managerial','managed'\n",
    "words2 = 'worked','workable','working','worked'\n",
    "words3 = 'big','biggest','bigger'\n",
    "words4 = 'go','gone','went','going'\n",
    "words5 = 'child','children'\n",
    "words6 = 'plays', 'playing', 'played', 'players'"
   ]
  },
  {
   "cell_type": "code",
   "execution_count": 3,
   "id": "c1aee537-aba6-4439-852e-19f7e6768885",
   "metadata": {},
   "outputs": [],
   "source": [
    "wnl = WordNetLemmatizer()"
   ]
  },
  {
   "cell_type": "code",
   "execution_count": 4,
   "id": "3f07cc95-613c-4c9e-a0e4-28ad04782f27",
   "metadata": {},
   "outputs": [
    {
     "data": {
      "text/plain": [
       "'manage'"
      ]
     },
     "execution_count": 4,
     "metadata": {},
     "output_type": "execute_result"
    }
   ],
   "source": [
    "wnl.lemmatize(words1[0], pos='v')"
   ]
  },
  {
   "cell_type": "code",
   "execution_count": 5,
   "id": "6455bcfb-f9db-4998-b945-1ec561c0854b",
   "metadata": {},
   "outputs": [
    {
     "data": {
      "text/plain": [
       "'work'"
      ]
     },
     "execution_count": 5,
     "metadata": {},
     "output_type": "execute_result"
    }
   ],
   "source": [
    "wnl.lemmatize(words2[0], pos='v')"
   ]
  },
  {
   "cell_type": "code",
   "execution_count": 6,
   "id": "72a6e954-5d31-494a-a090-f6f5fadac462",
   "metadata": {},
   "outputs": [
    {
     "data": {
      "text/plain": [
       "'big'"
      ]
     },
     "execution_count": 6,
     "metadata": {},
     "output_type": "execute_result"
    }
   ],
   "source": [
    "wnl.lemmatize(words3[0], pos='v')"
   ]
  },
  {
   "cell_type": "code",
   "execution_count": 7,
   "id": "46c95190-d684-4d4a-986d-1553a6d4c603",
   "metadata": {},
   "outputs": [
    {
     "name": "stdout",
     "output_type": "stream",
     "text": [
      "went --> go\n"
     ]
    }
   ],
   "source": [
    "print(words4[2], '-->', wnl.lemmatize(words4[2], pos='v'))  # v -> verb"
   ]
  },
  {
   "cell_type": "code",
   "execution_count": 8,
   "id": "b623ddba-d06d-4dde-b329-186d52c62486",
   "metadata": {},
   "outputs": [
    {
     "name": "stdout",
     "output_type": "stream",
     "text": [
      "biggest --> big\n"
     ]
    }
   ],
   "source": [
    "print(words3[1], '-->', wnl.lemmatize(words3[1], pos='a'))  # a -> adjective"
   ]
  },
  {
   "cell_type": "code",
   "execution_count": 9,
   "id": "1b5ec5ff-02c3-415e-9eee-a00733047430",
   "metadata": {},
   "outputs": [
    {
     "name": "stdout",
     "output_type": "stream",
     "text": [
      "players --> player\n"
     ]
    }
   ],
   "source": [
    "print(words6[3], '-->', wnl.lemmatize(words6[3], pos='n'))  # n -> noun"
   ]
  },
  {
   "cell_type": "code",
   "execution_count": 10,
   "id": "f7b7fbad-20f6-4cb3-84d1-93fb72f5664d",
   "metadata": {},
   "outputs": [
    {
     "name": "stdout",
     "output_type": "stream",
     "text": [
      "children --> children\n"
     ]
    }
   ],
   "source": [
    "print(words5[1], '-->', wnl.lemmatize(words5[1], pos='r'))  # r -> adverb"
   ]
  }
 ],
 "metadata": {
  "kernelspec": {
   "display_name": "Python 3 (ipykernel)",
   "language": "python",
   "name": "python3"
  },
  "language_info": {
   "codemirror_mode": {
    "name": "ipython",
    "version": 3
   },
   "file_extension": ".py",
   "mimetype": "text/x-python",
   "name": "python",
   "nbconvert_exporter": "python",
   "pygments_lexer": "ipython3",
   "version": "3.11.7"
  }
 },
 "nbformat": 4,
 "nbformat_minor": 5
}
