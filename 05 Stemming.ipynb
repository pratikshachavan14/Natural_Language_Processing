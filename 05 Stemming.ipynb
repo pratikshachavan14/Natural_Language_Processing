{
 "cells": [
  {
   "cell_type": "code",
   "execution_count": 1,
   "id": "ce930562-948e-4b5b-b326-7761ecd8e7bb",
   "metadata": {},
   "outputs": [],
   "source": [
    "from nltk.stem import PorterStemmer, LancasterStemmer, SnowballStemmer\n",
    "from nltk.tokenize import word_tokenize\n",
    "from nltk.corpus import stopwords\n",
    "import string"
   ]
  },
  {
   "cell_type": "markdown",
   "id": "80d59054-21b8-428e-bcde-8e399b0a2d2d",
   "metadata": {},
   "source": [
    "### Declare the words"
   ]
  },
  {
   "cell_type": "code",
   "execution_count": 2,
   "id": "f1c21c25-9c31-470c-a93c-b67d4bc7f2bc",
   "metadata": {},
   "outputs": [],
   "source": [
    "words1 = 'managing','manage','management','managerial','managed'\n",
    "words2 = 'worked', 'workable', 'working'\n",
    "words3 = 'big','biggest', 'bigger'\n",
    "words4 = 'go','gone','went','going'\n",
    "words5 = 'association','associated', 'associate'"
   ]
  },
  {
   "cell_type": "markdown",
   "id": "db33ab98-7bd9-444b-b4f9-f68dd5babbe6",
   "metadata": {},
   "source": [
    "### Porter Stemmer"
   ]
  },
  {
   "cell_type": "code",
   "execution_count": 3,
   "id": "b197295a-0931-443a-83e3-5ffa12b32588",
   "metadata": {},
   "outputs": [
    {
     "data": {
      "text/plain": [
       "'manag'"
      ]
     },
     "execution_count": 3,
     "metadata": {},
     "output_type": "execute_result"
    }
   ],
   "source": [
    "ps = PorterStemmer()\n",
    "ps.stem(words1[0])"
   ]
  },
  {
   "cell_type": "code",
   "execution_count": 4,
   "id": "5d092cbb-44ec-4983-9407-c84250b5606e",
   "metadata": {},
   "outputs": [
    {
     "name": "stdout",
     "output_type": "stream",
     "text": [
      "managing --> manag\n",
      "manage --> manag\n",
      "management --> manag\n",
      "managerial --> manageri\n",
      "managed --> manag\n"
     ]
    }
   ],
   "source": [
    "for word in words1 :\n",
    "    print(word,'-->', ps.stem(word))"
   ]
  },
  {
   "cell_type": "code",
   "execution_count": 5,
   "id": "909d22e9-4ee3-4fce-86b7-6e7b7f51c876",
   "metadata": {},
   "outputs": [
    {
     "name": "stdout",
     "output_type": "stream",
     "text": [
      "worked --> work\n",
      "workable --> workabl\n",
      "working --> work\n"
     ]
    }
   ],
   "source": [
    "for word in words2 :\n",
    "    print(word,'-->', ps.stem(word))"
   ]
  },
  {
   "cell_type": "code",
   "execution_count": 6,
   "id": "32cfa98c-1a85-4c64-af1d-7aa089a098bb",
   "metadata": {},
   "outputs": [
    {
     "name": "stdout",
     "output_type": "stream",
     "text": [
      "big --> big\n",
      "biggest --> biggest\n",
      "bigger --> bigger\n"
     ]
    }
   ],
   "source": [
    "for word in words3 :\n",
    "    print(word,'-->', ps.stem(word))"
   ]
  },
  {
   "cell_type": "code",
   "execution_count": 7,
   "id": "6e490ee7-054d-4e97-8aaf-91357f906278",
   "metadata": {},
   "outputs": [
    {
     "name": "stdout",
     "output_type": "stream",
     "text": [
      "go --> go\n",
      "gone --> gone\n",
      "went --> went\n",
      "going --> go\n"
     ]
    }
   ],
   "source": [
    "for word in words4 :\n",
    "    print(word,'-->', ps.stem(word))"
   ]
  },
  {
   "cell_type": "code",
   "execution_count": 8,
   "id": "939657c8-6d67-44b7-8b5c-1fc71480bc1a",
   "metadata": {},
   "outputs": [
    {
     "name": "stdout",
     "output_type": "stream",
     "text": [
      "association --> associ\n",
      "associated --> associ\n",
      "associate --> associ\n"
     ]
    }
   ],
   "source": [
    "for word in words5 :\n",
    "    print(word,'-->', ps.stem(word))"
   ]
  },
  {
   "cell_type": "code",
   "execution_count": 9,
   "id": "3515d985-cd99-4c69-a1ad-54400b70205c",
   "metadata": {},
   "outputs": [
    {
     "data": {
      "text/plain": [
       "['i',\n",
       " 'me',\n",
       " 'my',\n",
       " 'myself',\n",
       " 'we',\n",
       " 'our',\n",
       " 'ours',\n",
       " 'ourselves',\n",
       " 'you',\n",
       " \"you're\",\n",
       " \"you've\",\n",
       " \"you'll\",\n",
       " \"you'd\",\n",
       " 'your',\n",
       " 'yours',\n",
       " 'yourself',\n",
       " 'yourselves',\n",
       " 'he',\n",
       " 'him',\n",
       " 'his',\n",
       " 'himself',\n",
       " 'she',\n",
       " \"she's\",\n",
       " 'her',\n",
       " 'hers',\n",
       " 'herself',\n",
       " 'it',\n",
       " \"it's\",\n",
       " 'its',\n",
       " 'itself',\n",
       " 'they',\n",
       " 'them',\n",
       " 'their',\n",
       " 'theirs',\n",
       " 'themselves',\n",
       " 'what',\n",
       " 'which',\n",
       " 'who',\n",
       " 'whom',\n",
       " 'this',\n",
       " 'that',\n",
       " \"that'll\",\n",
       " 'these',\n",
       " 'those',\n",
       " 'am',\n",
       " 'is',\n",
       " 'are',\n",
       " 'was',\n",
       " 'were',\n",
       " 'be',\n",
       " 'been',\n",
       " 'being',\n",
       " 'have',\n",
       " 'has',\n",
       " 'had',\n",
       " 'having',\n",
       " 'do',\n",
       " 'does',\n",
       " 'did',\n",
       " 'doing',\n",
       " 'a',\n",
       " 'an',\n",
       " 'the',\n",
       " 'and',\n",
       " 'but',\n",
       " 'if',\n",
       " 'or',\n",
       " 'because',\n",
       " 'as',\n",
       " 'until',\n",
       " 'while',\n",
       " 'of',\n",
       " 'at',\n",
       " 'by',\n",
       " 'for',\n",
       " 'with',\n",
       " 'about',\n",
       " 'against',\n",
       " 'between',\n",
       " 'into',\n",
       " 'through',\n",
       " 'during',\n",
       " 'before',\n",
       " 'after',\n",
       " 'above',\n",
       " 'below',\n",
       " 'to',\n",
       " 'from',\n",
       " 'up',\n",
       " 'down',\n",
       " 'in',\n",
       " 'out',\n",
       " 'on',\n",
       " 'off',\n",
       " 'over',\n",
       " 'under',\n",
       " 'again',\n",
       " 'further',\n",
       " 'then',\n",
       " 'once',\n",
       " 'here',\n",
       " 'there',\n",
       " 'when',\n",
       " 'where',\n",
       " 'why',\n",
       " 'how',\n",
       " 'all',\n",
       " 'any',\n",
       " 'both',\n",
       " 'each',\n",
       " 'few',\n",
       " 'more',\n",
       " 'most',\n",
       " 'other',\n",
       " 'some',\n",
       " 'such',\n",
       " 'no',\n",
       " 'nor',\n",
       " 'not',\n",
       " 'only',\n",
       " 'own',\n",
       " 'same',\n",
       " 'so',\n",
       " 'than',\n",
       " 'too',\n",
       " 'very',\n",
       " 's',\n",
       " 't',\n",
       " 'can',\n",
       " 'will',\n",
       " 'just',\n",
       " 'don',\n",
       " \"don't\",\n",
       " 'should',\n",
       " \"should've\",\n",
       " 'now',\n",
       " 'd',\n",
       " 'll',\n",
       " 'm',\n",
       " 'o',\n",
       " 're',\n",
       " 've',\n",
       " 'y',\n",
       " 'ain',\n",
       " 'aren',\n",
       " \"aren't\",\n",
       " 'couldn',\n",
       " \"couldn't\",\n",
       " 'didn',\n",
       " \"didn't\",\n",
       " 'doesn',\n",
       " \"doesn't\",\n",
       " 'hadn',\n",
       " \"hadn't\",\n",
       " 'hasn',\n",
       " \"hasn't\",\n",
       " 'haven',\n",
       " \"haven't\",\n",
       " 'isn',\n",
       " \"isn't\",\n",
       " 'ma',\n",
       " 'mightn',\n",
       " \"mightn't\",\n",
       " 'mustn',\n",
       " \"mustn't\",\n",
       " 'needn',\n",
       " \"needn't\",\n",
       " 'shan',\n",
       " \"shan't\",\n",
       " 'shouldn',\n",
       " \"shouldn't\",\n",
       " 'wasn',\n",
       " \"wasn't\",\n",
       " 'weren',\n",
       " \"weren't\",\n",
       " 'won',\n",
       " \"won't\",\n",
       " 'wouldn',\n",
       " \"wouldn't\"]"
      ]
     },
     "execution_count": 9,
     "metadata": {},
     "output_type": "execute_result"
    }
   ],
   "source": [
    "sent = 'Hello friends! How are you? I like Python Programming'\n",
    "swords = stopwords.words('english')\n",
    "swords"
   ]
  },
  {
   "cell_type": "code",
   "execution_count": 10,
   "id": "e8dcf1c5-c035-4a07-8884-9ab03c927481",
   "metadata": {},
   "outputs": [
    {
     "data": {
      "text/plain": [
       "['Hello', 'friends', 'like', 'Python', 'Programming']"
      ]
     },
     "execution_count": 10,
     "metadata": {},
     "output_type": "execute_result"
    }
   ],
   "source": [
    "clean = [x for x in word_tokenize(sent) if x.lower() not in swords and x.isalnum()]\n",
    "clean"
   ]
  },
  {
   "cell_type": "code",
   "execution_count": 11,
   "id": "2acaf449-fc0f-4603-8ec1-82c770b4386f",
   "metadata": {},
   "outputs": [
    {
     "name": "stdout",
     "output_type": "stream",
     "text": [
      "Hello --> hello\n",
      "friends --> friend\n",
      "like --> like\n",
      "Python --> python\n",
      "Programming --> program\n"
     ]
    }
   ],
   "source": [
    "for word in clean :\n",
    "    print(word,'-->', ps.stem(word))"
   ]
  },
  {
   "cell_type": "code",
   "execution_count": 12,
   "id": "f8938518-e3cb-42c0-b063-9c77210cfd0a",
   "metadata": {},
   "outputs": [
    {
     "data": {
      "text/plain": [
       "['hello', 'friend', 'like', 'python', 'program']"
      ]
     },
     "execution_count": 12,
     "metadata": {},
     "output_type": "execute_result"
    }
   ],
   "source": [
    "clean = [ps.stem(x) for x in clean]\n",
    "clean"
   ]
  },
  {
   "cell_type": "markdown",
   "id": "479450f8-b7ec-46da-8404-21fcb69b36d9",
   "metadata": {},
   "source": [
    "### Lancaster Stemmer"
   ]
  },
  {
   "cell_type": "code",
   "execution_count": 13,
   "id": "1ffca451-c116-4c76-bd17-0b2deeed17b2",
   "metadata": {},
   "outputs": [
    {
     "name": "stdout",
     "output_type": "stream",
     "text": [
      "managing --> man\n",
      "manage --> man\n",
      "management --> man\n",
      "managerial --> man\n",
      "managed --> man\n"
     ]
    }
   ],
   "source": [
    "ls = LancasterStemmer()\n",
    "\n",
    "for word in words1:\n",
    "    print(word,'-->', ls.stem(word))"
   ]
  },
  {
   "cell_type": "code",
   "execution_count": 14,
   "id": "cba5ee4f-a562-46f8-9600-01526b57ecde",
   "metadata": {},
   "outputs": [
    {
     "name": "stdout",
     "output_type": "stream",
     "text": [
      "worked --> work\n",
      "workable --> work\n",
      "working --> work\n"
     ]
    }
   ],
   "source": [
    "for word in words2:\n",
    "    print(word,'-->', ls.stem(word))"
   ]
  },
  {
   "cell_type": "code",
   "execution_count": 15,
   "id": "35178a5a-6446-47dc-a1e3-58c295352c46",
   "metadata": {},
   "outputs": [
    {
     "name": "stdout",
     "output_type": "stream",
     "text": [
      "big --> big\n",
      "biggest --> biggest\n",
      "bigger --> big\n"
     ]
    }
   ],
   "source": [
    "for word in words3:\n",
    "    print(word,'-->', ls.stem(word))"
   ]
  },
  {
   "cell_type": "code",
   "execution_count": 16,
   "id": "2e665948-9a3f-4e83-aebd-a156ffd4828a",
   "metadata": {},
   "outputs": [
    {
     "name": "stdout",
     "output_type": "stream",
     "text": [
      "go --> go\n",
      "gone --> gon\n",
      "went --> went\n",
      "going --> going\n"
     ]
    }
   ],
   "source": [
    "for word in words4:\n",
    "    print(word,'-->', ls.stem(word))"
   ]
  },
  {
   "cell_type": "code",
   "execution_count": 17,
   "id": "347f9329-fc71-406d-ab03-711dbdcf1213",
   "metadata": {},
   "outputs": [
    {
     "name": "stdout",
     "output_type": "stream",
     "text": [
      "association --> assocy\n",
      "associated --> assocy\n",
      "associate --> assocy\n"
     ]
    }
   ],
   "source": [
    "for word in words5:\n",
    "    print(word,'-->', ls.stem(word))"
   ]
  },
  {
   "cell_type": "markdown",
   "id": "42135f3f-ae51-430a-b248-a92b7d5aaab9",
   "metadata": {},
   "source": [
    "### Snowball stemmer"
   ]
  },
  {
   "cell_type": "code",
   "execution_count": 18,
   "id": "c98fa568-4a0c-4c20-8fa8-07ffc3e3097d",
   "metadata": {},
   "outputs": [
    {
     "name": "stdout",
     "output_type": "stream",
     "text": [
      "managing --> manag\n",
      "manage --> manag\n",
      "management --> manag\n",
      "managerial --> manageri\n",
      "managed --> manag\n"
     ]
    }
   ],
   "source": [
    "ss = SnowballStemmer(language='english')\n",
    "\n",
    "for word in words1:\n",
    "    print(word,'-->', ss.stem(word))"
   ]
  },
  {
   "cell_type": "code",
   "execution_count": 19,
   "id": "aba837d9-d170-4e85-8c82-3d112ce73a57",
   "metadata": {},
   "outputs": [
    {
     "name": "stdout",
     "output_type": "stream",
     "text": [
      "worked --> work\n",
      "workable --> workabl\n",
      "working --> work\n"
     ]
    }
   ],
   "source": [
    "for word in words2:\n",
    "    print(word,'-->', ss.stem(word))"
   ]
  },
  {
   "cell_type": "code",
   "execution_count": 20,
   "id": "e80ab64a-e963-4ee1-9ec4-dfcc9173f9f5",
   "metadata": {},
   "outputs": [
    {
     "name": "stdout",
     "output_type": "stream",
     "text": [
      "big --> big\n",
      "biggest --> biggest\n",
      "bigger --> bigger\n"
     ]
    }
   ],
   "source": [
    "for word in words3:\n",
    "    print(word,'-->', ss.stem(word))"
   ]
  },
  {
   "cell_type": "code",
   "execution_count": 21,
   "id": "ded6d722-698a-4daf-a83d-5441e71c36ba",
   "metadata": {},
   "outputs": [
    {
     "name": "stdout",
     "output_type": "stream",
     "text": [
      "go --> go\n",
      "gone --> gone\n",
      "went --> went\n",
      "going --> go\n"
     ]
    }
   ],
   "source": [
    "for word in words4:\n",
    "    print(word,'-->', ss.stem(word))"
   ]
  },
  {
   "cell_type": "code",
   "execution_count": 22,
   "id": "10962fe7-fcdb-4cf9-a927-6a12fcc9b60b",
   "metadata": {},
   "outputs": [
    {
     "name": "stdout",
     "output_type": "stream",
     "text": [
      "association --> associ\n",
      "associated --> associ\n",
      "associate --> associ\n"
     ]
    }
   ],
   "source": [
    "for word in words5:\n",
    "    print(word,'-->', ss.stem(word))"
   ]
  }
 ],
 "metadata": {
  "kernelspec": {
   "display_name": "Python 3 (ipykernel)",
   "language": "python",
   "name": "python3"
  },
  "language_info": {
   "codemirror_mode": {
    "name": "ipython",
    "version": 3
   },
   "file_extension": ".py",
   "mimetype": "text/x-python",
   "name": "python",
   "nbconvert_exporter": "python",
   "pygments_lexer": "ipython3",
   "version": "3.11.7"
  }
 },
 "nbformat": 4,
 "nbformat_minor": 5
}
