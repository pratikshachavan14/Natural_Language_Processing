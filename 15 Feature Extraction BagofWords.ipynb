{
 "cells": [
  {
   "cell_type": "code",
   "execution_count": 1,
   "id": "bb73e861-8c56-4427-a711-05856c9745dc",
   "metadata": {},
   "outputs": [],
   "source": [
    "import numpy as np\n",
    "import pandas as pd\n",
    "from nltk.tokenize import word_tokenize\n",
    "from sklearn.feature_extraction.text import CountVectorizer"
   ]
  },
  {
   "cell_type": "code",
   "execution_count": 2,
   "id": "dbdc99c6-4ce1-45f0-9c2f-a2dc6b375d9d",
   "metadata": {},
   "outputs": [],
   "source": [
    "s1 = 'It is a good practice for us.'\n",
    "s2 = 'It was a also good to know about it'"
   ]
  },
  {
   "cell_type": "code",
   "execution_count": 3,
   "id": "9b688679-c4ef-4de7-8fe6-f5fe7cda17bf",
   "metadata": {},
   "outputs": [
    {
     "data": {
      "text/plain": [
       "(['it', 'is', 'a', 'good', 'practice', 'for', 'us', '.'],\n",
       " ['it', 'was', 'a', 'also', 'good', 'to', 'know', 'about', 'it'])"
      ]
     },
     "execution_count": 3,
     "metadata": {},
     "output_type": "execute_result"
    }
   ],
   "source": [
    "s1_sep = word_tokenize(s1.lower())\n",
    "s2_sep = word_tokenize(s2.lower())\n",
    "s1_sep, s2_sep"
   ]
  },
  {
   "cell_type": "code",
   "execution_count": 4,
   "id": "61296afc-5ea5-4ef7-9c2e-4c011cb343fe",
   "metadata": {},
   "outputs": [
    {
     "data": {
      "text/html": [
       "<div>\n",
       "<style scoped>\n",
       "    .dataframe tbody tr th:only-of-type {\n",
       "        vertical-align: middle;\n",
       "    }\n",
       "\n",
       "    .dataframe tbody tr th {\n",
       "        vertical-align: top;\n",
       "    }\n",
       "\n",
       "    .dataframe thead th {\n",
       "        text-align: right;\n",
       "    }\n",
       "</style>\n",
       "<table border=\"1\" class=\"dataframe\">\n",
       "  <thead>\n",
       "    <tr style=\"text-align: right;\">\n",
       "      <th></th>\n",
       "      <th>.</th>\n",
       "      <th>also</th>\n",
       "      <th>is</th>\n",
       "      <th>it</th>\n",
       "      <th>practice</th>\n",
       "      <th>us</th>\n",
       "      <th>about</th>\n",
       "      <th>to</th>\n",
       "      <th>a</th>\n",
       "      <th>was</th>\n",
       "      <th>know</th>\n",
       "      <th>good</th>\n",
       "      <th>for</th>\n",
       "    </tr>\n",
       "  </thead>\n",
       "  <tbody>\n",
       "    <tr>\n",
       "      <th>1</th>\n",
       "      <td>NaN</td>\n",
       "      <td>NaN</td>\n",
       "      <td>NaN</td>\n",
       "      <td>NaN</td>\n",
       "      <td>NaN</td>\n",
       "      <td>NaN</td>\n",
       "      <td>NaN</td>\n",
       "      <td>NaN</td>\n",
       "      <td>NaN</td>\n",
       "      <td>NaN</td>\n",
       "      <td>NaN</td>\n",
       "      <td>NaN</td>\n",
       "      <td>NaN</td>\n",
       "    </tr>\n",
       "    <tr>\n",
       "      <th>2</th>\n",
       "      <td>NaN</td>\n",
       "      <td>NaN</td>\n",
       "      <td>NaN</td>\n",
       "      <td>NaN</td>\n",
       "      <td>NaN</td>\n",
       "      <td>NaN</td>\n",
       "      <td>NaN</td>\n",
       "      <td>NaN</td>\n",
       "      <td>NaN</td>\n",
       "      <td>NaN</td>\n",
       "      <td>NaN</td>\n",
       "      <td>NaN</td>\n",
       "      <td>NaN</td>\n",
       "    </tr>\n",
       "  </tbody>\n",
       "</table>\n",
       "</div>"
      ],
      "text/plain": [
       "     . also   is   it practice   us about   to    a  was know good  for\n",
       "1  NaN  NaN  NaN  NaN      NaN  NaN   NaN  NaN  NaN  NaN  NaN  NaN  NaN\n",
       "2  NaN  NaN  NaN  NaN      NaN  NaN   NaN  NaN  NaN  NaN  NaN  NaN  NaN"
      ]
     },
     "execution_count": 4,
     "metadata": {},
     "output_type": "execute_result"
    }
   ],
   "source": [
    "tk = s1_sep + s2_sep\n",
    "tk = set(tk)\n",
    "df = pd.DataFrame({}, index=[1,2], columns=list(tk))\n",
    "df"
   ]
  },
  {
   "cell_type": "code",
   "execution_count": 5,
   "id": "2d10409e-228d-4de9-8ee8-716e8b3f6ac2",
   "metadata": {},
   "outputs": [
    {
     "data": {
      "text/plain": [
       "([1, 0, 1, 1, 1, 1, 0, 0, 1, 0, 0, 1, 1],\n",
       " [0, 1, 0, 2, 0, 0, 1, 1, 1, 1, 1, 1, 0])"
      ]
     },
     "execution_count": 5,
     "metadata": {},
     "output_type": "execute_result"
    }
   ],
   "source": [
    "cnt1 = [s1_sep.count(x) for x in df.columns]\n",
    "cnt2 = [s2_sep.count(x) for x in df.columns]\n",
    "cnt1 , cnt2"
   ]
  },
  {
   "cell_type": "code",
   "execution_count": 6,
   "id": "7718f98f-14a2-426f-8afe-7d60ae693f0b",
   "metadata": {},
   "outputs": [
    {
     "data": {
      "text/html": [
       "<div>\n",
       "<style scoped>\n",
       "    .dataframe tbody tr th:only-of-type {\n",
       "        vertical-align: middle;\n",
       "    }\n",
       "\n",
       "    .dataframe tbody tr th {\n",
       "        vertical-align: top;\n",
       "    }\n",
       "\n",
       "    .dataframe thead th {\n",
       "        text-align: right;\n",
       "    }\n",
       "</style>\n",
       "<table border=\"1\" class=\"dataframe\">\n",
       "  <thead>\n",
       "    <tr style=\"text-align: right;\">\n",
       "      <th></th>\n",
       "      <th>.</th>\n",
       "      <th>also</th>\n",
       "      <th>is</th>\n",
       "      <th>it</th>\n",
       "      <th>practice</th>\n",
       "      <th>us</th>\n",
       "      <th>about</th>\n",
       "      <th>to</th>\n",
       "      <th>a</th>\n",
       "      <th>was</th>\n",
       "      <th>know</th>\n",
       "      <th>good</th>\n",
       "      <th>for</th>\n",
       "    </tr>\n",
       "  </thead>\n",
       "  <tbody>\n",
       "    <tr>\n",
       "      <th>1</th>\n",
       "      <td>1</td>\n",
       "      <td>0</td>\n",
       "      <td>1</td>\n",
       "      <td>1</td>\n",
       "      <td>1</td>\n",
       "      <td>1</td>\n",
       "      <td>0</td>\n",
       "      <td>0</td>\n",
       "      <td>1</td>\n",
       "      <td>0</td>\n",
       "      <td>0</td>\n",
       "      <td>1</td>\n",
       "      <td>1</td>\n",
       "    </tr>\n",
       "    <tr>\n",
       "      <th>2</th>\n",
       "      <td>0</td>\n",
       "      <td>1</td>\n",
       "      <td>0</td>\n",
       "      <td>2</td>\n",
       "      <td>0</td>\n",
       "      <td>0</td>\n",
       "      <td>1</td>\n",
       "      <td>1</td>\n",
       "      <td>1</td>\n",
       "      <td>1</td>\n",
       "      <td>1</td>\n",
       "      <td>1</td>\n",
       "      <td>0</td>\n",
       "    </tr>\n",
       "  </tbody>\n",
       "</table>\n",
       "</div>"
      ],
      "text/plain": [
       "   . also is it practice us about to  a was know good for\n",
       "1  1    0  1  1        1  1     0  0  1   0    0    1   1\n",
       "2  0    1  0  2        0  0     1  1  1   1    1    1   0"
      ]
     },
     "execution_count": 6,
     "metadata": {},
     "output_type": "execute_result"
    }
   ],
   "source": [
    "df.iloc[0,:] = cnt1\n",
    "df.iloc[1,:] = cnt2\n",
    "df"
   ]
  },
  {
   "cell_type": "markdown",
   "id": "a58fbdfc-6db4-4962-84e8-1f08a0f6ab8b",
   "metadata": {},
   "source": [
    "### 1. Count Vectorizer"
   ]
  },
  {
   "cell_type": "code",
   "execution_count": 7,
   "id": "acf36db5-8fd6-446d-bd9e-6cec4ad3240d",
   "metadata": {},
   "outputs": [
    {
     "data": {
      "text/plain": [
       "<2x11 sparse matrix of type '<class 'numpy.int64'>'\n",
       "\twith 13 stored elements in Compressed Sparse Row format>"
      ]
     },
     "execution_count": 7,
     "metadata": {},
     "output_type": "execute_result"
    }
   ],
   "source": [
    "cvt = CountVectorizer()\n",
    "new_data = cvt.fit_transform([s1, s2])\n",
    "new_data"
   ]
  },
  {
   "cell_type": "code",
   "execution_count": 8,
   "id": "61543afb-cfa8-4239-93fc-fa9dc8707805",
   "metadata": {},
   "outputs": [
    {
     "data": {
      "text/plain": [
       "array([[0, 0, 1, 1, 1, 1, 0, 1, 0, 1, 0],\n",
       "       [1, 1, 0, 1, 0, 2, 1, 0, 1, 0, 1]], dtype=int64)"
      ]
     },
     "execution_count": 8,
     "metadata": {},
     "output_type": "execute_result"
    }
   ],
   "source": [
    "arr = new_data.toarray()\n",
    "arr"
   ]
  },
  {
   "cell_type": "code",
   "execution_count": 9,
   "id": "1f5f361d-c5fc-4a6b-8bcf-8c5ae2444940",
   "metadata": {},
   "outputs": [
    {
     "data": {
      "text/plain": [
       "array(['about', 'also', 'for', 'good', 'is', 'it', 'know', 'practice',\n",
       "       'to', 'us', 'was'], dtype=object)"
      ]
     },
     "execution_count": 9,
     "metadata": {},
     "output_type": "execute_result"
    }
   ],
   "source": [
    "fea = cvt.get_feature_names_out()\n",
    "fea"
   ]
  },
  {
   "cell_type": "code",
   "execution_count": 10,
   "id": "b21d6817-bd12-4bc7-9172-a7481dd63e81",
   "metadata": {},
   "outputs": [
    {
     "data": {
      "text/html": [
       "<div>\n",
       "<style scoped>\n",
       "    .dataframe tbody tr th:only-of-type {\n",
       "        vertical-align: middle;\n",
       "    }\n",
       "\n",
       "    .dataframe tbody tr th {\n",
       "        vertical-align: top;\n",
       "    }\n",
       "\n",
       "    .dataframe thead th {\n",
       "        text-align: right;\n",
       "    }\n",
       "</style>\n",
       "<table border=\"1\" class=\"dataframe\">\n",
       "  <thead>\n",
       "    <tr style=\"text-align: right;\">\n",
       "      <th></th>\n",
       "      <th>about</th>\n",
       "      <th>also</th>\n",
       "      <th>for</th>\n",
       "      <th>good</th>\n",
       "      <th>is</th>\n",
       "      <th>it</th>\n",
       "      <th>know</th>\n",
       "      <th>practice</th>\n",
       "      <th>to</th>\n",
       "      <th>us</th>\n",
       "      <th>was</th>\n",
       "    </tr>\n",
       "  </thead>\n",
       "  <tbody>\n",
       "    <tr>\n",
       "      <th>0</th>\n",
       "      <td>0</td>\n",
       "      <td>0</td>\n",
       "      <td>1</td>\n",
       "      <td>1</td>\n",
       "      <td>1</td>\n",
       "      <td>1</td>\n",
       "      <td>0</td>\n",
       "      <td>1</td>\n",
       "      <td>0</td>\n",
       "      <td>1</td>\n",
       "      <td>0</td>\n",
       "    </tr>\n",
       "    <tr>\n",
       "      <th>1</th>\n",
       "      <td>1</td>\n",
       "      <td>1</td>\n",
       "      <td>0</td>\n",
       "      <td>1</td>\n",
       "      <td>0</td>\n",
       "      <td>2</td>\n",
       "      <td>1</td>\n",
       "      <td>0</td>\n",
       "      <td>1</td>\n",
       "      <td>0</td>\n",
       "      <td>1</td>\n",
       "    </tr>\n",
       "  </tbody>\n",
       "</table>\n",
       "</div>"
      ],
      "text/plain": [
       "   about  also  for  good  is  it  know  practice  to  us  was\n",
       "0      0     0    1     1   1   1     0         1   0   1    0\n",
       "1      1     1    0     1   0   2     1         0   1   0    1"
      ]
     },
     "execution_count": 10,
     "metadata": {},
     "output_type": "execute_result"
    }
   ],
   "source": [
    "df1 = pd.DataFrame(columns = fea, data = arr)\n",
    "df1"
   ]
  },
  {
   "cell_type": "markdown",
   "id": "beccd641-45bd-4fbc-b8e5-c79ea6088c16",
   "metadata": {},
   "source": [
    "### 2. N-grams"
   ]
  },
  {
   "cell_type": "code",
   "execution_count": 11,
   "id": "fabc6913-7ccc-4a22-bfbf-a6ce726f9ea4",
   "metadata": {},
   "outputs": [],
   "source": [
    "cvt = CountVectorizer(ngram_range=(1,2)) #min 1 word, max 2 words"
   ]
  },
  {
   "cell_type": "code",
   "execution_count": 12,
   "id": "603a7bfc-e3f8-4514-9915-541aab2fe823",
   "metadata": {},
   "outputs": [
    {
     "data": {
      "text/plain": [
       "array([[0, 0, 0, 0, 1, 1, 1, 1, 0, 1, 1, 1, 1, 0, 0, 0, 1, 1, 0, 0, 1, 0,\n",
       "        0],\n",
       "       [1, 1, 1, 1, 0, 0, 1, 0, 1, 0, 0, 2, 0, 1, 1, 1, 0, 0, 1, 1, 0, 1,\n",
       "        1]], dtype=int64)"
      ]
     },
     "execution_count": 12,
     "metadata": {},
     "output_type": "execute_result"
    }
   ],
   "source": [
    "new_data = cvt.fit_transform([s1, s2])\n",
    "new_data.toarray()"
   ]
  },
  {
   "cell_type": "code",
   "execution_count": 13,
   "id": "cf341a74-e6bd-40b7-a012-55848f746ba0",
   "metadata": {},
   "outputs": [
    {
     "data": {
      "text/plain": [
       "array(['about', 'about it', 'also', 'also good', 'for', 'for us', 'good',\n",
       "       'good practice', 'good to', 'is', 'is good', 'it', 'it is',\n",
       "       'it was', 'know', 'know about', 'practice', 'practice for', 'to',\n",
       "       'to know', 'us', 'was', 'was also'], dtype=object)"
      ]
     },
     "execution_count": 13,
     "metadata": {},
     "output_type": "execute_result"
    }
   ],
   "source": [
    "cvt.get_feature_names_out()"
   ]
  },
  {
   "cell_type": "code",
   "execution_count": 14,
   "id": "e86590d6-d93d-4339-b42e-487c8e49b97a",
   "metadata": {},
   "outputs": [
    {
     "data": {
      "text/html": [
       "<div>\n",
       "<style scoped>\n",
       "    .dataframe tbody tr th:only-of-type {\n",
       "        vertical-align: middle;\n",
       "    }\n",
       "\n",
       "    .dataframe tbody tr th {\n",
       "        vertical-align: top;\n",
       "    }\n",
       "\n",
       "    .dataframe thead th {\n",
       "        text-align: right;\n",
       "    }\n",
       "</style>\n",
       "<table border=\"1\" class=\"dataframe\">\n",
       "  <thead>\n",
       "    <tr style=\"text-align: right;\">\n",
       "      <th></th>\n",
       "      <th>about</th>\n",
       "      <th>about it</th>\n",
       "      <th>also</th>\n",
       "      <th>also good</th>\n",
       "      <th>for</th>\n",
       "      <th>for us</th>\n",
       "      <th>good</th>\n",
       "      <th>good practice</th>\n",
       "      <th>good to</th>\n",
       "      <th>is</th>\n",
       "      <th>...</th>\n",
       "      <th>it was</th>\n",
       "      <th>know</th>\n",
       "      <th>know about</th>\n",
       "      <th>practice</th>\n",
       "      <th>practice for</th>\n",
       "      <th>to</th>\n",
       "      <th>to know</th>\n",
       "      <th>us</th>\n",
       "      <th>was</th>\n",
       "      <th>was also</th>\n",
       "    </tr>\n",
       "  </thead>\n",
       "  <tbody>\n",
       "    <tr>\n",
       "      <th>0</th>\n",
       "      <td>0</td>\n",
       "      <td>0</td>\n",
       "      <td>0</td>\n",
       "      <td>0</td>\n",
       "      <td>1</td>\n",
       "      <td>1</td>\n",
       "      <td>1</td>\n",
       "      <td>1</td>\n",
       "      <td>0</td>\n",
       "      <td>1</td>\n",
       "      <td>...</td>\n",
       "      <td>0</td>\n",
       "      <td>0</td>\n",
       "      <td>0</td>\n",
       "      <td>1</td>\n",
       "      <td>1</td>\n",
       "      <td>0</td>\n",
       "      <td>0</td>\n",
       "      <td>1</td>\n",
       "      <td>0</td>\n",
       "      <td>0</td>\n",
       "    </tr>\n",
       "    <tr>\n",
       "      <th>1</th>\n",
       "      <td>1</td>\n",
       "      <td>1</td>\n",
       "      <td>1</td>\n",
       "      <td>1</td>\n",
       "      <td>0</td>\n",
       "      <td>0</td>\n",
       "      <td>1</td>\n",
       "      <td>0</td>\n",
       "      <td>1</td>\n",
       "      <td>0</td>\n",
       "      <td>...</td>\n",
       "      <td>1</td>\n",
       "      <td>1</td>\n",
       "      <td>1</td>\n",
       "      <td>0</td>\n",
       "      <td>0</td>\n",
       "      <td>1</td>\n",
       "      <td>1</td>\n",
       "      <td>0</td>\n",
       "      <td>1</td>\n",
       "      <td>1</td>\n",
       "    </tr>\n",
       "  </tbody>\n",
       "</table>\n",
       "<p>2 rows × 23 columns</p>\n",
       "</div>"
      ],
      "text/plain": [
       "   about  about it  also  also good  for  for us  good  good practice  \\\n",
       "0      0         0     0          0    1       1     1              1   \n",
       "1      1         1     1          1    0       0     1              0   \n",
       "\n",
       "   good to  is  ...  it was  know  know about  practice  practice for  to  \\\n",
       "0        0   1  ...       0     0           0         1             1   0   \n",
       "1        1   0  ...       1     1           1         0             0   1   \n",
       "\n",
       "   to know  us  was  was also  \n",
       "0        0   1    0         0  \n",
       "1        1   0    1         1  \n",
       "\n",
       "[2 rows x 23 columns]"
      ]
     },
     "execution_count": 14,
     "metadata": {},
     "output_type": "execute_result"
    }
   ],
   "source": [
    "df = pd.DataFrame(data=new_data.toarray(), columns=cvt.get_feature_names_out())\n",
    "df"
   ]
  },
  {
   "cell_type": "code",
   "execution_count": 15,
   "id": "24d88655-0e1f-491a-b21f-cc1b70e1d832",
   "metadata": {},
   "outputs": [
    {
     "data": {
      "text/plain": [
       "array(['about it', 'also good', 'for us', 'good practice', 'good to',\n",
       "       'is good', 'it is', 'it was', 'know about', 'practice for',\n",
       "       'to know', 'was also'], dtype=object)"
      ]
     },
     "execution_count": 15,
     "metadata": {},
     "output_type": "execute_result"
    }
   ],
   "source": [
    "cvt = CountVectorizer(ngram_range=(2,2)) #min 2 words, max 2 words\n",
    "\n",
    "new_data = cvt.fit_transform([s1, s2])\n",
    "cvt.get_feature_names_out()"
   ]
  }
 ],
 "metadata": {
  "kernelspec": {
   "display_name": "Python 3 (ipykernel)",
   "language": "python",
   "name": "python3"
  },
  "language_info": {
   "codemirror_mode": {
    "name": "ipython",
    "version": 3
   },
   "file_extension": ".py",
   "mimetype": "text/x-python",
   "name": "python",
   "nbconvert_exporter": "python",
   "pygments_lexer": "ipython3",
   "version": "3.11.7"
  }
 },
 "nbformat": 4,
 "nbformat_minor": 5
}
