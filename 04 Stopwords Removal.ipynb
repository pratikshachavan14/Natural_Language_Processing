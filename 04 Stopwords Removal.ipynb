{
 "cells": [
  {
   "cell_type": "code",
   "execution_count": 1,
   "id": "bdd5e800-e315-4e9d-ae89-15db0d0f8541",
   "metadata": {},
   "outputs": [],
   "source": [
    "from nltk.tokenize import word_tokenize\n",
    "from nltk.corpus import stopwords\n",
    "import string"
   ]
  },
  {
   "cell_type": "markdown",
   "id": "23279eae-ff80-4d00-8f57-9535a2c7f9f6",
   "metadata": {},
   "source": [
    "### Punctuation Removal"
   ]
  },
  {
   "cell_type": "code",
   "execution_count": 2,
   "id": "5a3ec7bc-8174-49f7-a140-909b629006f7",
   "metadata": {},
   "outputs": [],
   "source": [
    "sent = 'Hello friends! How are you? Welcome to the world of \"Python Programming\"'"
   ]
  },
  {
   "cell_type": "code",
   "execution_count": 3,
   "id": "f483a06f-e08c-42ca-8829-c26677633ae8",
   "metadata": {},
   "outputs": [
    {
     "data": {
      "text/plain": [
       "['Hello',\n",
       " 'friends',\n",
       " '!',\n",
       " 'How',\n",
       " 'are',\n",
       " 'you',\n",
       " '?',\n",
       " 'Welcome',\n",
       " 'to',\n",
       " 'the',\n",
       " 'world',\n",
       " 'of',\n",
       " '``',\n",
       " 'Python',\n",
       " 'Programming',\n",
       " \"''\"]"
      ]
     },
     "execution_count": 3,
     "metadata": {},
     "output_type": "execute_result"
    }
   ],
   "source": [
    "word = word_tokenize(sent)\n",
    "word"
   ]
  },
  {
   "cell_type": "code",
   "execution_count": 4,
   "id": "56e8fb95-5e1b-4d0b-839e-dff557357c5d",
   "metadata": {},
   "outputs": [
    {
     "data": {
      "text/plain": [
       "'Hello friends How are you Welcome to the world of Python Programming '"
      ]
     },
     "execution_count": 4,
     "metadata": {},
     "output_type": "execute_result"
    }
   ],
   "source": [
    "str1 = ''\n",
    "for i in word:\n",
    "    if i.isalnum() == True :\n",
    "        str1 = str1 + i + \" \"\n",
    "str1"
   ]
  },
  {
   "cell_type": "code",
   "execution_count": 5,
   "id": "d535d3c4-91ea-4d02-81ab-697d004919ee",
   "metadata": {},
   "outputs": [
    {
     "data": {
      "text/plain": [
       "'Hello friends How are you Welcome to the world of Python Programming'"
      ]
     },
     "execution_count": 5,
     "metadata": {},
     "output_type": "execute_result"
    }
   ],
   "source": [
    "clean = [x for x in word if x.isalpha() or x.isdigit()]\n",
    "' '.join(clean)"
   ]
  },
  {
   "cell_type": "code",
   "execution_count": 6,
   "id": "61e741a7-4cfe-496d-9c83-1789da0c60cc",
   "metadata": {},
   "outputs": [
    {
     "name": "stdout",
     "output_type": "stream",
     "text": [
      "Hello friends How are you Welcome to the world of `` Python Programming ''\n"
     ]
    }
   ],
   "source": [
    "clean = [x for x in word if x not in string.punctuation]\n",
    "print(' '.join(clean))"
   ]
  },
  {
   "cell_type": "code",
   "execution_count": 7,
   "id": "b0c96108-8a79-4f7c-8d75-2d3ecc49e08e",
   "metadata": {},
   "outputs": [
    {
     "data": {
      "text/plain": [
       "['Hello',\n",
       " 'friends',\n",
       " 'How',\n",
       " 'are',\n",
       " 'you',\n",
       " 'Welcome',\n",
       " 'to',\n",
       " 'the',\n",
       " 'world',\n",
       " 'of',\n",
       " '``',\n",
       " 'Python',\n",
       " 'Programming',\n",
       " \"''\"]"
      ]
     },
     "execution_count": 7,
     "metadata": {},
     "output_type": "execute_result"
    }
   ],
   "source": [
    "clean"
   ]
  },
  {
   "cell_type": "markdown",
   "id": "283a8314-8c0c-4006-bbe5-52fd988a03ec",
   "metadata": {},
   "source": [
    "### Stopwords removal"
   ]
  },
  {
   "cell_type": "code",
   "execution_count": 8,
   "id": "cfb39dce-fc05-42a8-904e-24865de93384",
   "metadata": {},
   "outputs": [
    {
     "data": {
      "text/plain": [
       "['i',\n",
       " 'me',\n",
       " 'my',\n",
       " 'myself',\n",
       " 'we',\n",
       " 'our',\n",
       " 'ours',\n",
       " 'ourselves',\n",
       " 'you',\n",
       " \"you're\",\n",
       " \"you've\",\n",
       " \"you'll\",\n",
       " \"you'd\",\n",
       " 'your',\n",
       " 'yours',\n",
       " 'yourself',\n",
       " 'yourselves',\n",
       " 'he',\n",
       " 'him',\n",
       " 'his',\n",
       " 'himself',\n",
       " 'she',\n",
       " \"she's\",\n",
       " 'her',\n",
       " 'hers',\n",
       " 'herself',\n",
       " 'it',\n",
       " \"it's\",\n",
       " 'its',\n",
       " 'itself',\n",
       " 'they',\n",
       " 'them',\n",
       " 'their',\n",
       " 'theirs',\n",
       " 'themselves',\n",
       " 'what',\n",
       " 'which',\n",
       " 'who',\n",
       " 'whom',\n",
       " 'this',\n",
       " 'that',\n",
       " \"that'll\",\n",
       " 'these',\n",
       " 'those',\n",
       " 'am',\n",
       " 'is',\n",
       " 'are',\n",
       " 'was',\n",
       " 'were',\n",
       " 'be',\n",
       " 'been',\n",
       " 'being',\n",
       " 'have',\n",
       " 'has',\n",
       " 'had',\n",
       " 'having',\n",
       " 'do',\n",
       " 'does',\n",
       " 'did',\n",
       " 'doing',\n",
       " 'a',\n",
       " 'an',\n",
       " 'the',\n",
       " 'and',\n",
       " 'but',\n",
       " 'if',\n",
       " 'or',\n",
       " 'because',\n",
       " 'as',\n",
       " 'until',\n",
       " 'while',\n",
       " 'of',\n",
       " 'at',\n",
       " 'by',\n",
       " 'for',\n",
       " 'with',\n",
       " 'about',\n",
       " 'against',\n",
       " 'between',\n",
       " 'into',\n",
       " 'through',\n",
       " 'during',\n",
       " 'before',\n",
       " 'after',\n",
       " 'above',\n",
       " 'below',\n",
       " 'to',\n",
       " 'from',\n",
       " 'up',\n",
       " 'down',\n",
       " 'in',\n",
       " 'out',\n",
       " 'on',\n",
       " 'off',\n",
       " 'over',\n",
       " 'under',\n",
       " 'again',\n",
       " 'further',\n",
       " 'then',\n",
       " 'once',\n",
       " 'here',\n",
       " 'there',\n",
       " 'when',\n",
       " 'where',\n",
       " 'why',\n",
       " 'how',\n",
       " 'all',\n",
       " 'any',\n",
       " 'both',\n",
       " 'each',\n",
       " 'few',\n",
       " 'more',\n",
       " 'most',\n",
       " 'other',\n",
       " 'some',\n",
       " 'such',\n",
       " 'no',\n",
       " 'nor',\n",
       " 'not',\n",
       " 'only',\n",
       " 'own',\n",
       " 'same',\n",
       " 'so',\n",
       " 'than',\n",
       " 'too',\n",
       " 'very',\n",
       " 's',\n",
       " 't',\n",
       " 'can',\n",
       " 'will',\n",
       " 'just',\n",
       " 'don',\n",
       " \"don't\",\n",
       " 'should',\n",
       " \"should've\",\n",
       " 'now',\n",
       " 'd',\n",
       " 'll',\n",
       " 'm',\n",
       " 'o',\n",
       " 're',\n",
       " 've',\n",
       " 'y',\n",
       " 'ain',\n",
       " 'aren',\n",
       " \"aren't\",\n",
       " 'couldn',\n",
       " \"couldn't\",\n",
       " 'didn',\n",
       " \"didn't\",\n",
       " 'doesn',\n",
       " \"doesn't\",\n",
       " 'hadn',\n",
       " \"hadn't\",\n",
       " 'hasn',\n",
       " \"hasn't\",\n",
       " 'haven',\n",
       " \"haven't\",\n",
       " 'isn',\n",
       " \"isn't\",\n",
       " 'ma',\n",
       " 'mightn',\n",
       " \"mightn't\",\n",
       " 'mustn',\n",
       " \"mustn't\",\n",
       " 'needn',\n",
       " \"needn't\",\n",
       " 'shan',\n",
       " \"shan't\",\n",
       " 'shouldn',\n",
       " \"shouldn't\",\n",
       " 'wasn',\n",
       " \"wasn't\",\n",
       " 'weren',\n",
       " \"weren't\",\n",
       " 'won',\n",
       " \"won't\",\n",
       " 'wouldn',\n",
       " \"wouldn't\"]"
      ]
     },
     "execution_count": 8,
     "metadata": {},
     "output_type": "execute_result"
    }
   ],
   "source": [
    "swords = stopwords.words('english')\n",
    "swords"
   ]
  },
  {
   "cell_type": "code",
   "execution_count": 9,
   "id": "47887fc3-7c37-40fd-b30f-5a31a20cd4c6",
   "metadata": {},
   "outputs": [
    {
     "data": {
      "text/plain": [
       "179"
      ]
     },
     "execution_count": 9,
     "metadata": {},
     "output_type": "execute_result"
    }
   ],
   "source": [
    "len(swords)"
   ]
  },
  {
   "cell_type": "code",
   "execution_count": 10,
   "id": "ee679a70-db2a-4a7a-a4e1-850bab7a6725",
   "metadata": {},
   "outputs": [
    {
     "name": "stdout",
     "output_type": "stream",
     "text": [
      "Hello friends Welcome world Python Programming\n"
     ]
    }
   ],
   "source": [
    "without_stopwords = [x for x in word if x.lower() not in swords and x.isalnum()]\n",
    "print(' '.join(without_stopwords))"
   ]
  },
  {
   "cell_type": "code",
   "execution_count": 11,
   "id": "8dcd12f1-0715-42f4-8471-164fe391a186",
   "metadata": {
    "scrolled": true
   },
   "outputs": [
    {
     "data": {
      "text/plain": [
       "['अधिक',\n",
       " 'अनेक',\n",
       " 'अशी',\n",
       " 'असलयाचे',\n",
       " 'असलेल्या',\n",
       " 'असा',\n",
       " 'असून',\n",
       " 'असे',\n",
       " 'आज',\n",
       " 'आणि',\n",
       " 'आता',\n",
       " 'आपल्या',\n",
       " 'आला',\n",
       " 'आली',\n",
       " 'आले',\n",
       " 'आहे',\n",
       " 'आहेत',\n",
       " 'एक',\n",
       " 'एका',\n",
       " 'कमी',\n",
       " 'करणयात',\n",
       " 'करून',\n",
       " 'का',\n",
       " 'काम',\n",
       " 'काय',\n",
       " 'काही',\n",
       " 'किवा',\n",
       " 'की',\n",
       " 'केला',\n",
       " 'केली',\n",
       " 'केले',\n",
       " 'कोटी',\n",
       " 'गेल्या',\n",
       " 'घेऊन',\n",
       " 'जात',\n",
       " 'झाला',\n",
       " 'झाली',\n",
       " 'झाले',\n",
       " 'झालेल्या',\n",
       " 'टा',\n",
       " 'डॉ',\n",
       " 'तर',\n",
       " 'तरी',\n",
       " 'तसेच',\n",
       " 'ता',\n",
       " 'ती',\n",
       " 'तीन',\n",
       " 'ते',\n",
       " 'तो',\n",
       " 'त्या',\n",
       " 'त्याचा',\n",
       " 'त्याची',\n",
       " 'त्याच्या',\n",
       " 'त्याना',\n",
       " 'त्यानी',\n",
       " 'त्यामुळे',\n",
       " 'त्री',\n",
       " 'दिली',\n",
       " 'दोन',\n",
       " 'न',\n",
       " 'नाही',\n",
       " 'निर्ण्य',\n",
       " 'पण',\n",
       " 'पम',\n",
       " 'परयतन',\n",
       " 'पाटील',\n",
       " 'म',\n",
       " 'मात्र',\n",
       " 'माहिती',\n",
       " 'मी',\n",
       " 'मुबी',\n",
       " 'म्हणजे',\n",
       " 'म्हणाले',\n",
       " 'म्हणून',\n",
       " 'या',\n",
       " 'याचा',\n",
       " 'याची',\n",
       " 'याच्या',\n",
       " 'याना',\n",
       " 'यानी',\n",
       " 'येणार',\n",
       " 'येत',\n",
       " 'येथील',\n",
       " 'येथे',\n",
       " 'लाख',\n",
       " 'व',\n",
       " 'व्यकत',\n",
       " 'सर्व',\n",
       " 'सागित्ले',\n",
       " 'सुरू',\n",
       " 'हजार',\n",
       " 'हा',\n",
       " 'ही',\n",
       " 'हे',\n",
       " 'होणार',\n",
       " 'होत',\n",
       " 'होता',\n",
       " 'होती',\n",
       " 'होते']"
      ]
     },
     "execution_count": 11,
     "metadata": {},
     "output_type": "execute_result"
    }
   ],
   "source": [
    "swords = stopwords.words('marathi')\n",
    "swords"
   ]
  }
 ],
 "metadata": {
  "kernelspec": {
   "display_name": "Python 3 (ipykernel)",
   "language": "python",
   "name": "python3"
  },
  "language_info": {
   "codemirror_mode": {
    "name": "ipython",
    "version": 3
   },
   "file_extension": ".py",
   "mimetype": "text/x-python",
   "name": "python",
   "nbconvert_exporter": "python",
   "pygments_lexer": "ipython3",
   "version": "3.11.7"
  }
 },
 "nbformat": 4,
 "nbformat_minor": 5
}
