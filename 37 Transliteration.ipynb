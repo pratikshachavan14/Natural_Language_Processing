{
 "cells": [
  {
   "cell_type": "code",
   "execution_count": 1,
   "id": "512ced2b-ebdf-4b1d-9138-0ed3ea03bf24",
   "metadata": {},
   "outputs": [],
   "source": [
    "#pip install indic_transliteration"
   ]
  },
  {
   "cell_type": "markdown",
   "id": "0ecd2d16-e9c0-4d34-8610-90bc8e24b697",
   "metadata": {},
   "source": [
    "### Import the libraries"
   ]
  },
  {
   "cell_type": "code",
   "execution_count": 2,
   "id": "5d2df912-f201-4305-91e5-7d404922b28c",
   "metadata": {},
   "outputs": [],
   "source": [
    "from indic_transliteration import sanscript\n",
    "from indic_transliteration.sanscript import transliterate"
   ]
  },
  {
   "cell_type": "code",
   "execution_count": 3,
   "id": "4ee027f8-e5c0-4f94-aa47-cb80e4902bd9",
   "metadata": {},
   "outputs": [],
   "source": [
    "data ='mitaalI'"
   ]
  },
  {
   "cell_type": "code",
   "execution_count": 4,
   "id": "36b6e018-7ce5-4ca2-8bf0-6827aa5b14e1",
   "metadata": {},
   "outputs": [
    {
     "name": "stdout",
     "output_type": "stream",
     "text": [
      "मिताली\n"
     ]
    }
   ],
   "source": [
    "print(transliterate(data, sanscript.ITRANS, sanscript.DEVANAGARI))"
   ]
  },
  {
   "cell_type": "code",
   "execution_count": 7,
   "id": "5287c697-1c44-4048-8fb4-7de7bf9966e2",
   "metadata": {},
   "outputs": [],
   "source": [
    "data1 ='pratikShaa'"
   ]
  },
  {
   "cell_type": "code",
   "execution_count": 8,
   "id": "e37a6e27-7450-4bcb-8ae2-696a1e5634b2",
   "metadata": {},
   "outputs": [
    {
     "name": "stdout",
     "output_type": "stream",
     "text": [
      "प्रतिक्षा\n"
     ]
    }
   ],
   "source": [
    "print(transliterate(data1, sanscript.ITRANS, sanscript.DEVANAGARI))"
   ]
  },
  {
   "cell_type": "code",
   "execution_count": 16,
   "id": "72b223ce-cb76-4770-b1b0-75dab3c0ccec",
   "metadata": {},
   "outputs": [],
   "source": [
    "data2 ='kabIra'"
   ]
  },
  {
   "cell_type": "code",
   "execution_count": 17,
   "id": "2b25bbf7-6d44-4aed-a920-a845b4941743",
   "metadata": {},
   "outputs": [
    {
     "name": "stdout",
     "output_type": "stream",
     "text": [
      "कबीर\n"
     ]
    }
   ],
   "source": [
    "print(transliterate(data2, sanscript.ITRANS, sanscript.DEVANAGARI))"
   ]
  },
  {
   "cell_type": "code",
   "execution_count": 20,
   "id": "9947de2b-9a0d-44e6-a9d8-40c180bc50fb",
   "metadata": {},
   "outputs": [],
   "source": [
    "data3 ='snehala'"
   ]
  },
  {
   "cell_type": "code",
   "execution_count": 21,
   "id": "17a1919e-c672-4dae-b47e-ec8975048bc0",
   "metadata": {},
   "outputs": [
    {
     "name": "stdout",
     "output_type": "stream",
     "text": [
      "स्नेहल\n"
     ]
    }
   ],
   "source": [
    "print(transliterate(data3, sanscript.ITRANS, sanscript.DEVANAGARI))"
   ]
  }
 ],
 "metadata": {
  "kernelspec": {
   "display_name": "Python 3 (ipykernel)",
   "language": "python",
   "name": "python3"
  },
  "language_info": {
   "codemirror_mode": {
    "name": "ipython",
    "version": 3
   },
   "file_extension": ".py",
   "mimetype": "text/x-python",
   "name": "python",
   "nbconvert_exporter": "python",
   "pygments_lexer": "ipython3",
   "version": "3.11.7"
  }
 },
 "nbformat": 4,
 "nbformat_minor": 5
}
