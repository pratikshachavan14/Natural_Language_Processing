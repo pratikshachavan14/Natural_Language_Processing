{
 "cells": [
  {
   "cell_type": "code",
   "execution_count": 1,
   "id": "e31e4b76-a3e3-4901-a18e-8e8d7624e63b",
   "metadata": {},
   "outputs": [],
   "source": [
    "from tkinter import *"
   ]
  },
  {
   "cell_type": "markdown",
   "id": "fcd0f065-0dc8-471b-b675-fed0d1f9c8b2",
   "metadata": {},
   "source": [
    "## Basic Application"
   ]
  },
  {
   "cell_type": "code",
   "execution_count": 2,
   "id": "88b9e3d9-a26f-4cac-966b-694fa929a983",
   "metadata": {},
   "outputs": [],
   "source": [
    "top = Tk()\n",
    "\n",
    "top.mainloop()"
   ]
  },
  {
   "cell_type": "markdown",
   "id": "97fcf4fa-5b01-4600-919d-9bde0b6442df",
   "metadata": {},
   "source": [
    "## Customization"
   ]
  },
  {
   "cell_type": "code",
   "execution_count": 3,
   "id": "88d2e9c4-5135-475a-bdd8-d03d306c9eed",
   "metadata": {},
   "outputs": [],
   "source": [
    "top = Tk()\n",
    "top.title('My first application')\n",
    "top.geometry('500x300')\n",
    "\n",
    "l = Label(top, text='Hello World')\n",
    "l.pack()       #layout manager   -> pack means add sequentially  --> in center\n",
    "top.mainloop()"
   ]
  },
  {
   "cell_type": "code",
   "execution_count": 4,
   "id": "3ea50baf-ca4d-4d38-bfa3-ef86e98d4cb4",
   "metadata": {},
   "outputs": [
    {
     "data": {
      "text/plain": [
       "'\\nLayout Manager\\n\\npack  --> adds sequentially, one after the another --> in center\\ngrid  --> added in matrix form\\nplace --> adds at exact location (x,y)\\n\\n'"
      ]
     },
     "execution_count": 4,
     "metadata": {},
     "output_type": "execute_result"
    }
   ],
   "source": [
    "'''\n",
    "Layout Manager\n",
    "\n",
    "pack  --> adds sequentially, one after the another --> in center\n",
    "grid  --> added in matrix form\n",
    "place --> adds at exact location (x,y)\n",
    "\n",
    "'''"
   ]
  },
  {
   "cell_type": "code",
   "execution_count": 4,
   "id": "4a6a59b5-f3ea-4c46-ae36-c3a430bba2dc",
   "metadata": {},
   "outputs": [],
   "source": [
    "top = Tk()\n",
    "top.title('My first application')\n",
    "top.geometry('500x300')\n",
    "\n",
    "Label(top, text='Hello World').pack()\n",
    "Entry(top).pack()                            #text box (input)\n",
    "Button(top, text = 'Submit').pack()\n",
    "top.mainloop()"
   ]
  },
  {
   "cell_type": "code",
   "execution_count": 6,
   "id": "71b8e6ca-1f87-4781-8f99-4d679772c5e6",
   "metadata": {},
   "outputs": [
    {
     "data": {
      "text/plain": [
       "'\\nactive and passive events\\n\\nevents that perform an action are active events. Ex:- TextBox, Radio buttons\\nevents that dont perform any action are passive events. Ex:- Label\\n'"
      ]
     },
     "execution_count": 6,
     "metadata": {},
     "output_type": "execute_result"
    }
   ],
   "source": [
    "'''\n",
    "active and passive events\n",
    "\n",
    "events that perform an action are active events. Ex:- TextBox, Radio buttons\n",
    "events that dont perform any action are passive events. Ex:- Label\n",
    "'''"
   ]
  },
  {
   "cell_type": "markdown",
   "id": "1cdf7427-17e2-464f-8e5e-733b6fe3a681",
   "metadata": {},
   "source": [
    "## Event Handling"
   ]
  },
  {
   "cell_type": "code",
   "execution_count": 5,
   "id": "9e865af1-e373-4f1d-a087-397bceb5ac9d",
   "metadata": {},
   "outputs": [],
   "source": [
    "top = Tk()\n",
    "top.title('My first application')\n",
    "top.geometry('500x300')\n",
    "\n",
    "def show():\n",
    "    name = str(e.get())\n",
    "    print('Your name is : ', name.upper())\n",
    "\n",
    "Label(top, text='Enter your name:').pack()\n",
    "e = Entry(top)\n",
    "e.pack()\n",
    "Button(top, text = 'Submit', command = show).pack()\n",
    "top.mainloop()"
   ]
  },
  {
   "cell_type": "code",
   "execution_count": 6,
   "id": "67120930-310e-477d-ac85-4a98dad7cc21",
   "metadata": {},
   "outputs": [],
   "source": [
    "top = Tk()\n",
    "top.title('My first application')\n",
    "top.geometry('500x300')\n",
    "\n",
    "def show():\n",
    "    name = str(e.get())\n",
    "    Label(top, text= 'Your name :' + str(e.get().upper())).pack()   # to get output directly on output window as label\n",
    "\n",
    "Label(top, text='Enter your name:').pack()\n",
    "e = Entry(top)\n",
    "e.pack()\n",
    "Button(top, text = 'Submit', command = show).pack()\n",
    "top.mainloop()"
   ]
  },
  {
   "cell_type": "markdown",
   "id": "a54e383d-7a39-4142-90ba-02c7b6ca9742",
   "metadata": {},
   "source": [
    "## Interactive Application"
   ]
  },
  {
   "cell_type": "code",
   "execution_count": 7,
   "id": "07943997-319c-4e75-8b12-34e57372ee0b",
   "metadata": {},
   "outputs": [],
   "source": [
    "top = Tk()\n",
    "top.title('Number Squares')\n",
    "top.geometry('500x300')\n",
    "\n",
    "def show():\n",
    "    num = int(e.get())\n",
    "    num **=2\n",
    "    Label(top, text= 'Square is : ' + str(num)).place(x = 50, y = 150)   # to get output directly on output window as label\n",
    "\n",
    "Label(top, text='Enter your number:').place(x=50, y=30)\n",
    "e = Entry(top)\n",
    "e.place(x = 50, y = 70)\n",
    "Button(top, text = 'Submit', command = show).place(x = 50, y = 110)\n",
    "top.mainloop()"
   ]
  },
  {
   "cell_type": "code",
   "execution_count": 10,
   "id": "f6e30397-6d4b-43b9-b0fc-c1ac90f5a94d",
   "metadata": {},
   "outputs": [],
   "source": [
    "top = Tk()\n",
    "top.title('Number Squares')\n",
    "top.geometry('500x300')\n",
    "\n",
    "def show():\n",
    "    num = int(e.get())\n",
    "    l.config(text='Square is : ' + str(num ** 2))   #overwrites previous calculation\n",
    "    l.place(x = 50, y = 150)  \n",
    "\n",
    "Label(top, text='Enter your number:').place(x=50, y=30)\n",
    "e = Entry(top)\n",
    "e.place(x = 50, y = 70)\n",
    "Button(top, text = 'Submit', command = show).place(x = 50, y = 110)\n",
    "l = Label(top, text = 'Square is : ')\n",
    "top.mainloop()"
   ]
  },
  {
   "cell_type": "code",
   "execution_count": 8,
   "id": "34115bc4-c50f-4395-9c0b-af267836967e",
   "metadata": {},
   "outputs": [],
   "source": [
    "top = Tk()\n",
    "top.title('Calculator')\n",
    "top.geometry('500x300')\n",
    "\n",
    "def add():\n",
    "    num1 = int(e1.get())\n",
    "    num2 = int(e2.get())\n",
    "    l.config(text ='Addition is : ' + str(num1 + num2))\n",
    "    l.place(x = 50, y = 150)  \n",
    "\n",
    "def sub():\n",
    "    num1 = int(e1.get())\n",
    "    num2 = int(e2.get())\n",
    "    l.config(text ='Subtraction is : ' + str(num1 - num2))\n",
    "    l.place(x = 50, y = 150)  \n",
    "\n",
    "def mul():\n",
    "    num1 = int(e1.get())\n",
    "    num2 = int(e2.get())\n",
    "    l.config(text ='Multiplication is : ' + str(num1 * num2))\n",
    "    l.place(x = 50, y = 150)  \n",
    "\n",
    "def div():\n",
    "    num1 = int(e1.get())\n",
    "    num2 = int(e2.get())\n",
    "    l.config(text ='Division is : ' + str(num1 / num2))\n",
    "    l.place(x = 50, y = 150)  \n",
    "    \n",
    "\n",
    "Label(top, text='Enter number 1:').place(x=50, y=30)\n",
    "e1 = Entry(top)\n",
    "e1.place(x = 50, y = 70)\n",
    "\n",
    "Label(top, text='Enter number 2:').place(x=200, y=30)\n",
    "e2 = Entry(top)\n",
    "e2.place(x = 200, y = 70)\n",
    "\n",
    "Button(top, text = ' + ', command = add).place(x = 50, y = 110)\n",
    "Button(top, text = ' - ', command = sub).place(x = 90, y = 110)\n",
    "Button(top, text = ' * ', command = mul).place(x = 130, y = 110)\n",
    "Button(top, text = ' / ', command = div).place(x = 170, y = 110)\n",
    "\n",
    "l = Label(top)\n",
    "\n",
    "top.mainloop()"
   ]
  },
  {
   "cell_type": "markdown",
   "id": "750c980f-a9ca-4ca8-a852-22d5ddec08fc",
   "metadata": {},
   "source": [
    "### GUI for spam classification"
   ]
  },
  {
   "cell_type": "code",
   "execution_count": 9,
   "id": "5c598a25-a3c3-4f80-8375-ea41b57ca23e",
   "metadata": {},
   "outputs": [],
   "source": [
    "import joblib\n",
    "from nltk.tokenize import word_tokenize\n",
    "from nltk.corpus import stopwords\n",
    "from nltk.stem import PorterStemmer\n",
    "\n",
    "# define analyzer function\n",
    "\n",
    "swords = stopwords.words('english')\n",
    "ps = PorterStemmer()\n",
    "\n",
    "def clean_text(sent):\n",
    "    tokens1 = word_tokenize(sent)\n",
    "    tokens2 = [token for token in tokens1 if token.isalnum()]\n",
    "    tokens3 = [token for token in tokens2 if token.lower() not in swords]\n",
    "    tokens4 = [ps.stem(token) for token in tokens3]\n",
    "    return tokens4\n",
    "\n",
    "\n",
    "\n",
    "top = Tk()\n",
    "top.title('Spam or Not Spam')\n",
    "top.geometry('800x600')\n",
    "\n",
    "def check():\n",
    "    classifier = joblib.load('classifier.model')\n",
    "    tfidf = joblib.load('preprocessor.model')\n",
    "    message = str(t.get(\"1.0\", END))\n",
    "    result = classifier.predict(tfidf.transform([message]))\n",
    "    \n",
    "    l.config(text='Message is : ' + str(result[0]))   #overwrites previous calculation\n",
    "    l.place(x = 350, y = 550)  \n",
    "\n",
    "Label(top, text='Enter your message here:').place(x=50, y=30)\n",
    "t = Text(top)\n",
    "t.place(x = 50, y = 70)\n",
    "\n",
    "Button(top, text = 'Check', command = check).place(x = 350, y = 500)\n",
    "l = Label(top, text = 'Message is : ')\n",
    "\n",
    "top.mainloop()"
   ]
  },
  {
   "cell_type": "code",
   "execution_count": null,
   "id": "0689bdb6-b306-48d4-bd86-764b6d76e9ea",
   "metadata": {},
   "outputs": [],
   "source": [
    "''' \n",
    "to check spam message\n",
    "\n",
    "TEXT YES for callback, no to remove from records. REMINDER FROM O2: \n",
    "To get 2.50 pounds free call credit and details of great offers pls reply 2 this text with your valid name,\n",
    "house no and postcode This is the 2nd time we have tried 2 contact u. U have won the £750 Pound prize. \n",
    "2 claim is easy, call 087187272008 NOW1! Only 10p per minute. BT-national-rat\n",
    "'''"
   ]
  }
 ],
 "metadata": {
  "kernelspec": {
   "display_name": "Python 3 (ipykernel)",
   "language": "python",
   "name": "python3"
  },
  "language_info": {
   "codemirror_mode": {
    "name": "ipython",
    "version": 3
   },
   "file_extension": ".py",
   "mimetype": "text/x-python",
   "name": "python",
   "nbconvert_exporter": "python",
   "pygments_lexer": "ipython3",
   "version": "3.11.7"
  }
 },
 "nbformat": 4,
 "nbformat_minor": 5
}
