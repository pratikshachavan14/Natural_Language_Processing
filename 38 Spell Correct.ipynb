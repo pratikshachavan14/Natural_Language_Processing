{
 "cells": [
  {
   "cell_type": "code",
   "execution_count": 1,
   "id": "06e7a762-9bb1-4351-b8bc-b5f13b2e6064",
   "metadata": {},
   "outputs": [],
   "source": [
    "#Importing Libraries\n",
    "from textblob import TextBlob"
   ]
  },
  {
   "cell_type": "code",
   "execution_count": 2,
   "id": "2ef960a0-bc3a-465b-b0f1-a2175a207400",
   "metadata": {},
   "outputs": [],
   "source": [
    "text = TextBlob('computar')\n",
    "text.correct()"
   ]
  },
  {
   "cell_type": "code",
   "execution_count": 4,
   "id": "eb2735ee-f653-49fd-b27b-8d138a156ce4",
   "metadata": {},
   "outputs": [
    {
     "data": {
      "text/plain": [
       "TextBlob(\"computer\")"
      ]
     },
     "execution_count": 4,
     "metadata": {},
     "output_type": "execute_result"
    }
   ],
   "source": [
    "text = TextBlob('komputar')\n",
    "text.correct()"
   ]
  },
  {
   "cell_type": "code",
   "execution_count": 11,
   "id": "d632ee81-f9f7-45ff-991e-d1746c1a0b97",
   "metadata": {},
   "outputs": [
    {
     "data": {
      "text/plain": [
       "TextBlob(\"knowledge\")"
      ]
     },
     "execution_count": 11,
     "metadata": {},
     "output_type": "execute_result"
    }
   ],
   "source": [
    "text = TextBlob('cnowladge')\n",
    "text.correct()"
   ]
  },
  {
   "cell_type": "code",
   "execution_count": 13,
   "id": "a14faeaa-0545-4508-bbb1-eb1038fd94d5",
   "metadata": {},
   "outputs": [
    {
     "data": {
      "text/plain": [
       "TextBlob(\"They were playing on the ground\")"
      ]
     },
     "execution_count": 13,
     "metadata": {},
     "output_type": "execute_result"
    }
   ],
   "source": [
    "sent = 'They were playing onn the geround'\n",
    "TextBlob(sent).correct()"
   ]
  },
  {
   "cell_type": "code",
   "execution_count": 14,
   "id": "8e72e17c-5612-4e5c-86a4-732084576eae",
   "metadata": {},
   "outputs": [
    {
     "data": {
      "text/plain": [
       "WordList(['They', 'were', 'playing', 'onn', 'the', 'geround'])"
      ]
     },
     "execution_count": 14,
     "metadata": {},
     "output_type": "execute_result"
    }
   ],
   "source": [
    "sent = TextBlob(sent)\n",
    "sent.tokenize()"
   ]
  },
  {
   "cell_type": "code",
   "execution_count": 16,
   "id": "942be6b9-abab-4c0a-916a-9a9b5b657ecb",
   "metadata": {},
   "outputs": [
    {
     "data": {
      "text/plain": [
       "[('They', 'PRP'),\n",
       " ('were', 'VBD'),\n",
       " ('playing', 'VBG'),\n",
       " ('on', 'IN'),\n",
       " ('the', 'DT'),\n",
       " ('ground', 'NN')]"
      ]
     },
     "execution_count": 16,
     "metadata": {},
     "output_type": "execute_result"
    }
   ],
   "source": [
    "sent.correct().pos_tags"
   ]
  }
 ],
 "metadata": {
  "kernelspec": {
   "display_name": "Python 3 (ipykernel)",
   "language": "python",
   "name": "python3"
  },
  "language_info": {
   "codemirror_mode": {
    "name": "ipython",
    "version": 3
   },
   "file_extension": ".py",
   "mimetype": "text/x-python",
   "name": "python",
   "nbconvert_exporter": "python",
   "pygments_lexer": "ipython3",
   "version": "3.11.7"
  }
 },
 "nbformat": 4,
 "nbformat_minor": 5
}
