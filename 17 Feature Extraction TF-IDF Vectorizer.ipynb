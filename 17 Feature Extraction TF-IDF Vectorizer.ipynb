{
 "cells": [
  {
   "cell_type": "code",
   "execution_count": 2,
   "id": "c346ce5e-5a8c-4eb9-8f80-11120e85e187",
   "metadata": {},
   "outputs": [],
   "source": [
    "import numpy as np\n",
    "import pandas as pd\n",
    "from sklearn.feature_extraction.text import TfidfVectorizer"
   ]
  },
  {
   "cell_type": "code",
   "execution_count": 3,
   "id": "ac258bf7-6bc0-49df-8fcf-a48a5e8f1c50",
   "metadata": {},
   "outputs": [],
   "source": [
    "s1 = 'It is a good practice for us.'\n",
    "s2 = 'It was a also good to know about it'"
   ]
  },
  {
   "cell_type": "code",
   "execution_count": 4,
   "id": "aacbe213-848f-415a-a125-02657c7b0c3b",
   "metadata": {},
   "outputs": [],
   "source": [
    "#create the object\n",
    "tfidf = TfidfVectorizer()"
   ]
  },
  {
   "cell_type": "code",
   "execution_count": 5,
   "id": "ec749948-18fe-44e6-8142-604693e6ef22",
   "metadata": {},
   "outputs": [
    {
     "data": {
      "text/plain": [
       "<2x11 sparse matrix of type '<class 'numpy.float64'>'\n",
       "\twith 13 stored elements in Compressed Sparse Row format>"
      ]
     },
     "execution_count": 5,
     "metadata": {},
     "output_type": "execute_result"
    }
   ],
   "source": [
    "#apply the task\n",
    "new_data = tfidf.fit_transform([s1, s2])\n",
    "new_data"
   ]
  },
  {
   "cell_type": "code",
   "execution_count": 7,
   "id": "ca189534-7577-4024-bcfa-f29c81c65090",
   "metadata": {},
   "outputs": [
    {
     "data": {
      "text/plain": [
       "array([[0.        , 0.        , 0.44665616, 0.31779954, 0.44665616,\n",
       "        0.31779954, 0.        , 0.44665616, 0.        , 0.44665616,\n",
       "        0.        ],\n",
       "       [0.36439074, 0.36439074, 0.        , 0.25926702, 0.        ,\n",
       "        0.51853403, 0.36439074, 0.        , 0.36439074, 0.        ,\n",
       "        0.36439074]])"
      ]
     },
     "execution_count": 7,
     "metadata": {},
     "output_type": "execute_result"
    }
   ],
   "source": [
    "arr =new_data.toarray()\n",
    "arr"
   ]
  },
  {
   "cell_type": "code",
   "execution_count": 9,
   "id": "3a396f36-f0f6-4f08-9697-e90a0c62be8d",
   "metadata": {},
   "outputs": [
    {
     "data": {
      "text/plain": [
       "array(['about', 'also', 'for', 'good', 'is', 'it', 'know', 'practice',\n",
       "       'to', 'us', 'was'], dtype=object)"
      ]
     },
     "execution_count": 9,
     "metadata": {},
     "output_type": "execute_result"
    }
   ],
   "source": [
    "fea = tfidf.get_feature_names_out()\n",
    "fea"
   ]
  },
  {
   "cell_type": "code",
   "execution_count": 10,
   "id": "e4d23d6e-4ff9-416a-8008-bd865764ebcc",
   "metadata": {},
   "outputs": [
    {
     "data": {
      "text/html": [
       "<div>\n",
       "<style scoped>\n",
       "    .dataframe tbody tr th:only-of-type {\n",
       "        vertical-align: middle;\n",
       "    }\n",
       "\n",
       "    .dataframe tbody tr th {\n",
       "        vertical-align: top;\n",
       "    }\n",
       "\n",
       "    .dataframe thead th {\n",
       "        text-align: right;\n",
       "    }\n",
       "</style>\n",
       "<table border=\"1\" class=\"dataframe\">\n",
       "  <thead>\n",
       "    <tr style=\"text-align: right;\">\n",
       "      <th></th>\n",
       "      <th>about</th>\n",
       "      <th>also</th>\n",
       "      <th>for</th>\n",
       "      <th>good</th>\n",
       "      <th>is</th>\n",
       "      <th>it</th>\n",
       "      <th>know</th>\n",
       "      <th>practice</th>\n",
       "      <th>to</th>\n",
       "      <th>us</th>\n",
       "      <th>was</th>\n",
       "    </tr>\n",
       "  </thead>\n",
       "  <tbody>\n",
       "    <tr>\n",
       "      <th>0</th>\n",
       "      <td>0.000000</td>\n",
       "      <td>0.000000</td>\n",
       "      <td>0.446656</td>\n",
       "      <td>0.317800</td>\n",
       "      <td>0.446656</td>\n",
       "      <td>0.317800</td>\n",
       "      <td>0.000000</td>\n",
       "      <td>0.446656</td>\n",
       "      <td>0.000000</td>\n",
       "      <td>0.446656</td>\n",
       "      <td>0.000000</td>\n",
       "    </tr>\n",
       "    <tr>\n",
       "      <th>1</th>\n",
       "      <td>0.364391</td>\n",
       "      <td>0.364391</td>\n",
       "      <td>0.000000</td>\n",
       "      <td>0.259267</td>\n",
       "      <td>0.000000</td>\n",
       "      <td>0.518534</td>\n",
       "      <td>0.364391</td>\n",
       "      <td>0.000000</td>\n",
       "      <td>0.364391</td>\n",
       "      <td>0.000000</td>\n",
       "      <td>0.364391</td>\n",
       "    </tr>\n",
       "  </tbody>\n",
       "</table>\n",
       "</div>"
      ],
      "text/plain": [
       "      about      also       for      good        is        it      know  \\\n",
       "0  0.000000  0.000000  0.446656  0.317800  0.446656  0.317800  0.000000   \n",
       "1  0.364391  0.364391  0.000000  0.259267  0.000000  0.518534  0.364391   \n",
       "\n",
       "   practice        to        us       was  \n",
       "0  0.446656  0.000000  0.446656  0.000000  \n",
       "1  0.000000  0.364391  0.000000  0.364391  "
      ]
     },
     "execution_count": 10,
     "metadata": {},
     "output_type": "execute_result"
    }
   ],
   "source": [
    "df = pd.DataFrame(data=arr, columns=fea)\n",
    "df"
   ]
  }
 ],
 "metadata": {
  "kernelspec": {
   "display_name": "Python 3 (ipykernel)",
   "language": "python",
   "name": "python3"
  },
  "language_info": {
   "codemirror_mode": {
    "name": "ipython",
    "version": 3
   },
   "file_extension": ".py",
   "mimetype": "text/x-python",
   "name": "python",
   "nbconvert_exporter": "python",
   "pygments_lexer": "ipython3",
   "version": "3.11.7"
  }
 },
 "nbformat": 4,
 "nbformat_minor": 5
}
