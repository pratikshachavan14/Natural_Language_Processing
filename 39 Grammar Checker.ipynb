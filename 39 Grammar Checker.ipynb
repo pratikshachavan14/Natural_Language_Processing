{
 "cells": [
  {
   "cell_type": "code",
   "execution_count": 1,
   "id": "d55af843-47a9-4a91-9d49-2e8e2a39e72f",
   "metadata": {},
   "outputs": [],
   "source": [
    "#pip install language-tool-python"
   ]
  },
  {
   "cell_type": "markdown",
   "id": "c8d898ac-4721-4eea-9270-b7642c1486a3",
   "metadata": {},
   "source": [
    "### Import the libraries"
   ]
  },
  {
   "cell_type": "code",
   "execution_count": 2,
   "id": "39b59630-c291-4d0b-8f50-f72984a3148f",
   "metadata": {},
   "outputs": [],
   "source": [
    "import language_tool_python"
   ]
  },
  {
   "cell_type": "markdown",
   "id": "edbe0e69-d193-42aa-9e74-b9d6e176c14c",
   "metadata": {},
   "source": [
    "### set the language"
   ]
  },
  {
   "cell_type": "code",
   "execution_count": 3,
   "id": "85095901-ca46-4ff9-be6f-6d27413b71b7",
   "metadata": {},
   "outputs": [],
   "source": [
    "# using the tool\n",
    "my_tool = language_tool_python.LanguageTool('en-US')"
   ]
  },
  {
   "cell_type": "code",
   "execution_count": 4,
   "id": "341baa13-a5f8-49c0-af30-444fab11aacd",
   "metadata": {},
   "outputs": [],
   "source": [
    "# given text\n",
    "my_text = \"He have collected a documents. I is there.\""
   ]
  },
  {
   "cell_type": "code",
   "execution_count": 5,
   "id": "c5de9dc6-c765-4f0a-8069-c9918398889c",
   "metadata": {},
   "outputs": [
    {
     "name": "stdout",
     "output_type": "stream",
     "text": [
      "Offset 3, length 4, Rule ID: HE_VERB_AGR\n",
      "Message: The pronoun ‘He’ is usually used with a third-person or a past tense verb.\n",
      "Suggestion: has; had\n",
      "He have collected a documents. I is there.\n",
      "   ^^^^\n",
      "Offset 18, length 11, Rule ID: A_NNS\n",
      "Message: The plural noun “documents” cannot be used with the article “a”. Did you mean “a document” or “documents”?\n",
      "Suggestion: a document; documents\n",
      "He have collected a documents. I is there.\n",
      "                  ^^^^^^^^^^^\n",
      "Offset 33, length 2, Rule ID: PERS_PRONOUN_AGREEMENT\n",
      "Message: Did you mean “am” or “will be”?\n",
      "Suggestion: am; will be\n",
      "He have collected a documents. I is there.\n",
      "                                 ^^\n"
     ]
    }
   ],
   "source": [
    "# getting the matches\n",
    "my_matches = my_tool.check(my_text)\n",
    "\n",
    "# printing matches\n",
    "for m in my_matches:\n",
    "    print(m)"
   ]
  },
  {
   "cell_type": "code",
   "execution_count": 6,
   "id": "c437e3f8-b0f0-4a5b-bdb2-922e9c9f7be1",
   "metadata": {},
   "outputs": [
    {
     "data": {
      "text/plain": [
       "'He has collected a document. I am there.'"
      ]
     },
     "execution_count": 6,
     "metadata": {},
     "output_type": "execute_result"
    }
   ],
   "source": [
    "my_tool.correct(my_text)"
   ]
  },
  {
   "cell_type": "code",
   "execution_count": 7,
   "id": "76857e34-f219-41d2-b5c5-f3667378cf93",
   "metadata": {},
   "outputs": [
    {
     "data": {
      "text/plain": [
       "<LanguageTag \"en-US\">"
      ]
     },
     "execution_count": 7,
     "metadata": {},
     "output_type": "execute_result"
    }
   ],
   "source": [
    "my_tool.language"
   ]
  }
 ],
 "metadata": {
  "kernelspec": {
   "display_name": "Python 3 (ipykernel)",
   "language": "python",
   "name": "python3"
  },
  "language_info": {
   "codemirror_mode": {
    "name": "ipython",
    "version": 3
   },
   "file_extension": ".py",
   "mimetype": "text/x-python",
   "name": "python",
   "nbconvert_exporter": "python",
   "pygments_lexer": "ipython3",
   "version": "3.11.7"
  }
 },
 "nbformat": 4,
 "nbformat_minor": 5
}
