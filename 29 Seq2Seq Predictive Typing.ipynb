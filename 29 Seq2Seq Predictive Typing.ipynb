{
 "cells": [
  {
   "cell_type": "code",
   "execution_count": 1,
   "id": "3c060fee-2d47-4589-9406-b93d73ddaee0",
   "metadata": {},
   "outputs": [
    {
     "name": "stdout",
     "output_type": "stream",
     "text": [
      "WARNING:tensorflow:From C:\\Users\\Administrator.DAI-PC2\\AppData\\Roaming\\Python\\Python311\\site-packages\\keras\\src\\losses.py:2976: The name tf.losses.sparse_softmax_cross_entropy is deprecated. Please use tf.compat.v1.losses.sparse_softmax_cross_entropy instead.\n",
      "\n"
     ]
    }
   ],
   "source": [
    "from gensim.models import Word2Vec\n",
    "from nltk.tokenize import word_tokenize\n",
    "from keras.preprocessing.sequence import pad_sequences \n",
    "from keras.preprocessing.text import Tokenizer\n",
    "from keras.models import Sequential\n",
    "from keras.layers import Embedding, LSTM, Dense\n",
    "import numpy as np\n",
    "import matplotlib.pyplot as plt\n",
    "import keras"
   ]
  },
  {
   "cell_type": "code",
   "execution_count": 2,
   "id": "d0e8ba30-dc5a-4204-aa62-f15086c42d8d",
   "metadata": {},
   "outputs": [],
   "source": [
    "#sample text data\n",
    "text_data = [\n",
    "    \"hello how are you\",\n",
    "    \"hello how have you been\",\n",
    "    \"hi there\",\n",
    "    \"good morning\",\n",
    "    \"good night\",\n",
    "    \"have a nice day\",\n",
    "    \"how is it going\",\n",
    "    \"how have you been\",\n",
    "    \"nice to meet you\",\n",
    "    \"thank you\"\n",
    "]"
   ]
  },
  {
   "cell_type": "markdown",
   "id": "2dff50b3-3f20-4c6c-880f-1bf14e73d08b",
   "metadata": {},
   "source": [
    "### Create the tokenizer"
   ]
  },
  {
   "cell_type": "code",
   "execution_count": 3,
   "id": "0ac9d6c0-bb38-4857-9b9e-0e7870e28263",
   "metadata": {},
   "outputs": [
    {
     "data": {
      "text/plain": [
       "21"
      ]
     },
     "execution_count": 3,
     "metadata": {},
     "output_type": "execute_result"
    }
   ],
   "source": [
    "#prepare the tokenizer\n",
    "tokenizer = Tokenizer()\n",
    "tokenizer.fit_on_texts(text_data)\n",
    "total_words = len(tokenizer.word_index)+ 1\n",
    "total_words"
   ]
  },
  {
   "cell_type": "code",
   "execution_count": 4,
   "id": "895ea893-e4a6-476e-b5e3-5a82326f1f01",
   "metadata": {},
   "outputs": [
    {
     "data": {
      "text/plain": [
       "{'you': 1,\n",
       " 'how': 2,\n",
       " 'have': 3,\n",
       " 'hello': 4,\n",
       " 'been': 5,\n",
       " 'good': 6,\n",
       " 'nice': 7,\n",
       " 'are': 8,\n",
       " 'hi': 9,\n",
       " 'there': 10,\n",
       " 'morning': 11,\n",
       " 'night': 12,\n",
       " 'a': 13,\n",
       " 'day': 14,\n",
       " 'is': 15,\n",
       " 'it': 16,\n",
       " 'going': 17,\n",
       " 'to': 18,\n",
       " 'meet': 19,\n",
       " 'thank': 20}"
      ]
     },
     "execution_count": 4,
     "metadata": {},
     "output_type": "execute_result"
    }
   ],
   "source": [
    "tokenizer.word_index"
   ]
  },
  {
   "cell_type": "code",
   "execution_count": 5,
   "id": "a89601f8-606c-482d-af4f-43212142b04a",
   "metadata": {},
   "outputs": [],
   "source": [
    "# create sequence of words\n",
    "input_sequences = []\n",
    "for line in text_data:\n",
    "    token_list = tokenizer.texts_to_sequences([line])[0]\n",
    "    for i in range(1, len(token_list)):\n",
    "        n_gram_sequence = token_list[:i+1]\n",
    "        input_sequences.append(n_gram_sequence)"
   ]
  },
  {
   "cell_type": "code",
   "execution_count": 6,
   "id": "b10ea854-c6b8-4280-8ef2-d1b60efaf85e",
   "metadata": {},
   "outputs": [
    {
     "data": {
      "text/plain": [
       "[[4, 2],\n",
       " [4, 2, 8],\n",
       " [4, 2, 8, 1],\n",
       " [4, 2],\n",
       " [4, 2, 3],\n",
       " [4, 2, 3, 1],\n",
       " [4, 2, 3, 1, 5],\n",
       " [9, 10],\n",
       " [6, 11],\n",
       " [6, 12],\n",
       " [3, 13],\n",
       " [3, 13, 7],\n",
       " [3, 13, 7, 14],\n",
       " [2, 15],\n",
       " [2, 15, 16],\n",
       " [2, 15, 16, 17],\n",
       " [2, 3],\n",
       " [2, 3, 1],\n",
       " [2, 3, 1, 5],\n",
       " [7, 18],\n",
       " [7, 18, 19],\n",
       " [7, 18, 19, 1],\n",
       " [20, 1]]"
      ]
     },
     "execution_count": 6,
     "metadata": {},
     "output_type": "execute_result"
    }
   ],
   "source": [
    "input_sequences"
   ]
  },
  {
   "cell_type": "code",
   "execution_count": 7,
   "id": "34a2bd14-8ea8-42b1-a525-9125f5f3744a",
   "metadata": {},
   "outputs": [],
   "source": [
    "max_sequence_len = max([len(x) for x in input_sequences])\n",
    "input_sequences = pad_sequences(\n",
    "    input_sequences, maxlen=max_sequence_len, padding='pre')"
   ]
  },
  {
   "cell_type": "code",
   "execution_count": 8,
   "id": "4f048a48-d0db-4202-bf03-b564915a3a2b",
   "metadata": {},
   "outputs": [
    {
     "data": {
      "text/plain": [
       "(23, 5)"
      ]
     },
     "execution_count": 8,
     "metadata": {},
     "output_type": "execute_result"
    }
   ],
   "source": [
    "input_sequences.shape"
   ]
  },
  {
   "cell_type": "code",
   "execution_count": 9,
   "id": "2049d736-76dc-4039-a9da-501fa3584206",
   "metadata": {},
   "outputs": [],
   "source": [
    "### split into features and labels\n",
    "input_sequences = np.array(input_sequences)\n",
    "X, y = input_sequences[:,:-1], input_sequences[:,-1]\n",
    "y = keras.utils.to_categorical(y, num_classes=total_words)"
   ]
  },
  {
   "cell_type": "code",
   "execution_count": 10,
   "id": "098c7f77-5552-485f-95f7-33e1d948cbee",
   "metadata": {},
   "outputs": [
    {
     "data": {
      "text/plain": [
       "array([ 2,  8,  1,  2,  3,  1,  5, 10, 11, 12, 13,  7, 14, 15, 16, 17,  3,\n",
       "        1,  5, 18, 19,  1,  1])"
      ]
     },
     "execution_count": 10,
     "metadata": {},
     "output_type": "execute_result"
    }
   ],
   "source": [
    "input_sequences[:,-1]"
   ]
  },
  {
   "cell_type": "code",
   "execution_count": 11,
   "id": "905bdd5d-9c98-49ca-88f3-182c8df52f34",
   "metadata": {
    "scrolled": true
   },
   "outputs": [
    {
     "data": {
      "text/plain": [
       "array([[0., 0., 1., 0., 0., 0., 0., 0., 0., 0., 0., 0., 0., 0., 0., 0.,\n",
       "        0., 0., 0., 0., 0.],\n",
       "       [0., 0., 0., 0., 0., 0., 0., 0., 1., 0., 0., 0., 0., 0., 0., 0.,\n",
       "        0., 0., 0., 0., 0.],\n",
       "       [0., 1., 0., 0., 0., 0., 0., 0., 0., 0., 0., 0., 0., 0., 0., 0.,\n",
       "        0., 0., 0., 0., 0.],\n",
       "       [0., 0., 1., 0., 0., 0., 0., 0., 0., 0., 0., 0., 0., 0., 0., 0.,\n",
       "        0., 0., 0., 0., 0.],\n",
       "       [0., 0., 0., 1., 0., 0., 0., 0., 0., 0., 0., 0., 0., 0., 0., 0.,\n",
       "        0., 0., 0., 0., 0.],\n",
       "       [0., 1., 0., 0., 0., 0., 0., 0., 0., 0., 0., 0., 0., 0., 0., 0.,\n",
       "        0., 0., 0., 0., 0.],\n",
       "       [0., 0., 0., 0., 0., 1., 0., 0., 0., 0., 0., 0., 0., 0., 0., 0.,\n",
       "        0., 0., 0., 0., 0.],\n",
       "       [0., 0., 0., 0., 0., 0., 0., 0., 0., 0., 1., 0., 0., 0., 0., 0.,\n",
       "        0., 0., 0., 0., 0.],\n",
       "       [0., 0., 0., 0., 0., 0., 0., 0., 0., 0., 0., 1., 0., 0., 0., 0.,\n",
       "        0., 0., 0., 0., 0.],\n",
       "       [0., 0., 0., 0., 0., 0., 0., 0., 0., 0., 0., 0., 1., 0., 0., 0.,\n",
       "        0., 0., 0., 0., 0.],\n",
       "       [0., 0., 0., 0., 0., 0., 0., 0., 0., 0., 0., 0., 0., 1., 0., 0.,\n",
       "        0., 0., 0., 0., 0.],\n",
       "       [0., 0., 0., 0., 0., 0., 0., 1., 0., 0., 0., 0., 0., 0., 0., 0.,\n",
       "        0., 0., 0., 0., 0.],\n",
       "       [0., 0., 0., 0., 0., 0., 0., 0., 0., 0., 0., 0., 0., 0., 1., 0.,\n",
       "        0., 0., 0., 0., 0.],\n",
       "       [0., 0., 0., 0., 0., 0., 0., 0., 0., 0., 0., 0., 0., 0., 0., 1.,\n",
       "        0., 0., 0., 0., 0.],\n",
       "       [0., 0., 0., 0., 0., 0., 0., 0., 0., 0., 0., 0., 0., 0., 0., 0.,\n",
       "        1., 0., 0., 0., 0.],\n",
       "       [0., 0., 0., 0., 0., 0., 0., 0., 0., 0., 0., 0., 0., 0., 0., 0.,\n",
       "        0., 1., 0., 0., 0.],\n",
       "       [0., 0., 0., 1., 0., 0., 0., 0., 0., 0., 0., 0., 0., 0., 0., 0.,\n",
       "        0., 0., 0., 0., 0.],\n",
       "       [0., 1., 0., 0., 0., 0., 0., 0., 0., 0., 0., 0., 0., 0., 0., 0.,\n",
       "        0., 0., 0., 0., 0.],\n",
       "       [0., 0., 0., 0., 0., 1., 0., 0., 0., 0., 0., 0., 0., 0., 0., 0.,\n",
       "        0., 0., 0., 0., 0.],\n",
       "       [0., 0., 0., 0., 0., 0., 0., 0., 0., 0., 0., 0., 0., 0., 0., 0.,\n",
       "        0., 0., 1., 0., 0.],\n",
       "       [0., 0., 0., 0., 0., 0., 0., 0., 0., 0., 0., 0., 0., 0., 0., 0.,\n",
       "        0., 0., 0., 1., 0.],\n",
       "       [0., 1., 0., 0., 0., 0., 0., 0., 0., 0., 0., 0., 0., 0., 0., 0.,\n",
       "        0., 0., 0., 0., 0.],\n",
       "       [0., 1., 0., 0., 0., 0., 0., 0., 0., 0., 0., 0., 0., 0., 0., 0.,\n",
       "        0., 0., 0., 0., 0.]], dtype=float32)"
      ]
     },
     "execution_count": 11,
     "metadata": {},
     "output_type": "execute_result"
    }
   ],
   "source": [
    "y"
   ]
  },
  {
   "cell_type": "code",
   "execution_count": 12,
   "id": "4eb67d95-61c0-4ea1-918a-a4d28e061856",
   "metadata": {},
   "outputs": [
    {
     "name": "stdout",
     "output_type": "stream",
     "text": [
      "WARNING:tensorflow:From C:\\Users\\Administrator.DAI-PC2\\AppData\\Roaming\\Python\\Python311\\site-packages\\keras\\src\\backend.py:873: The name tf.get_default_graph is deprecated. Please use tf.compat.v1.get_default_graph instead.\n",
      "\n"
     ]
    }
   ],
   "source": [
    "model = Sequential()\n",
    "model.add(Embedding(total_words, 10, input_length=max_sequence_len-1))\n",
    "model.add(LSTM(150, return_sequences =True))\n",
    "model.add(LSTM(100))\n",
    "model.add(Dense(total_words, activation='softmax'))"
   ]
  },
  {
   "cell_type": "markdown",
   "id": "ccafbc63-cc7b-40c1-8ec2-f02997c53904",
   "metadata": {},
   "source": [
    "### Compile the model"
   ]
  },
  {
   "cell_type": "code",
   "execution_count": 13,
   "id": "6a401629-2dc0-41f5-a483-ed5cb512df9c",
   "metadata": {},
   "outputs": [
    {
     "name": "stdout",
     "output_type": "stream",
     "text": [
      "WARNING:tensorflow:From C:\\Users\\Administrator.DAI-PC2\\AppData\\Roaming\\Python\\Python311\\site-packages\\keras\\src\\optimizers\\__init__.py:309: The name tf.train.Optimizer is deprecated. Please use tf.compat.v1.train.Optimizer instead.\n",
      "\n"
     ]
    }
   ],
   "source": [
    "model.compile(loss='categorical_crossentropy', optimizer='adam', metrics=['accuracy'])"
   ]
  },
  {
   "cell_type": "markdown",
   "id": "f869b503-a41d-484f-9ade-1078c6ef6e1e",
   "metadata": {},
   "source": [
    "### Train the model"
   ]
  },
  {
   "cell_type": "code",
   "execution_count": 14,
   "id": "277c030f-9ad1-4df4-8e38-5286b5a02864",
   "metadata": {
    "scrolled": true
   },
   "outputs": [
    {
     "name": "stdout",
     "output_type": "stream",
     "text": [
      "Epoch 1/200\n",
      "WARNING:tensorflow:From C:\\Users\\Administrator.DAI-PC2\\AppData\\Roaming\\Python\\Python311\\site-packages\\keras\\src\\utils\\tf_utils.py:492: The name tf.ragged.RaggedTensorValue is deprecated. Please use tf.compat.v1.ragged.RaggedTensorValue instead.\n",
      "\n",
      "WARNING:tensorflow:From C:\\Users\\Administrator.DAI-PC2\\AppData\\Roaming\\Python\\Python311\\site-packages\\keras\\src\\engine\\base_layer_utils.py:384: The name tf.executing_eagerly_outside_functions is deprecated. Please use tf.compat.v1.executing_eagerly_outside_functions instead.\n",
      "\n",
      "23/23 [==============================] - 7s 7ms/step - loss: 3.0435 - accuracy: 0.1739\n",
      "Epoch 2/200\n",
      "23/23 [==============================] - 0s 7ms/step - loss: 2.9968 - accuracy: 0.2174\n",
      "Epoch 3/200\n",
      "23/23 [==============================] - 0s 7ms/step - loss: 2.8545 - accuracy: 0.2174\n",
      "Epoch 4/200\n",
      "23/23 [==============================] - 0s 7ms/step - loss: 2.7589 - accuracy: 0.2174\n",
      "Epoch 5/200\n",
      "23/23 [==============================] - 0s 7ms/step - loss: 2.6959 - accuracy: 0.2174\n",
      "Epoch 6/200\n",
      "23/23 [==============================] - 0s 7ms/step - loss: 2.6573 - accuracy: 0.2174\n",
      "Epoch 7/200\n",
      "23/23 [==============================] - 0s 7ms/step - loss: 2.6379 - accuracy: 0.2174\n",
      "Epoch 8/200\n",
      "23/23 [==============================] - 0s 7ms/step - loss: 2.6286 - accuracy: 0.2174\n",
      "Epoch 9/200\n",
      "23/23 [==============================] - 0s 6ms/step - loss: 2.5908 - accuracy: 0.2174\n",
      "Epoch 10/200\n",
      "23/23 [==============================] - 0s 7ms/step - loss: 2.5655 - accuracy: 0.2174\n",
      "Epoch 11/200\n",
      "23/23 [==============================] - 0s 7ms/step - loss: 2.5402 - accuracy: 0.2174\n",
      "Epoch 12/200\n",
      "23/23 [==============================] - 0s 7ms/step - loss: 2.4784 - accuracy: 0.2174\n",
      "Epoch 13/200\n",
      "23/23 [==============================] - 0s 7ms/step - loss: 2.4499 - accuracy: 0.2174\n",
      "Epoch 14/200\n",
      "23/23 [==============================] - 0s 7ms/step - loss: 2.3958 - accuracy: 0.2609\n",
      "Epoch 15/200\n",
      "23/23 [==============================] - 0s 7ms/step - loss: 2.3300 - accuracy: 0.2609\n",
      "Epoch 16/200\n",
      "23/23 [==============================] - 0s 7ms/step - loss: 2.2984 - accuracy: 0.2609\n",
      "Epoch 17/200\n",
      "23/23 [==============================] - 0s 6ms/step - loss: 2.2327 - accuracy: 0.3043\n",
      "Epoch 18/200\n",
      "23/23 [==============================] - 0s 6ms/step - loss: 2.1423 - accuracy: 0.3043\n",
      "Epoch 19/200\n",
      "23/23 [==============================] - 0s 6ms/step - loss: 2.0519 - accuracy: 0.3913\n",
      "Epoch 20/200\n",
      "23/23 [==============================] - 0s 6ms/step - loss: 1.9666 - accuracy: 0.3478\n",
      "Epoch 21/200\n",
      "23/23 [==============================] - 0s 6ms/step - loss: 1.8025 - accuracy: 0.4348\n",
      "Epoch 22/200\n",
      "23/23 [==============================] - 0s 7ms/step - loss: 1.6885 - accuracy: 0.3478\n",
      "Epoch 23/200\n",
      "23/23 [==============================] - 0s 7ms/step - loss: 1.6580 - accuracy: 0.5217\n",
      "Epoch 24/200\n",
      "23/23 [==============================] - 0s 7ms/step - loss: 1.4746 - accuracy: 0.4783\n",
      "Epoch 25/200\n",
      "23/23 [==============================] - 0s 7ms/step - loss: 1.3114 - accuracy: 0.5217\n",
      "Epoch 26/200\n",
      "23/23 [==============================] - 0s 6ms/step - loss: 1.2046 - accuracy: 0.5652\n",
      "Epoch 27/200\n",
      "23/23 [==============================] - 0s 7ms/step - loss: 1.1318 - accuracy: 0.5652\n",
      "Epoch 28/200\n",
      "23/23 [==============================] - 0s 7ms/step - loss: 1.1285 - accuracy: 0.5217\n",
      "Epoch 29/200\n",
      "23/23 [==============================] - 0s 7ms/step - loss: 1.0490 - accuracy: 0.6087\n",
      "Epoch 30/200\n",
      "23/23 [==============================] - 0s 8ms/step - loss: 1.1038 - accuracy: 0.5652\n",
      "Epoch 31/200\n",
      "23/23 [==============================] - 0s 7ms/step - loss: 0.9499 - accuracy: 0.6522\n",
      "Epoch 32/200\n",
      "23/23 [==============================] - 0s 7ms/step - loss: 0.9598 - accuracy: 0.5217\n",
      "Epoch 33/200\n",
      "23/23 [==============================] - 0s 7ms/step - loss: 0.9259 - accuracy: 0.6522\n",
      "Epoch 34/200\n",
      "23/23 [==============================] - 0s 7ms/step - loss: 0.9277 - accuracy: 0.5652\n",
      "Epoch 35/200\n",
      "23/23 [==============================] - 0s 7ms/step - loss: 0.8554 - accuracy: 0.6087\n",
      "Epoch 36/200\n",
      "23/23 [==============================] - 0s 7ms/step - loss: 0.7908 - accuracy: 0.5652\n",
      "Epoch 37/200\n",
      "23/23 [==============================] - 0s 7ms/step - loss: 0.7707 - accuracy: 0.6522\n",
      "Epoch 38/200\n",
      "23/23 [==============================] - 0s 8ms/step - loss: 0.7299 - accuracy: 0.6522\n",
      "Epoch 39/200\n",
      "23/23 [==============================] - 0s 7ms/step - loss: 0.6979 - accuracy: 0.6087\n",
      "Epoch 40/200\n",
      "23/23 [==============================] - 0s 8ms/step - loss: 0.6772 - accuracy: 0.7391\n",
      "Epoch 41/200\n",
      "23/23 [==============================] - 0s 7ms/step - loss: 0.6894 - accuracy: 0.6957\n",
      "Epoch 42/200\n",
      "23/23 [==============================] - 0s 7ms/step - loss: 0.8169 - accuracy: 0.6087\n",
      "Epoch 43/200\n",
      "23/23 [==============================] - 0s 7ms/step - loss: 0.7452 - accuracy: 0.7391\n",
      "Epoch 44/200\n",
      "23/23 [==============================] - 0s 7ms/step - loss: 0.6593 - accuracy: 0.7391\n",
      "Epoch 45/200\n",
      "23/23 [==============================] - 0s 7ms/step - loss: 0.6150 - accuracy: 0.6957\n",
      "Epoch 46/200\n",
      "23/23 [==============================] - 0s 7ms/step - loss: 0.5600 - accuracy: 0.7826\n",
      "Epoch 47/200\n",
      "23/23 [==============================] - 0s 8ms/step - loss: 0.5510 - accuracy: 0.7826\n",
      "Epoch 48/200\n",
      "23/23 [==============================] - 0s 7ms/step - loss: 0.5248 - accuracy: 0.7391\n",
      "Epoch 49/200\n",
      "23/23 [==============================] - 0s 7ms/step - loss: 0.5182 - accuracy: 0.6957\n",
      "Epoch 50/200\n",
      "23/23 [==============================] - 0s 7ms/step - loss: 0.5094 - accuracy: 0.7391\n",
      "Epoch 51/200\n",
      "23/23 [==============================] - 0s 7ms/step - loss: 0.4874 - accuracy: 0.7391\n",
      "Epoch 52/200\n",
      "23/23 [==============================] - 0s 7ms/step - loss: 0.4778 - accuracy: 0.8261\n",
      "Epoch 53/200\n",
      "23/23 [==============================] - 0s 7ms/step - loss: 0.4616 - accuracy: 0.7826\n",
      "Epoch 54/200\n",
      "23/23 [==============================] - 0s 8ms/step - loss: 0.4406 - accuracy: 0.6957\n",
      "Epoch 55/200\n",
      "23/23 [==============================] - 0s 8ms/step - loss: 0.4854 - accuracy: 0.6522\n",
      "Epoch 56/200\n",
      "23/23 [==============================] - 0s 7ms/step - loss: 0.4551 - accuracy: 0.7391\n",
      "Epoch 57/200\n",
      "23/23 [==============================] - 0s 7ms/step - loss: 0.4784 - accuracy: 0.7391\n",
      "Epoch 58/200\n",
      "23/23 [==============================] - 0s 7ms/step - loss: 0.4295 - accuracy: 0.7391\n",
      "Epoch 59/200\n",
      "23/23 [==============================] - 0s 7ms/step - loss: 0.4581 - accuracy: 0.7391\n",
      "Epoch 60/200\n",
      "23/23 [==============================] - 0s 7ms/step - loss: 0.4141 - accuracy: 0.7826\n",
      "Epoch 61/200\n",
      "23/23 [==============================] - 0s 7ms/step - loss: 0.4010 - accuracy: 0.7391\n",
      "Epoch 62/200\n",
      "23/23 [==============================] - 0s 7ms/step - loss: 0.4022 - accuracy: 0.7826\n",
      "Epoch 63/200\n",
      "23/23 [==============================] - 0s 7ms/step - loss: 0.4278 - accuracy: 0.7391\n",
      "Epoch 64/200\n",
      "23/23 [==============================] - 0s 7ms/step - loss: 0.3946 - accuracy: 0.7391\n",
      "Epoch 65/200\n",
      "23/23 [==============================] - 0s 7ms/step - loss: 0.3961 - accuracy: 0.6957\n",
      "Epoch 66/200\n",
      "23/23 [==============================] - 0s 6ms/step - loss: 0.3929 - accuracy: 0.7391\n",
      "Epoch 67/200\n",
      "23/23 [==============================] - 0s 7ms/step - loss: 0.3613 - accuracy: 0.8261\n",
      "Epoch 68/200\n",
      "23/23 [==============================] - 0s 6ms/step - loss: 0.3888 - accuracy: 0.6957\n",
      "Epoch 69/200\n",
      "23/23 [==============================] - 0s 7ms/step - loss: 0.3707 - accuracy: 0.7826\n",
      "Epoch 70/200\n",
      "23/23 [==============================] - 0s 7ms/step - loss: 0.3545 - accuracy: 0.7826\n",
      "Epoch 71/200\n",
      "23/23 [==============================] - 0s 7ms/step - loss: 0.3575 - accuracy: 0.7391\n",
      "Epoch 72/200\n",
      "23/23 [==============================] - 0s 6ms/step - loss: 0.3116 - accuracy: 0.8696\n",
      "Epoch 73/200\n",
      "23/23 [==============================] - 0s 6ms/step - loss: 0.3168 - accuracy: 0.8696\n",
      "Epoch 74/200\n",
      "23/23 [==============================] - 0s 7ms/step - loss: 0.3211 - accuracy: 0.7391\n",
      "Epoch 75/200\n",
      "23/23 [==============================] - 0s 6ms/step - loss: 0.3205 - accuracy: 0.8261\n",
      "Epoch 76/200\n",
      "23/23 [==============================] - 0s 7ms/step - loss: 0.3157 - accuracy: 0.7826\n",
      "Epoch 77/200\n",
      "23/23 [==============================] - 0s 7ms/step - loss: 0.3012 - accuracy: 0.7391\n",
      "Epoch 78/200\n",
      "23/23 [==============================] - 0s 7ms/step - loss: 0.3226 - accuracy: 0.7826\n",
      "Epoch 79/200\n",
      "23/23 [==============================] - 0s 7ms/step - loss: 0.2908 - accuracy: 0.7826\n",
      "Epoch 80/200\n",
      "23/23 [==============================] - 0s 7ms/step - loss: 0.3168 - accuracy: 0.8261\n",
      "Epoch 81/200\n",
      "23/23 [==============================] - 0s 6ms/step - loss: 0.2875 - accuracy: 0.8261\n",
      "Epoch 82/200\n",
      "23/23 [==============================] - 0s 7ms/step - loss: 0.2705 - accuracy: 0.7826\n",
      "Epoch 83/200\n",
      "23/23 [==============================] - 0s 7ms/step - loss: 0.2634 - accuracy: 0.8696\n",
      "Epoch 84/200\n",
      "23/23 [==============================] - 0s 6ms/step - loss: 0.2652 - accuracy: 0.8696\n",
      "Epoch 85/200\n",
      "23/23 [==============================] - 0s 6ms/step - loss: 0.2616 - accuracy: 0.7391\n",
      "Epoch 86/200\n",
      "23/23 [==============================] - 0s 7ms/step - loss: 0.2612 - accuracy: 0.7826\n",
      "Epoch 87/200\n",
      "23/23 [==============================] - 0s 8ms/step - loss: 0.2680 - accuracy: 0.7826\n",
      "Epoch 88/200\n",
      "23/23 [==============================] - 0s 7ms/step - loss: 0.2566 - accuracy: 0.7826\n",
      "Epoch 89/200\n",
      "23/23 [==============================] - 0s 7ms/step - loss: 0.2587 - accuracy: 0.8261\n",
      "Epoch 90/200\n",
      "23/23 [==============================] - 0s 6ms/step - loss: 0.2474 - accuracy: 0.8261\n",
      "Epoch 91/200\n",
      "23/23 [==============================] - 0s 7ms/step - loss: 0.2555 - accuracy: 0.7826\n",
      "Epoch 92/200\n",
      "23/23 [==============================] - 0s 7ms/step - loss: 0.2518 - accuracy: 0.7826\n",
      "Epoch 93/200\n",
      "23/23 [==============================] - 0s 7ms/step - loss: 0.2444 - accuracy: 0.8261\n",
      "Epoch 94/200\n",
      "23/23 [==============================] - 0s 7ms/step - loss: 0.2380 - accuracy: 0.8261\n",
      "Epoch 95/200\n",
      "23/23 [==============================] - 0s 7ms/step - loss: 0.2386 - accuracy: 0.8261\n",
      "Epoch 96/200\n",
      "23/23 [==============================] - 0s 6ms/step - loss: 0.2452 - accuracy: 0.8261\n",
      "Epoch 97/200\n",
      "23/23 [==============================] - 0s 6ms/step - loss: 0.2343 - accuracy: 0.8696\n",
      "Epoch 98/200\n",
      "23/23 [==============================] - 0s 7ms/step - loss: 0.2389 - accuracy: 0.7391\n",
      "Epoch 99/200\n",
      "23/23 [==============================] - 0s 7ms/step - loss: 0.2295 - accuracy: 0.8261\n",
      "Epoch 100/200\n",
      "23/23 [==============================] - 0s 7ms/step - loss: 0.2395 - accuracy: 0.7826\n",
      "Epoch 101/200\n",
      "23/23 [==============================] - 0s 6ms/step - loss: 0.2257 - accuracy: 0.8261\n",
      "Epoch 102/200\n",
      "23/23 [==============================] - 0s 7ms/step - loss: 0.2311 - accuracy: 0.8261\n",
      "Epoch 103/200\n",
      "23/23 [==============================] - 0s 8ms/step - loss: 0.2270 - accuracy: 0.7826\n",
      "Epoch 104/200\n",
      "23/23 [==============================] - 0s 6ms/step - loss: 0.2378 - accuracy: 0.8696\n",
      "Epoch 105/200\n",
      "23/23 [==============================] - 0s 7ms/step - loss: 0.2463 - accuracy: 0.7826\n",
      "Epoch 106/200\n",
      "23/23 [==============================] - 0s 6ms/step - loss: 0.2390 - accuracy: 0.8261\n",
      "Epoch 107/200\n",
      "23/23 [==============================] - 0s 7ms/step - loss: 0.2338 - accuracy: 0.7826\n",
      "Epoch 108/200\n",
      "23/23 [==============================] - 0s 7ms/step - loss: 0.2279 - accuracy: 0.7826\n",
      "Epoch 109/200\n",
      "23/23 [==============================] - 0s 7ms/step - loss: 0.2233 - accuracy: 0.7826\n",
      "Epoch 110/200\n",
      "23/23 [==============================] - 0s 7ms/step - loss: 0.2383 - accuracy: 0.7826\n",
      "Epoch 111/200\n",
      "23/23 [==============================] - 0s 6ms/step - loss: 0.2135 - accuracy: 0.7826\n",
      "Epoch 112/200\n",
      "23/23 [==============================] - 0s 7ms/step - loss: 0.2185 - accuracy: 0.7826\n",
      "Epoch 113/200\n",
      "23/23 [==============================] - 0s 7ms/step - loss: 0.2243 - accuracy: 0.8261\n",
      "Epoch 114/200\n",
      "23/23 [==============================] - 0s 7ms/step - loss: 0.2124 - accuracy: 0.8261\n",
      "Epoch 115/200\n",
      "23/23 [==============================] - 0s 7ms/step - loss: 0.2199 - accuracy: 0.8261\n",
      "Epoch 116/200\n",
      "23/23 [==============================] - 0s 7ms/step - loss: 0.2212 - accuracy: 0.7826\n",
      "Epoch 117/200\n",
      "23/23 [==============================] - 0s 7ms/step - loss: 0.2257 - accuracy: 0.8696\n",
      "Epoch 118/200\n",
      "23/23 [==============================] - 0s 7ms/step - loss: 0.2185 - accuracy: 0.7826\n",
      "Epoch 119/200\n",
      "23/23 [==============================] - 0s 7ms/step - loss: 0.2196 - accuracy: 0.8696\n",
      "Epoch 120/200\n",
      "23/23 [==============================] - 0s 7ms/step - loss: 0.2261 - accuracy: 0.8261\n",
      "Epoch 121/200\n",
      "23/23 [==============================] - 0s 7ms/step - loss: 0.2184 - accuracy: 0.8696\n",
      "Epoch 122/200\n",
      "23/23 [==============================] - 0s 7ms/step - loss: 0.2241 - accuracy: 0.7391\n",
      "Epoch 123/200\n",
      "23/23 [==============================] - 0s 7ms/step - loss: 0.2131 - accuracy: 0.7826\n",
      "Epoch 124/200\n",
      "23/23 [==============================] - 0s 7ms/step - loss: 0.2131 - accuracy: 0.8261\n",
      "Epoch 125/200\n",
      "23/23 [==============================] - 0s 7ms/step - loss: 0.2143 - accuracy: 0.7826\n",
      "Epoch 126/200\n",
      "23/23 [==============================] - 0s 7ms/step - loss: 0.2200 - accuracy: 0.7826\n",
      "Epoch 127/200\n",
      "23/23 [==============================] - 0s 7ms/step - loss: 0.2170 - accuracy: 0.8261\n",
      "Epoch 128/200\n",
      "23/23 [==============================] - 0s 7ms/step - loss: 0.2125 - accuracy: 0.7826\n",
      "Epoch 129/200\n",
      "23/23 [==============================] - 0s 7ms/step - loss: 0.2157 - accuracy: 0.8261\n",
      "Epoch 130/200\n",
      "23/23 [==============================] - 0s 6ms/step - loss: 0.2190 - accuracy: 0.8261\n",
      "Epoch 131/200\n",
      "23/23 [==============================] - 0s 7ms/step - loss: 0.2125 - accuracy: 0.7391\n",
      "Epoch 132/200\n",
      "23/23 [==============================] - 0s 6ms/step - loss: 0.2120 - accuracy: 0.7391\n",
      "Epoch 133/200\n",
      "23/23 [==============================] - 0s 6ms/step - loss: 0.2229 - accuracy: 0.7391\n",
      "Epoch 134/200\n",
      "23/23 [==============================] - 0s 7ms/step - loss: 0.2071 - accuracy: 0.8696\n",
      "Epoch 135/200\n",
      "23/23 [==============================] - 0s 7ms/step - loss: 0.2083 - accuracy: 0.8696\n",
      "Epoch 136/200\n",
      "23/23 [==============================] - 0s 7ms/step - loss: 0.2148 - accuracy: 0.8261\n",
      "Epoch 137/200\n",
      "23/23 [==============================] - 0s 7ms/step - loss: 0.2113 - accuracy: 0.8696\n",
      "Epoch 138/200\n",
      "23/23 [==============================] - 0s 7ms/step - loss: 0.2304 - accuracy: 0.8261\n",
      "Epoch 139/200\n",
      "23/23 [==============================] - 0s 7ms/step - loss: 0.2198 - accuracy: 0.7826\n",
      "Epoch 140/200\n",
      "23/23 [==============================] - 0s 7ms/step - loss: 0.2207 - accuracy: 0.7826\n",
      "Epoch 141/200\n",
      "23/23 [==============================] - 0s 6ms/step - loss: 0.2197 - accuracy: 0.7391\n",
      "Epoch 142/200\n",
      "23/23 [==============================] - 0s 7ms/step - loss: 0.2028 - accuracy: 0.8261\n",
      "Epoch 143/200\n",
      "23/23 [==============================] - 0s 7ms/step - loss: 0.2155 - accuracy: 0.8261\n",
      "Epoch 144/200\n",
      "23/23 [==============================] - 0s 7ms/step - loss: 0.2115 - accuracy: 0.7391\n",
      "Epoch 145/200\n",
      "23/23 [==============================] - 0s 8ms/step - loss: 0.2265 - accuracy: 0.7826\n",
      "Epoch 146/200\n",
      "23/23 [==============================] - 0s 7ms/step - loss: 0.2187 - accuracy: 0.8261\n",
      "Epoch 147/200\n",
      "23/23 [==============================] - 0s 7ms/step - loss: 0.2062 - accuracy: 0.7826\n",
      "Epoch 148/200\n",
      "23/23 [==============================] - 0s 7ms/step - loss: 0.2115 - accuracy: 0.7826\n",
      "Epoch 149/200\n",
      "23/23 [==============================] - 0s 7ms/step - loss: 0.2163 - accuracy: 0.8261\n",
      "Epoch 150/200\n",
      "23/23 [==============================] - 0s 7ms/step - loss: 0.2016 - accuracy: 0.8261\n",
      "Epoch 151/200\n",
      "23/23 [==============================] - 0s 7ms/step - loss: 0.2013 - accuracy: 0.8261\n",
      "Epoch 152/200\n",
      "23/23 [==============================] - 0s 7ms/step - loss: 0.2039 - accuracy: 0.8696\n",
      "Epoch 153/200\n",
      "23/23 [==============================] - 0s 8ms/step - loss: 0.2127 - accuracy: 0.8261\n",
      "Epoch 154/200\n",
      "23/23 [==============================] - 0s 8ms/step - loss: 0.2008 - accuracy: 0.8696\n",
      "Epoch 155/200\n",
      "23/23 [==============================] - 0s 7ms/step - loss: 0.2046 - accuracy: 0.7826\n",
      "Epoch 156/200\n",
      "23/23 [==============================] - 0s 7ms/step - loss: 0.2074 - accuracy: 0.8261\n",
      "Epoch 157/200\n",
      "23/23 [==============================] - 0s 7ms/step - loss: 0.2063 - accuracy: 0.7826\n",
      "Epoch 158/200\n",
      "23/23 [==============================] - 0s 7ms/step - loss: 0.1962 - accuracy: 0.8261\n",
      "Epoch 159/200\n",
      "23/23 [==============================] - 0s 7ms/step - loss: 0.1997 - accuracy: 0.7391\n",
      "Epoch 160/200\n",
      "23/23 [==============================] - 0s 7ms/step - loss: 0.2058 - accuracy: 0.7826\n",
      "Epoch 161/200\n",
      "23/23 [==============================] - 0s 7ms/step - loss: 0.2174 - accuracy: 0.8261\n",
      "Epoch 162/200\n",
      "23/23 [==============================] - 0s 8ms/step - loss: 0.1996 - accuracy: 0.8261\n",
      "Epoch 163/200\n",
      "23/23 [==============================] - 0s 8ms/step - loss: 0.2084 - accuracy: 0.7391\n",
      "Epoch 164/200\n",
      "23/23 [==============================] - 0s 7ms/step - loss: 0.2102 - accuracy: 0.8261\n",
      "Epoch 165/200\n",
      "23/23 [==============================] - 0s 7ms/step - loss: 0.1979 - accuracy: 0.8261\n",
      "Epoch 166/200\n",
      "23/23 [==============================] - 0s 6ms/step - loss: 0.1959 - accuracy: 0.7826\n",
      "Epoch 167/200\n",
      "23/23 [==============================] - 0s 7ms/step - loss: 0.2070 - accuracy: 0.7826\n",
      "Epoch 168/200\n",
      "23/23 [==============================] - 0s 6ms/step - loss: 0.2052 - accuracy: 0.8261\n",
      "Epoch 169/200\n",
      "23/23 [==============================] - 0s 8ms/step - loss: 0.2076 - accuracy: 0.7391\n",
      "Epoch 170/200\n",
      "23/23 [==============================] - 0s 7ms/step - loss: 0.2043 - accuracy: 0.7826\n",
      "Epoch 171/200\n",
      "23/23 [==============================] - 0s 7ms/step - loss: 0.2060 - accuracy: 0.8696\n",
      "Epoch 172/200\n",
      "23/23 [==============================] - 0s 7ms/step - loss: 0.1977 - accuracy: 0.8261\n",
      "Epoch 173/200\n",
      "23/23 [==============================] - 0s 6ms/step - loss: 0.2050 - accuracy: 0.7826\n",
      "Epoch 174/200\n",
      "23/23 [==============================] - 0s 7ms/step - loss: 0.2045 - accuracy: 0.7826\n",
      "Epoch 175/200\n",
      "23/23 [==============================] - 0s 8ms/step - loss: 0.2021 - accuracy: 0.7826\n",
      "Epoch 176/200\n",
      "23/23 [==============================] - 0s 7ms/step - loss: 0.2059 - accuracy: 0.8696\n",
      "Epoch 177/200\n",
      "23/23 [==============================] - 0s 7ms/step - loss: 0.2046 - accuracy: 0.7826\n",
      "Epoch 178/200\n",
      "23/23 [==============================] - 0s 7ms/step - loss: 0.2017 - accuracy: 0.8696\n",
      "Epoch 179/200\n",
      "23/23 [==============================] - 0s 7ms/step - loss: 0.2057 - accuracy: 0.8696\n",
      "Epoch 180/200\n",
      "23/23 [==============================] - 0s 6ms/step - loss: 0.2007 - accuracy: 0.8696\n",
      "Epoch 181/200\n",
      "23/23 [==============================] - 0s 7ms/step - loss: 0.1951 - accuracy: 0.8696\n",
      "Epoch 182/200\n",
      "23/23 [==============================] - 0s 7ms/step - loss: 0.2072 - accuracy: 0.8261\n",
      "Epoch 183/200\n",
      "23/23 [==============================] - 0s 7ms/step - loss: 0.2018 - accuracy: 0.8261\n",
      "Epoch 184/200\n",
      "23/23 [==============================] - 0s 7ms/step - loss: 0.2010 - accuracy: 0.8261\n",
      "Epoch 185/200\n",
      "23/23 [==============================] - 0s 7ms/step - loss: 0.2042 - accuracy: 0.8261\n",
      "Epoch 186/200\n",
      "23/23 [==============================] - 0s 8ms/step - loss: 0.2043 - accuracy: 0.7826\n",
      "Epoch 187/200\n",
      "23/23 [==============================] - 0s 6ms/step - loss: 0.1956 - accuracy: 0.7391\n",
      "Epoch 188/200\n",
      "23/23 [==============================] - 0s 7ms/step - loss: 0.2132 - accuracy: 0.8261\n",
      "Epoch 189/200\n",
      "23/23 [==============================] - 0s 7ms/step - loss: 0.2011 - accuracy: 0.8261\n",
      "Epoch 190/200\n",
      "23/23 [==============================] - 0s 7ms/step - loss: 0.2108 - accuracy: 0.7826\n",
      "Epoch 191/200\n",
      "23/23 [==============================] - 0s 7ms/step - loss: 0.2056 - accuracy: 0.7826\n",
      "Epoch 192/200\n",
      "23/23 [==============================] - 0s 7ms/step - loss: 0.2044 - accuracy: 0.8261\n",
      "Epoch 193/200\n",
      "23/23 [==============================] - 0s 6ms/step - loss: 0.2053 - accuracy: 0.8261\n",
      "Epoch 194/200\n",
      "23/23 [==============================] - 0s 6ms/step - loss: 0.1979 - accuracy: 0.7826\n",
      "Epoch 195/200\n",
      "23/23 [==============================] - 0s 6ms/step - loss: 0.2091 - accuracy: 0.8261\n",
      "Epoch 196/200\n",
      "23/23 [==============================] - 0s 7ms/step - loss: 0.2035 - accuracy: 0.8261\n",
      "Epoch 197/200\n",
      "23/23 [==============================] - 0s 6ms/step - loss: 0.2088 - accuracy: 0.7826\n",
      "Epoch 198/200\n",
      "23/23 [==============================] - 0s 7ms/step - loss: 0.2077 - accuracy: 0.8261\n",
      "Epoch 199/200\n",
      "23/23 [==============================] - 0s 7ms/step - loss: 0.1922 - accuracy: 0.8696\n",
      "Epoch 200/200\n",
      "23/23 [==============================] - 0s 7ms/step - loss: 0.1967 - accuracy: 0.7826\n"
     ]
    },
    {
     "data": {
      "text/plain": [
       "<keras.src.callbacks.History at 0x244325f0850>"
      ]
     },
     "execution_count": 14,
     "metadata": {},
     "output_type": "execute_result"
    }
   ],
   "source": [
    "model.fit(X, y, epochs=200, batch_size=1)"
   ]
  },
  {
   "cell_type": "markdown",
   "id": "5b9ceaaf-5e4c-4b2f-9fbd-67b6e39f8c15",
   "metadata": {},
   "source": [
    "### Predictions on new data"
   ]
  },
  {
   "cell_type": "code",
   "execution_count": 15,
   "id": "3df3c706-344d-40e3-aa01-d9720ade36ad",
   "metadata": {},
   "outputs": [],
   "source": [
    "def predict_next_word(model, tokenizer, text, max_sequence_len):\n",
    "    token_list = tokenizer.texts_to_sequences([text])[0]\n",
    "    token_list = pad_sequences([token_list], maxlen=max_sequence_len-1, padding='pre')\n",
    "    predicted = model.predict(token_list, verbose=0)\n",
    "    predicted_word_index = np.argmax(predicted)\n",
    "    output_word=\"\"\n",
    "    for word, index in tokenizer.word_index.items():\n",
    "        if index == predicted_word_index:\n",
    "            output_word = word\n",
    "            break\n",
    "    return output_word"
   ]
  },
  {
   "cell_type": "code",
   "execution_count": 16,
   "id": "715b121d-6407-4c54-aad7-7d26eae4df3f",
   "metadata": {},
   "outputs": [
    {
     "name": "stdout",
     "output_type": "stream",
     "text": [
      "Next word: to\n"
     ]
    }
   ],
   "source": [
    "new = 'nice'\n",
    "\n",
    "next_word = predict_next_word(model, tokenizer, new, max_sequence_len)\n",
    "print(f\"Next word: {next_word}\")"
   ]
  }
 ],
 "metadata": {
  "kernelspec": {
   "display_name": "Python 3 (ipykernel)",
   "language": "python",
   "name": "python3"
  },
  "language_info": {
   "codemirror_mode": {
    "name": "ipython",
    "version": 3
   },
   "file_extension": ".py",
   "mimetype": "text/x-python",
   "name": "python",
   "nbconvert_exporter": "python",
   "pygments_lexer": "ipython3",
   "version": "3.11.7"
  }
 },
 "nbformat": 4,
 "nbformat_minor": 5
}
