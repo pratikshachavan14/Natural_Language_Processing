{
 "cells": [
  {
   "cell_type": "code",
   "execution_count": 1,
   "id": "9007446e-c009-487c-9f3b-ce6da0c0a871",
   "metadata": {},
   "outputs": [],
   "source": [
    "#pip install gtts playsound"
   ]
  },
  {
   "cell_type": "markdown",
   "id": "3a96b255-ba4a-4ef0-895b-e3564a4ef731",
   "metadata": {},
   "source": [
    "#### Import the classes"
   ]
  },
  {
   "cell_type": "code",
   "execution_count": 2,
   "id": "527024cb-20b7-4422-a923-3ae9e6d40725",
   "metadata": {},
   "outputs": [],
   "source": [
    "from gtts import gTTS\n",
    "from playsound import playsound"
   ]
  },
  {
   "cell_type": "markdown",
   "id": "be76b4b3-d767-4edc-8407-af050ad71e17",
   "metadata": {},
   "source": [
    "#### Create the object"
   ]
  },
  {
   "cell_type": "code",
   "execution_count": 3,
   "id": "0762ee67-846f-42f4-af4c-0ff9a4173111",
   "metadata": {},
   "outputs": [],
   "source": [
    "tts = gTTS(text=\"Hello friends, how are you?\", lang= 'en')"
   ]
  },
  {
   "cell_type": "markdown",
   "id": "d21a36c6-3f70-460a-938f-f62d26ea1a53",
   "metadata": {},
   "source": [
    "#### Save and play the sound"
   ]
  },
  {
   "cell_type": "code",
   "execution_count": 4,
   "id": "75fcfb50-c865-40e9-94f6-ab7a7c6105d4",
   "metadata": {},
   "outputs": [],
   "source": [
    "tts.save('speech.mp3')\n",
    "playsound('speech.mp3')"
   ]
  },
  {
   "cell_type": "markdown",
   "id": "52ac33b1-82a3-47f6-8bb9-22287883771b",
   "metadata": {},
   "source": [
    "### Try in non english"
   ]
  },
  {
   "cell_type": "code",
   "execution_count": 5,
   "id": "eaccabef-d73d-4bfc-8b0c-e6a3a95ab938",
   "metadata": {},
   "outputs": [],
   "source": [
    "tts = gTTS(text=\"नमस्कार तुमचे पुणे मध्ये स्वागत आहे \", lang= 'mr')"
   ]
  },
  {
   "cell_type": "code",
   "execution_count": 6,
   "id": "1a3151c5-0869-4dd7-8a9a-ef6b57d798ed",
   "metadata": {},
   "outputs": [],
   "source": [
    "tts.save('speechmr.mp3')\n",
    "playsound('speechmr.mp3')"
   ]
  },
  {
   "cell_type": "code",
   "execution_count": 10,
   "id": "58acac5f-754b-4db0-ab16-2f9beab1fc18",
   "metadata": {},
   "outputs": [],
   "source": [
    "tts = gTTS(text='おはようございなす 急は 月曜日です', lang='jw')"
   ]
  },
  {
   "cell_type": "code",
   "execution_count": 12,
   "id": "c7f3fa30-83fb-473f-8069-d96a8e8b90da",
   "metadata": {},
   "outputs": [],
   "source": [
    "tts.save('speechjw1.mp3')\n",
    "playsound('speechjw1.mp3')"
   ]
  }
 ],
 "metadata": {
  "kernelspec": {
   "display_name": "Python 3 (ipykernel)",
   "language": "python",
   "name": "python3"
  },
  "language_info": {
   "codemirror_mode": {
    "name": "ipython",
    "version": 3
   },
   "file_extension": ".py",
   "mimetype": "text/x-python",
   "name": "python",
   "nbconvert_exporter": "python",
   "pygments_lexer": "ipython3",
   "version": "3.11.7"
  }
 },
 "nbformat": 4,
 "nbformat_minor": 5
}
